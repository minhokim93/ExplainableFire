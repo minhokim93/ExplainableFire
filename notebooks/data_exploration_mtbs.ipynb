{
 "cells": [
  {
   "cell_type": "code",
   "execution_count": 1,
   "metadata": {},
   "outputs": [],
   "source": [
    "import rasterio, os, glob, warnings, time\n",
    "import numpy as np\n",
    "import pandas as pd\n",
    "import geopandas as gpd\n",
    "\n",
    "import matplotlib.pyplot as plt\n",
    "import matplotlib\n",
    "%matplotlib inline\n",
    "plt.rcParams['font.size'] = 18\n",
    "import seaborn as sns\n",
    "\n",
    "import rioxarray as rx\n",
    "\n",
    "from sklearn.model_selection import train_test_split\n",
    "from sklearn.ensemble import RandomForestClassifier\n",
    "from sklearn.metrics import confusion_matrix, classification_report\n",
    "from sklearn import metrics\n",
    "from sklearn.inspection import permutation_importance \n",
    "\n",
    "from sampling import *\n",
    "from utils import *\n",
    "\n",
    "warnings.filterwarnings(\"ignore\")\n",
    "plt.rcParams[\"figure.autolayout\"] = True\n",
    "\n",
    "import plotly.express as px\n",
    "\n",
    "pd.set_option('display.max_columns',40)"
   ]
  },
  {
   "cell_type": "code",
   "execution_count": 3,
   "metadata": {},
   "outputs": [],
   "source": [
    "# ca_fires = pd.read_csv('D:\\Berkeley\\Research\\ExplainableWildfire\\datasets\\doi_10.6071_M3QX18__v7\\Area_burned_in_each_burn_severity_class_and_emissions_per_fire_1984_2020.csv')\n",
    "ca_fires = pd.read_csv('/Users/MacBookPro/Documents/Berkeley/ExplainableFire/doi_10.6071_M3QX18__v7/Area_burned_in_each_burn_severity_class_and_emissions_per_fire_1984_2020.csv')"
   ]
  },
  {
   "cell_type": "code",
   "execution_count": 4,
   "metadata": {},
   "outputs": [
    {
     "data": {
      "text/html": [
       "<div>\n",
       "<style scoped>\n",
       "    .dataframe tbody tr th:only-of-type {\n",
       "        vertical-align: middle;\n",
       "    }\n",
       "\n",
       "    .dataframe tbody tr th {\n",
       "        vertical-align: top;\n",
       "    }\n",
       "\n",
       "    .dataframe thead th {\n",
       "        text-align: right;\n",
       "    }\n",
       "</style>\n",
       "<table border=\"1\" class=\"dataframe\">\n",
       "  <thead>\n",
       "    <tr style=\"text-align: right;\">\n",
       "      <th></th>\n",
       "      <th>Event_ID</th>\n",
       "      <th>Fire_Name</th>\n",
       "      <th>Lat</th>\n",
       "      <th>Long</th>\n",
       "      <th>Fire_Year</th>\n",
       "      <th>Fire_Month</th>\n",
       "      <th>Total_area_burned(ha)</th>\n",
       "      <th>Unchanged(ha)</th>\n",
       "      <th>Low_Severity(ha)</th>\n",
       "      <th>Moderate_Severity(ha)</th>\n",
       "      <th>High_Severity(ha)</th>\n",
       "      <th>Grass_Burned(ha)</th>\n",
       "      <th>CO2(kg)</th>\n",
       "      <th>CO(kg)</th>\n",
       "      <th>CH4(kg)</th>\n",
       "      <th>NMOC(kg)</th>\n",
       "      <th>SO2(kg)</th>\n",
       "      <th>NH3(kg)</th>\n",
       "      <th>NO(kg)</th>\n",
       "      <th>NO2(kg)</th>\n",
       "      <th>NOx(kg)</th>\n",
       "      <th>PM2.5(kg)</th>\n",
       "      <th>OC(kg)</th>\n",
       "      <th>BC(kg)</th>\n",
       "    </tr>\n",
       "  </thead>\n",
       "  <tbody>\n",
       "    <tr>\n",
       "      <th>0</th>\n",
       "      <td>CA3268211688619840421</td>\n",
       "      <td>PROCTOR</td>\n",
       "      <td>32.682</td>\n",
       "      <td>-116.886</td>\n",
       "      <td>1984</td>\n",
       "      <td>4</td>\n",
       "      <td>1222.20</td>\n",
       "      <td>0.00</td>\n",
       "      <td>300.96</td>\n",
       "      <td>691.38</td>\n",
       "      <td>229.86</td>\n",
       "      <td>0.0</td>\n",
       "      <td>8.823971e+07</td>\n",
       "      <td>5383339.56</td>\n",
       "      <td>122498.892</td>\n",
       "      <td>1334643.84</td>\n",
       "      <td>40974.4476</td>\n",
       "      <td>93153.2148</td>\n",
       "      <td>72501.624</td>\n",
       "      <td>52617.2868</td>\n",
       "      <td>116967.780</td>\n",
       "      <td>439157.412</td>\n",
       "      <td>205992.036</td>\n",
       "      <td>72591.8796</td>\n",
       "    </tr>\n",
       "    <tr>\n",
       "      <th>1</th>\n",
       "      <td>CA3341311687319840530</td>\n",
       "      <td>AGUANGA</td>\n",
       "      <td>33.413</td>\n",
       "      <td>-116.873</td>\n",
       "      <td>1984</td>\n",
       "      <td>5</td>\n",
       "      <td>2250.81</td>\n",
       "      <td>0.54</td>\n",
       "      <td>719.28</td>\n",
       "      <td>1209.42</td>\n",
       "      <td>321.57</td>\n",
       "      <td>0.0</td>\n",
       "      <td>1.765728e+08</td>\n",
       "      <td>10407312.81</td>\n",
       "      <td>270244.296</td>\n",
       "      <td>2652322.32</td>\n",
       "      <td>84675.1509</td>\n",
       "      <td>176318.4834</td>\n",
       "      <td>136579.959</td>\n",
       "      <td>104980.0932</td>\n",
       "      <td>215969.733</td>\n",
       "      <td>921608.307</td>\n",
       "      <td>551366.541</td>\n",
       "      <td>128230.0443</td>\n",
       "    </tr>\n",
       "    <tr>\n",
       "      <th>2</th>\n",
       "      <td>CA3375011772919840615</td>\n",
       "      <td>LOMA RIDGE</td>\n",
       "      <td>33.750</td>\n",
       "      <td>-117.729</td>\n",
       "      <td>1984</td>\n",
       "      <td>6</td>\n",
       "      <td>559.26</td>\n",
       "      <td>5.58</td>\n",
       "      <td>268.83</td>\n",
       "      <td>267.03</td>\n",
       "      <td>17.82</td>\n",
       "      <td>0.0</td>\n",
       "      <td>3.150790e+07</td>\n",
       "      <td>1908487.08</td>\n",
       "      <td>44565.093</td>\n",
       "      <td>476699.76</td>\n",
       "      <td>14949.4482</td>\n",
       "      <td>32872.9653</td>\n",
       "      <td>25819.893</td>\n",
       "      <td>19010.9259</td>\n",
       "      <td>41448.456</td>\n",
       "      <td>158066.550</td>\n",
       "      <td>77518.152</td>\n",
       "      <td>25344.1260</td>\n",
       "    </tr>\n",
       "    <tr>\n",
       "      <th>3</th>\n",
       "      <td>CA3428511755419840528</td>\n",
       "      <td>LYTLE</td>\n",
       "      <td>34.285</td>\n",
       "      <td>-117.554</td>\n",
       "      <td>1984</td>\n",
       "      <td>5</td>\n",
       "      <td>988.47</td>\n",
       "      <td>20.79</td>\n",
       "      <td>134.19</td>\n",
       "      <td>446.58</td>\n",
       "      <td>386.91</td>\n",
       "      <td>0.0</td>\n",
       "      <td>1.177670e+08</td>\n",
       "      <td>6010228.71</td>\n",
       "      <td>243621.297</td>\n",
       "      <td>1726734.24</td>\n",
       "      <td>64527.7401</td>\n",
       "      <td>91820.5767</td>\n",
       "      <td>70816.158</td>\n",
       "      <td>70530.9435</td>\n",
       "      <td>99933.183</td>\n",
       "      <td>721917.063</td>\n",
       "      <td>715550.607</td>\n",
       "      <td>42452.7525</td>\n",
       "    </tr>\n",
       "    <tr>\n",
       "      <th>4</th>\n",
       "      <td>CA3444311889619841015</td>\n",
       "      <td>SQUAW FLAT</td>\n",
       "      <td>34.443</td>\n",
       "      <td>-118.896</td>\n",
       "      <td>1984</td>\n",
       "      <td>10</td>\n",
       "      <td>2447.64</td>\n",
       "      <td>19.80</td>\n",
       "      <td>1748.97</td>\n",
       "      <td>607.32</td>\n",
       "      <td>71.55</td>\n",
       "      <td>0.0</td>\n",
       "      <td>1.715008e+08</td>\n",
       "      <td>9570829.41</td>\n",
       "      <td>297284.805</td>\n",
       "      <td>2563898.40</td>\n",
       "      <td>90086.0247</td>\n",
       "      <td>156232.3275</td>\n",
       "      <td>124645.644</td>\n",
       "      <td>105702.7491</td>\n",
       "      <td>189641.601</td>\n",
       "      <td>951805.737</td>\n",
       "      <td>717583.221</td>\n",
       "      <td>100634.9715</td>\n",
       "    </tr>\n",
       "  </tbody>\n",
       "</table>\n",
       "</div>"
      ],
      "text/plain": [
       "                Event_ID   Fire_Name     Lat     Long  Fire_Year  Fire_Month  \\\n",
       "0  CA3268211688619840421     PROCTOR  32.682 -116.886       1984           4   \n",
       "1  CA3341311687319840530     AGUANGA  33.413 -116.873       1984           5   \n",
       "2  CA3375011772919840615  LOMA RIDGE  33.750 -117.729       1984           6   \n",
       "3  CA3428511755419840528       LYTLE  34.285 -117.554       1984           5   \n",
       "4  CA3444311889619841015  SQUAW FLAT  34.443 -118.896       1984          10   \n",
       "\n",
       "   Total_area_burned(ha)  Unchanged(ha)  Low_Severity(ha)  \\\n",
       "0                1222.20           0.00            300.96   \n",
       "1                2250.81           0.54            719.28   \n",
       "2                 559.26           5.58            268.83   \n",
       "3                 988.47          20.79            134.19   \n",
       "4                2447.64          19.80           1748.97   \n",
       "\n",
       "   Moderate_Severity(ha)  High_Severity(ha)  Grass_Burned(ha)       CO2(kg)  \\\n",
       "0                 691.38             229.86               0.0  8.823971e+07   \n",
       "1                1209.42             321.57               0.0  1.765728e+08   \n",
       "2                 267.03              17.82               0.0  3.150790e+07   \n",
       "3                 446.58             386.91               0.0  1.177670e+08   \n",
       "4                 607.32              71.55               0.0  1.715008e+08   \n",
       "\n",
       "        CO(kg)     CH4(kg)    NMOC(kg)     SO2(kg)      NH3(kg)      NO(kg)  \\\n",
       "0   5383339.56  122498.892  1334643.84  40974.4476   93153.2148   72501.624   \n",
       "1  10407312.81  270244.296  2652322.32  84675.1509  176318.4834  136579.959   \n",
       "2   1908487.08   44565.093   476699.76  14949.4482   32872.9653   25819.893   \n",
       "3   6010228.71  243621.297  1726734.24  64527.7401   91820.5767   70816.158   \n",
       "4   9570829.41  297284.805  2563898.40  90086.0247  156232.3275  124645.644   \n",
       "\n",
       "       NO2(kg)     NOx(kg)   PM2.5(kg)      OC(kg)       BC(kg)  \n",
       "0   52617.2868  116967.780  439157.412  205992.036   72591.8796  \n",
       "1  104980.0932  215969.733  921608.307  551366.541  128230.0443  \n",
       "2   19010.9259   41448.456  158066.550   77518.152   25344.1260  \n",
       "3   70530.9435   99933.183  721917.063  715550.607   42452.7525  \n",
       "4  105702.7491  189641.601  951805.737  717583.221  100634.9715  "
      ]
     },
     "execution_count": 4,
     "metadata": {},
     "output_type": "execute_result"
    }
   ],
   "source": [
    "ca_fires.head()"
   ]
  },
  {
   "cell_type": "code",
   "execution_count": 7,
   "metadata": {},
   "outputs": [],
   "source": [
    "# Images path\n",
    "img_path = '/Users/MacBookPro/Documents/Berkeley/ExplainableFire/doi_10.6071_M3QX18__v7/burn_severity_CA'\n",
    "fires = os.listdir(img_path)"
   ]
  },
  {
   "cell_type": "code",
   "execution_count": 9,
   "metadata": {},
   "outputs": [],
   "source": [
    "ca_fires['id'] = ca_fires['Event_ID'].apply(lambda x: x.lower())"
   ]
  },
  {
   "cell_type": "code",
   "execution_count": 10,
   "metadata": {},
   "outputs": [],
   "source": [
    "paths_df = pd.DataFrame(data={'path':fires})"
   ]
  },
  {
   "cell_type": "code",
   "execution_count": 11,
   "metadata": {},
   "outputs": [],
   "source": [
    "paths_df['id'] = paths_df['path'].apply(lambda x: x.split('_burn_severity_CA.tif')[0].lower())"
   ]
  },
  {
   "cell_type": "code",
   "execution_count": 12,
   "metadata": {},
   "outputs": [],
   "source": [
    "ca_fires = ca_fires.merge(paths_df)"
   ]
  },
  {
   "cell_type": "code",
   "execution_count": 13,
   "metadata": {},
   "outputs": [
    {
     "data": {
      "text/html": [
       "<div>\n",
       "<style scoped>\n",
       "    .dataframe tbody tr th:only-of-type {\n",
       "        vertical-align: middle;\n",
       "    }\n",
       "\n",
       "    .dataframe tbody tr th {\n",
       "        vertical-align: top;\n",
       "    }\n",
       "\n",
       "    .dataframe thead th {\n",
       "        text-align: right;\n",
       "    }\n",
       "</style>\n",
       "<table border=\"1\" class=\"dataframe\">\n",
       "  <thead>\n",
       "    <tr style=\"text-align: right;\">\n",
       "      <th></th>\n",
       "      <th>Event_ID</th>\n",
       "      <th>Fire_Name</th>\n",
       "      <th>Lat</th>\n",
       "      <th>Long</th>\n",
       "      <th>Fire_Year</th>\n",
       "      <th>Fire_Month</th>\n",
       "      <th>Total_area_burned(ha)</th>\n",
       "      <th>Unchanged(ha)</th>\n",
       "      <th>Low_Severity(ha)</th>\n",
       "      <th>Moderate_Severity(ha)</th>\n",
       "      <th>High_Severity(ha)</th>\n",
       "      <th>Grass_Burned(ha)</th>\n",
       "      <th>CO2(kg)</th>\n",
       "      <th>CO(kg)</th>\n",
       "      <th>CH4(kg)</th>\n",
       "      <th>NMOC(kg)</th>\n",
       "      <th>SO2(kg)</th>\n",
       "      <th>NH3(kg)</th>\n",
       "      <th>NO(kg)</th>\n",
       "      <th>NO2(kg)</th>\n",
       "      <th>NOx(kg)</th>\n",
       "      <th>PM2.5(kg)</th>\n",
       "      <th>OC(kg)</th>\n",
       "      <th>BC(kg)</th>\n",
       "      <th>id</th>\n",
       "      <th>path</th>\n",
       "    </tr>\n",
       "  </thead>\n",
       "  <tbody>\n",
       "    <tr>\n",
       "      <th>0</th>\n",
       "      <td>CA3268211688619840421</td>\n",
       "      <td>PROCTOR</td>\n",
       "      <td>32.682</td>\n",
       "      <td>-116.886</td>\n",
       "      <td>1984</td>\n",
       "      <td>4</td>\n",
       "      <td>1222.20</td>\n",
       "      <td>0.00</td>\n",
       "      <td>300.96</td>\n",
       "      <td>691.38</td>\n",
       "      <td>229.86</td>\n",
       "      <td>0.0</td>\n",
       "      <td>8.823971e+07</td>\n",
       "      <td>5383339.56</td>\n",
       "      <td>122498.892</td>\n",
       "      <td>1334643.84</td>\n",
       "      <td>40974.4476</td>\n",
       "      <td>93153.2148</td>\n",
       "      <td>72501.624</td>\n",
       "      <td>52617.2868</td>\n",
       "      <td>116967.780</td>\n",
       "      <td>439157.412</td>\n",
       "      <td>205992.036</td>\n",
       "      <td>72591.8796</td>\n",
       "      <td>ca3268211688619840421</td>\n",
       "      <td>ca3268211688619840421_burn_severity_CA.tif</td>\n",
       "    </tr>\n",
       "    <tr>\n",
       "      <th>1</th>\n",
       "      <td>CA3268211688619840421</td>\n",
       "      <td>PROCTOR</td>\n",
       "      <td>32.682</td>\n",
       "      <td>-116.886</td>\n",
       "      <td>1984</td>\n",
       "      <td>4</td>\n",
       "      <td>1222.20</td>\n",
       "      <td>0.00</td>\n",
       "      <td>300.96</td>\n",
       "      <td>691.38</td>\n",
       "      <td>229.86</td>\n",
       "      <td>0.0</td>\n",
       "      <td>8.823971e+07</td>\n",
       "      <td>5383339.56</td>\n",
       "      <td>122498.892</td>\n",
       "      <td>1334643.84</td>\n",
       "      <td>40974.4476</td>\n",
       "      <td>93153.2148</td>\n",
       "      <td>72501.624</td>\n",
       "      <td>52617.2868</td>\n",
       "      <td>116967.780</td>\n",
       "      <td>439157.412</td>\n",
       "      <td>205992.036</td>\n",
       "      <td>72591.8796</td>\n",
       "      <td>ca3268211688619840421</td>\n",
       "      <td>ca3268211688619840421_burn_severity_CA.tif.aux...</td>\n",
       "    </tr>\n",
       "    <tr>\n",
       "      <th>2</th>\n",
       "      <td>CA3341311687319840530</td>\n",
       "      <td>AGUANGA</td>\n",
       "      <td>33.413</td>\n",
       "      <td>-116.873</td>\n",
       "      <td>1984</td>\n",
       "      <td>5</td>\n",
       "      <td>2250.81</td>\n",
       "      <td>0.54</td>\n",
       "      <td>719.28</td>\n",
       "      <td>1209.42</td>\n",
       "      <td>321.57</td>\n",
       "      <td>0.0</td>\n",
       "      <td>1.765728e+08</td>\n",
       "      <td>10407312.81</td>\n",
       "      <td>270244.296</td>\n",
       "      <td>2652322.32</td>\n",
       "      <td>84675.1509</td>\n",
       "      <td>176318.4834</td>\n",
       "      <td>136579.959</td>\n",
       "      <td>104980.0932</td>\n",
       "      <td>215969.733</td>\n",
       "      <td>921608.307</td>\n",
       "      <td>551366.541</td>\n",
       "      <td>128230.0443</td>\n",
       "      <td>ca3341311687319840530</td>\n",
       "      <td>ca3341311687319840530_burn_severity_CA.tif.aux...</td>\n",
       "    </tr>\n",
       "    <tr>\n",
       "      <th>3</th>\n",
       "      <td>CA3341311687319840530</td>\n",
       "      <td>AGUANGA</td>\n",
       "      <td>33.413</td>\n",
       "      <td>-116.873</td>\n",
       "      <td>1984</td>\n",
       "      <td>5</td>\n",
       "      <td>2250.81</td>\n",
       "      <td>0.54</td>\n",
       "      <td>719.28</td>\n",
       "      <td>1209.42</td>\n",
       "      <td>321.57</td>\n",
       "      <td>0.0</td>\n",
       "      <td>1.765728e+08</td>\n",
       "      <td>10407312.81</td>\n",
       "      <td>270244.296</td>\n",
       "      <td>2652322.32</td>\n",
       "      <td>84675.1509</td>\n",
       "      <td>176318.4834</td>\n",
       "      <td>136579.959</td>\n",
       "      <td>104980.0932</td>\n",
       "      <td>215969.733</td>\n",
       "      <td>921608.307</td>\n",
       "      <td>551366.541</td>\n",
       "      <td>128230.0443</td>\n",
       "      <td>ca3341311687319840530</td>\n",
       "      <td>ca3341311687319840530_burn_severity_CA.tif</td>\n",
       "    </tr>\n",
       "    <tr>\n",
       "      <th>4</th>\n",
       "      <td>CA3375011772919840615</td>\n",
       "      <td>LOMA RIDGE</td>\n",
       "      <td>33.750</td>\n",
       "      <td>-117.729</td>\n",
       "      <td>1984</td>\n",
       "      <td>6</td>\n",
       "      <td>559.26</td>\n",
       "      <td>5.58</td>\n",
       "      <td>268.83</td>\n",
       "      <td>267.03</td>\n",
       "      <td>17.82</td>\n",
       "      <td>0.0</td>\n",
       "      <td>3.150790e+07</td>\n",
       "      <td>1908487.08</td>\n",
       "      <td>44565.093</td>\n",
       "      <td>476699.76</td>\n",
       "      <td>14949.4482</td>\n",
       "      <td>32872.9653</td>\n",
       "      <td>25819.893</td>\n",
       "      <td>19010.9259</td>\n",
       "      <td>41448.456</td>\n",
       "      <td>158066.550</td>\n",
       "      <td>77518.152</td>\n",
       "      <td>25344.1260</td>\n",
       "      <td>ca3375011772919840615</td>\n",
       "      <td>ca3375011772919840615_burn_severity_CA.tif.aux...</td>\n",
       "    </tr>\n",
       "  </tbody>\n",
       "</table>\n",
       "</div>"
      ],
      "text/plain": [
       "                Event_ID   Fire_Name     Lat     Long  Fire_Year  Fire_Month  \\\n",
       "0  CA3268211688619840421     PROCTOR  32.682 -116.886       1984           4   \n",
       "1  CA3268211688619840421     PROCTOR  32.682 -116.886       1984           4   \n",
       "2  CA3341311687319840530     AGUANGA  33.413 -116.873       1984           5   \n",
       "3  CA3341311687319840530     AGUANGA  33.413 -116.873       1984           5   \n",
       "4  CA3375011772919840615  LOMA RIDGE  33.750 -117.729       1984           6   \n",
       "\n",
       "   Total_area_burned(ha)  Unchanged(ha)  Low_Severity(ha)  \\\n",
       "0                1222.20           0.00            300.96   \n",
       "1                1222.20           0.00            300.96   \n",
       "2                2250.81           0.54            719.28   \n",
       "3                2250.81           0.54            719.28   \n",
       "4                 559.26           5.58            268.83   \n",
       "\n",
       "   Moderate_Severity(ha)  High_Severity(ha)  Grass_Burned(ha)       CO2(kg)  \\\n",
       "0                 691.38             229.86               0.0  8.823971e+07   \n",
       "1                 691.38             229.86               0.0  8.823971e+07   \n",
       "2                1209.42             321.57               0.0  1.765728e+08   \n",
       "3                1209.42             321.57               0.0  1.765728e+08   \n",
       "4                 267.03              17.82               0.0  3.150790e+07   \n",
       "\n",
       "        CO(kg)     CH4(kg)    NMOC(kg)     SO2(kg)      NH3(kg)      NO(kg)  \\\n",
       "0   5383339.56  122498.892  1334643.84  40974.4476   93153.2148   72501.624   \n",
       "1   5383339.56  122498.892  1334643.84  40974.4476   93153.2148   72501.624   \n",
       "2  10407312.81  270244.296  2652322.32  84675.1509  176318.4834  136579.959   \n",
       "3  10407312.81  270244.296  2652322.32  84675.1509  176318.4834  136579.959   \n",
       "4   1908487.08   44565.093   476699.76  14949.4482   32872.9653   25819.893   \n",
       "\n",
       "       NO2(kg)     NOx(kg)   PM2.5(kg)      OC(kg)       BC(kg)  \\\n",
       "0   52617.2868  116967.780  439157.412  205992.036   72591.8796   \n",
       "1   52617.2868  116967.780  439157.412  205992.036   72591.8796   \n",
       "2  104980.0932  215969.733  921608.307  551366.541  128230.0443   \n",
       "3  104980.0932  215969.733  921608.307  551366.541  128230.0443   \n",
       "4   19010.9259   41448.456  158066.550   77518.152   25344.1260   \n",
       "\n",
       "                      id                                               path  \n",
       "0  ca3268211688619840421         ca3268211688619840421_burn_severity_CA.tif  \n",
       "1  ca3268211688619840421  ca3268211688619840421_burn_severity_CA.tif.aux...  \n",
       "2  ca3341311687319840530  ca3341311687319840530_burn_severity_CA.tif.aux...  \n",
       "3  ca3341311687319840530         ca3341311687319840530_burn_severity_CA.tif  \n",
       "4  ca3375011772919840615  ca3375011772919840615_burn_severity_CA.tif.aux...  "
      ]
     },
     "execution_count": 13,
     "metadata": {},
     "output_type": "execute_result"
    }
   ],
   "source": [
    "ca_fires.head()"
   ]
  },
  {
   "attachments": {},
   "cell_type": "markdown",
   "metadata": {},
   "source": [
    "One fire"
   ]
  },
  {
   "cell_type": "code",
   "execution_count": 14,
   "metadata": {},
   "outputs": [],
   "source": [
    "fire = ca_fires.iloc[0]\n",
    "path = fire['path']"
   ]
  },
  {
   "cell_type": "code",
   "execution_count": 15,
   "metadata": {},
   "outputs": [],
   "source": [
    "img = rx.open_rasterio(os.path.join(img_path, path))"
   ]
  },
  {
   "cell_type": "code",
   "execution_count": 16,
   "metadata": {},
   "outputs": [
    {
     "data": {
      "text/html": [
       "<div><svg style=\"position: absolute; width: 0; height: 0; overflow: hidden\">\n",
       "<defs>\n",
       "<symbol id=\"icon-database\" viewBox=\"0 0 32 32\">\n",
       "<path d=\"M16 0c-8.837 0-16 2.239-16 5v4c0 2.761 7.163 5 16 5s16-2.239 16-5v-4c0-2.761-7.163-5-16-5z\"></path>\n",
       "<path d=\"M16 17c-8.837 0-16-2.239-16-5v6c0 2.761 7.163 5 16 5s16-2.239 16-5v-6c0 2.761-7.163 5-16 5z\"></path>\n",
       "<path d=\"M16 26c-8.837 0-16-2.239-16-5v6c0 2.761 7.163 5 16 5s16-2.239 16-5v-6c0 2.761-7.163 5-16 5z\"></path>\n",
       "</symbol>\n",
       "<symbol id=\"icon-file-text2\" viewBox=\"0 0 32 32\">\n",
       "<path d=\"M28.681 7.159c-0.694-0.947-1.662-2.053-2.724-3.116s-2.169-2.030-3.116-2.724c-1.612-1.182-2.393-1.319-2.841-1.319h-15.5c-1.378 0-2.5 1.121-2.5 2.5v27c0 1.378 1.122 2.5 2.5 2.5h23c1.378 0 2.5-1.122 2.5-2.5v-19.5c0-0.448-0.137-1.23-1.319-2.841zM24.543 5.457c0.959 0.959 1.712 1.825 2.268 2.543h-4.811v-4.811c0.718 0.556 1.584 1.309 2.543 2.268zM28 29.5c0 0.271-0.229 0.5-0.5 0.5h-23c-0.271 0-0.5-0.229-0.5-0.5v-27c0-0.271 0.229-0.5 0.5-0.5 0 0 15.499-0 15.5 0v7c0 0.552 0.448 1 1 1h7v19.5z\"></path>\n",
       "<path d=\"M23 26h-14c-0.552 0-1-0.448-1-1s0.448-1 1-1h14c0.552 0 1 0.448 1 1s-0.448 1-1 1z\"></path>\n",
       "<path d=\"M23 22h-14c-0.552 0-1-0.448-1-1s0.448-1 1-1h14c0.552 0 1 0.448 1 1s-0.448 1-1 1z\"></path>\n",
       "<path d=\"M23 18h-14c-0.552 0-1-0.448-1-1s0.448-1 1-1h14c0.552 0 1 0.448 1 1s-0.448 1-1 1z\"></path>\n",
       "</symbol>\n",
       "</defs>\n",
       "</svg>\n",
       "<style>/* CSS stylesheet for displaying xarray objects in jupyterlab.\n",
       " *\n",
       " */\n",
       "\n",
       ":root {\n",
       "  --xr-font-color0: var(--jp-content-font-color0, rgba(0, 0, 0, 1));\n",
       "  --xr-font-color2: var(--jp-content-font-color2, rgba(0, 0, 0, 0.54));\n",
       "  --xr-font-color3: var(--jp-content-font-color3, rgba(0, 0, 0, 0.38));\n",
       "  --xr-border-color: var(--jp-border-color2, #e0e0e0);\n",
       "  --xr-disabled-color: var(--jp-layout-color3, #bdbdbd);\n",
       "  --xr-background-color: var(--jp-layout-color0, white);\n",
       "  --xr-background-color-row-even: var(--jp-layout-color1, white);\n",
       "  --xr-background-color-row-odd: var(--jp-layout-color2, #eeeeee);\n",
       "}\n",
       "\n",
       "html[theme=dark],\n",
       "body.vscode-dark {\n",
       "  --xr-font-color0: rgba(255, 255, 255, 1);\n",
       "  --xr-font-color2: rgba(255, 255, 255, 0.54);\n",
       "  --xr-font-color3: rgba(255, 255, 255, 0.38);\n",
       "  --xr-border-color: #1F1F1F;\n",
       "  --xr-disabled-color: #515151;\n",
       "  --xr-background-color: #111111;\n",
       "  --xr-background-color-row-even: #111111;\n",
       "  --xr-background-color-row-odd: #313131;\n",
       "}\n",
       "\n",
       ".xr-wrap {\n",
       "  display: block;\n",
       "  min-width: 300px;\n",
       "  max-width: 700px;\n",
       "}\n",
       "\n",
       ".xr-text-repr-fallback {\n",
       "  /* fallback to plain text repr when CSS is not injected (untrusted notebook) */\n",
       "  display: none;\n",
       "}\n",
       "\n",
       ".xr-header {\n",
       "  padding-top: 6px;\n",
       "  padding-bottom: 6px;\n",
       "  margin-bottom: 4px;\n",
       "  border-bottom: solid 1px var(--xr-border-color);\n",
       "}\n",
       "\n",
       ".xr-header > div,\n",
       ".xr-header > ul {\n",
       "  display: inline;\n",
       "  margin-top: 0;\n",
       "  margin-bottom: 0;\n",
       "}\n",
       "\n",
       ".xr-obj-type,\n",
       ".xr-array-name {\n",
       "  margin-left: 2px;\n",
       "  margin-right: 10px;\n",
       "}\n",
       "\n",
       ".xr-obj-type {\n",
       "  color: var(--xr-font-color2);\n",
       "}\n",
       "\n",
       ".xr-sections {\n",
       "  padding-left: 0 !important;\n",
       "  display: grid;\n",
       "  grid-template-columns: 150px auto auto 1fr 20px 20px;\n",
       "}\n",
       "\n",
       ".xr-section-item {\n",
       "  display: contents;\n",
       "}\n",
       "\n",
       ".xr-section-item input {\n",
       "  display: none;\n",
       "}\n",
       "\n",
       ".xr-section-item input + label {\n",
       "  color: var(--xr-disabled-color);\n",
       "}\n",
       "\n",
       ".xr-section-item input:enabled + label {\n",
       "  cursor: pointer;\n",
       "  color: var(--xr-font-color2);\n",
       "}\n",
       "\n",
       ".xr-section-item input:enabled + label:hover {\n",
       "  color: var(--xr-font-color0);\n",
       "}\n",
       "\n",
       ".xr-section-summary {\n",
       "  grid-column: 1;\n",
       "  color: var(--xr-font-color2);\n",
       "  font-weight: 500;\n",
       "}\n",
       "\n",
       ".xr-section-summary > span {\n",
       "  display: inline-block;\n",
       "  padding-left: 0.5em;\n",
       "}\n",
       "\n",
       ".xr-section-summary-in:disabled + label {\n",
       "  color: var(--xr-font-color2);\n",
       "}\n",
       "\n",
       ".xr-section-summary-in + label:before {\n",
       "  display: inline-block;\n",
       "  content: '►';\n",
       "  font-size: 11px;\n",
       "  width: 15px;\n",
       "  text-align: center;\n",
       "}\n",
       "\n",
       ".xr-section-summary-in:disabled + label:before {\n",
       "  color: var(--xr-disabled-color);\n",
       "}\n",
       "\n",
       ".xr-section-summary-in:checked + label:before {\n",
       "  content: '▼';\n",
       "}\n",
       "\n",
       ".xr-section-summary-in:checked + label > span {\n",
       "  display: none;\n",
       "}\n",
       "\n",
       ".xr-section-summary,\n",
       ".xr-section-inline-details {\n",
       "  padding-top: 4px;\n",
       "  padding-bottom: 4px;\n",
       "}\n",
       "\n",
       ".xr-section-inline-details {\n",
       "  grid-column: 2 / -1;\n",
       "}\n",
       "\n",
       ".xr-section-details {\n",
       "  display: none;\n",
       "  grid-column: 1 / -1;\n",
       "  margin-bottom: 5px;\n",
       "}\n",
       "\n",
       ".xr-section-summary-in:checked ~ .xr-section-details {\n",
       "  display: contents;\n",
       "}\n",
       "\n",
       ".xr-array-wrap {\n",
       "  grid-column: 1 / -1;\n",
       "  display: grid;\n",
       "  grid-template-columns: 20px auto;\n",
       "}\n",
       "\n",
       ".xr-array-wrap > label {\n",
       "  grid-column: 1;\n",
       "  vertical-align: top;\n",
       "}\n",
       "\n",
       ".xr-preview {\n",
       "  color: var(--xr-font-color3);\n",
       "}\n",
       "\n",
       ".xr-array-preview,\n",
       ".xr-array-data {\n",
       "  padding: 0 5px !important;\n",
       "  grid-column: 2;\n",
       "}\n",
       "\n",
       ".xr-array-data,\n",
       ".xr-array-in:checked ~ .xr-array-preview {\n",
       "  display: none;\n",
       "}\n",
       "\n",
       ".xr-array-in:checked ~ .xr-array-data,\n",
       ".xr-array-preview {\n",
       "  display: inline-block;\n",
       "}\n",
       "\n",
       ".xr-dim-list {\n",
       "  display: inline-block !important;\n",
       "  list-style: none;\n",
       "  padding: 0 !important;\n",
       "  margin: 0;\n",
       "}\n",
       "\n",
       ".xr-dim-list li {\n",
       "  display: inline-block;\n",
       "  padding: 0;\n",
       "  margin: 0;\n",
       "}\n",
       "\n",
       ".xr-dim-list:before {\n",
       "  content: '(';\n",
       "}\n",
       "\n",
       ".xr-dim-list:after {\n",
       "  content: ')';\n",
       "}\n",
       "\n",
       ".xr-dim-list li:not(:last-child):after {\n",
       "  content: ',';\n",
       "  padding-right: 5px;\n",
       "}\n",
       "\n",
       ".xr-has-index {\n",
       "  font-weight: bold;\n",
       "}\n",
       "\n",
       ".xr-var-list,\n",
       ".xr-var-item {\n",
       "  display: contents;\n",
       "}\n",
       "\n",
       ".xr-var-item > div,\n",
       ".xr-var-item label,\n",
       ".xr-var-item > .xr-var-name span {\n",
       "  background-color: var(--xr-background-color-row-even);\n",
       "  margin-bottom: 0;\n",
       "}\n",
       "\n",
       ".xr-var-item > .xr-var-name:hover span {\n",
       "  padding-right: 5px;\n",
       "}\n",
       "\n",
       ".xr-var-list > li:nth-child(odd) > div,\n",
       ".xr-var-list > li:nth-child(odd) > label,\n",
       ".xr-var-list > li:nth-child(odd) > .xr-var-name span {\n",
       "  background-color: var(--xr-background-color-row-odd);\n",
       "}\n",
       "\n",
       ".xr-var-name {\n",
       "  grid-column: 1;\n",
       "}\n",
       "\n",
       ".xr-var-dims {\n",
       "  grid-column: 2;\n",
       "}\n",
       "\n",
       ".xr-var-dtype {\n",
       "  grid-column: 3;\n",
       "  text-align: right;\n",
       "  color: var(--xr-font-color2);\n",
       "}\n",
       "\n",
       ".xr-var-preview {\n",
       "  grid-column: 4;\n",
       "}\n",
       "\n",
       ".xr-var-name,\n",
       ".xr-var-dims,\n",
       ".xr-var-dtype,\n",
       ".xr-preview,\n",
       ".xr-attrs dt {\n",
       "  white-space: nowrap;\n",
       "  overflow: hidden;\n",
       "  text-overflow: ellipsis;\n",
       "  padding-right: 10px;\n",
       "}\n",
       "\n",
       ".xr-var-name:hover,\n",
       ".xr-var-dims:hover,\n",
       ".xr-var-dtype:hover,\n",
       ".xr-attrs dt:hover {\n",
       "  overflow: visible;\n",
       "  width: auto;\n",
       "  z-index: 1;\n",
       "}\n",
       "\n",
       ".xr-var-attrs,\n",
       ".xr-var-data {\n",
       "  display: none;\n",
       "  background-color: var(--xr-background-color) !important;\n",
       "  padding-bottom: 5px !important;\n",
       "}\n",
       "\n",
       ".xr-var-attrs-in:checked ~ .xr-var-attrs,\n",
       ".xr-var-data-in:checked ~ .xr-var-data {\n",
       "  display: block;\n",
       "}\n",
       "\n",
       ".xr-var-data > table {\n",
       "  float: right;\n",
       "}\n",
       "\n",
       ".xr-var-name span,\n",
       ".xr-var-data,\n",
       ".xr-attrs {\n",
       "  padding-left: 25px !important;\n",
       "}\n",
       "\n",
       ".xr-attrs,\n",
       ".xr-var-attrs,\n",
       ".xr-var-data {\n",
       "  grid-column: 1 / -1;\n",
       "}\n",
       "\n",
       "dl.xr-attrs {\n",
       "  padding: 0;\n",
       "  margin: 0;\n",
       "  display: grid;\n",
       "  grid-template-columns: 125px auto;\n",
       "}\n",
       "\n",
       ".xr-attrs dt,\n",
       ".xr-attrs dd {\n",
       "  padding: 0;\n",
       "  margin: 0;\n",
       "  float: left;\n",
       "  padding-right: 10px;\n",
       "  width: auto;\n",
       "}\n",
       "\n",
       ".xr-attrs dt {\n",
       "  font-weight: normal;\n",
       "  grid-column: 1;\n",
       "}\n",
       "\n",
       ".xr-attrs dt:hover span {\n",
       "  display: inline-block;\n",
       "  background: var(--xr-background-color);\n",
       "  padding-right: 10px;\n",
       "}\n",
       "\n",
       ".xr-attrs dd {\n",
       "  grid-column: 2;\n",
       "  white-space: pre-wrap;\n",
       "  word-break: break-all;\n",
       "}\n",
       "\n",
       ".xr-icon-database,\n",
       ".xr-icon-file-text2 {\n",
       "  display: inline-block;\n",
       "  vertical-align: middle;\n",
       "  width: 1em;\n",
       "  height: 1.5em !important;\n",
       "  stroke-width: 0;\n",
       "  stroke: currentColor;\n",
       "  fill: currentColor;\n",
       "}\n",
       "</style><pre class='xr-text-repr-fallback'>&lt;xarray.DataArray (band: 1, y: 145, x: 135)&gt;\n",
       "array([[[-3.4e+38, -3.4e+38, ..., -3.4e+38, -3.4e+38],\n",
       "        [-3.4e+38, -3.4e+38, ..., -3.4e+38, -3.4e+38],\n",
       "        ...,\n",
       "        [-3.4e+38, -3.4e+38, ..., -3.4e+38, -3.4e+38],\n",
       "        [-3.4e+38, -3.4e+38, ..., -3.4e+38, -3.4e+38]]], dtype=float32)\n",
       "Coordinates:\n",
       "  * band         (band) int64 1\n",
       "  * x            (x) float64 -1.934e+06 -1.934e+06 ... -1.93e+06 -1.93e+06\n",
       "  * y            (y) float64 1.283e+06 1.283e+06 ... 1.279e+06 1.279e+06\n",
       "    spatial_ref  int64 0\n",
       "Attributes:\n",
       "    STATISTICS_MAXIMUM:        4\n",
       "    STATISTICS_MEAN:           2.9418262150221\n",
       "    STATISTICS_MINIMUM:        2\n",
       "    STATISTICS_STDDEV:         0.65645333429579\n",
       "    STATISTICS_VALID_PERCENT:  69.37\n",
       "    _FillValue:                -3.3999999521443642e+38\n",
       "    scale_factor:              1.0\n",
       "    add_offset:                0.0</pre><div class='xr-wrap' hidden><div class='xr-header'><div class='xr-obj-type'>xarray.DataArray</div><div class='xr-array-name'></div><ul class='xr-dim-list'><li><span class='xr-has-index'>band</span>: 1</li><li><span class='xr-has-index'>y</span>: 145</li><li><span class='xr-has-index'>x</span>: 135</li></ul></div><ul class='xr-sections'><li class='xr-section-item'><div class='xr-array-wrap'><input id='section-5c42ddc9-8299-4988-8344-07a2262dfa08' class='xr-array-in' type='checkbox' checked><label for='section-5c42ddc9-8299-4988-8344-07a2262dfa08' title='Show/hide data repr'><svg class='icon xr-icon-database'><use xlink:href='#icon-database'></use></svg></label><div class='xr-array-preview xr-preview'><span>-3.4e+38 -3.4e+38 -3.4e+38 -3.4e+38 ... -3.4e+38 -3.4e+38 -3.4e+38</span></div><div class='xr-array-data'><pre>array([[[-3.4e+38, -3.4e+38, ..., -3.4e+38, -3.4e+38],\n",
       "        [-3.4e+38, -3.4e+38, ..., -3.4e+38, -3.4e+38],\n",
       "        ...,\n",
       "        [-3.4e+38, -3.4e+38, ..., -3.4e+38, -3.4e+38],\n",
       "        [-3.4e+38, -3.4e+38, ..., -3.4e+38, -3.4e+38]]], dtype=float32)</pre></div></div></li><li class='xr-section-item'><input id='section-8a4c5d38-d052-4b37-bb27-81a63a236760' class='xr-section-summary-in' type='checkbox'  checked><label for='section-8a4c5d38-d052-4b37-bb27-81a63a236760' class='xr-section-summary' >Coordinates: <span>(4)</span></label><div class='xr-section-inline-details'></div><div class='xr-section-details'><ul class='xr-var-list'><li class='xr-var-item'><div class='xr-var-name'><span class='xr-has-index'>band</span></div><div class='xr-var-dims'>(band)</div><div class='xr-var-dtype'>int64</div><div class='xr-var-preview xr-preview'>1</div><input id='attrs-ceeb8e50-0f8d-4b33-80e4-dfd173860169' class='xr-var-attrs-in' type='checkbox' disabled><label for='attrs-ceeb8e50-0f8d-4b33-80e4-dfd173860169' title='Show/Hide attributes'><svg class='icon xr-icon-file-text2'><use xlink:href='#icon-file-text2'></use></svg></label><input id='data-1b9ae2ae-4d16-409f-a180-f77953a3020f' class='xr-var-data-in' type='checkbox'><label for='data-1b9ae2ae-4d16-409f-a180-f77953a3020f' title='Show/Hide data repr'><svg class='icon xr-icon-database'><use xlink:href='#icon-database'></use></svg></label><div class='xr-var-attrs'><dl class='xr-attrs'></dl></div><div class='xr-var-data'><pre>array([1])</pre></div></li><li class='xr-var-item'><div class='xr-var-name'><span class='xr-has-index'>x</span></div><div class='xr-var-dims'>(x)</div><div class='xr-var-dtype'>float64</div><div class='xr-var-preview xr-preview'>-1.934e+06 -1.934e+06 ... -1.93e+06</div><input id='attrs-5837e8b7-7477-4e3d-ba20-485051633518' class='xr-var-attrs-in' type='checkbox' disabled><label for='attrs-5837e8b7-7477-4e3d-ba20-485051633518' title='Show/Hide attributes'><svg class='icon xr-icon-file-text2'><use xlink:href='#icon-file-text2'></use></svg></label><input id='data-3f6a8167-c0f5-45de-a48d-ed29ab8006d3' class='xr-var-data-in' type='checkbox'><label for='data-3f6a8167-c0f5-45de-a48d-ed29ab8006d3' title='Show/Hide data repr'><svg class='icon xr-icon-database'><use xlink:href='#icon-database'></use></svg></label><div class='xr-var-attrs'><dl class='xr-attrs'></dl></div><div class='xr-var-data'><pre>array([-1934040., -1934010., -1933980., -1933950., -1933920., -1933890.,\n",
       "       -1933860., -1933830., -1933800., -1933770., -1933740., -1933710.,\n",
       "       -1933680., -1933650., -1933620., -1933590., -1933560., -1933530.,\n",
       "       -1933500., -1933470., -1933440., -1933410., -1933380., -1933350.,\n",
       "       -1933320., -1933290., -1933260., -1933230., -1933200., -1933170.,\n",
       "       -1933140., -1933110., -1933080., -1933050., -1933020., -1932990.,\n",
       "       -1932960., -1932930., -1932900., -1932870., -1932840., -1932810.,\n",
       "       -1932780., -1932750., -1932720., -1932690., -1932660., -1932630.,\n",
       "       -1932600., -1932570., -1932540., -1932510., -1932480., -1932450.,\n",
       "       -1932420., -1932390., -1932360., -1932330., -1932300., -1932270.,\n",
       "       -1932240., -1932210., -1932180., -1932150., -1932120., -1932090.,\n",
       "       -1932060., -1932030., -1932000., -1931970., -1931940., -1931910.,\n",
       "       -1931880., -1931850., -1931820., -1931790., -1931760., -1931730.,\n",
       "       -1931700., -1931670., -1931640., -1931610., -1931580., -1931550.,\n",
       "       -1931520., -1931490., -1931460., -1931430., -1931400., -1931370.,\n",
       "       -1931340., -1931310., -1931280., -1931250., -1931220., -1931190.,\n",
       "       -1931160., -1931130., -1931100., -1931070., -1931040., -1931010.,\n",
       "       -1930980., -1930950., -1930920., -1930890., -1930860., -1930830.,\n",
       "       -1930800., -1930770., -1930740., -1930710., -1930680., -1930650.,\n",
       "       -1930620., -1930590., -1930560., -1930530., -1930500., -1930470.,\n",
       "       -1930440., -1930410., -1930380., -1930350., -1930320., -1930290.,\n",
       "       -1930260., -1930230., -1930200., -1930170., -1930140., -1930110.,\n",
       "       -1930080., -1930050., -1930020.])</pre></div></li><li class='xr-var-item'><div class='xr-var-name'><span class='xr-has-index'>y</span></div><div class='xr-var-dims'>(y)</div><div class='xr-var-dtype'>float64</div><div class='xr-var-preview xr-preview'>1.283e+06 1.283e+06 ... 1.279e+06</div><input id='attrs-5bf7a8dc-fafd-4485-8912-217dbd4857c3' class='xr-var-attrs-in' type='checkbox' disabled><label for='attrs-5bf7a8dc-fafd-4485-8912-217dbd4857c3' title='Show/Hide attributes'><svg class='icon xr-icon-file-text2'><use xlink:href='#icon-file-text2'></use></svg></label><input id='data-84d040b1-2dd1-4801-9826-6e385ee72f0d' class='xr-var-data-in' type='checkbox'><label for='data-84d040b1-2dd1-4801-9826-6e385ee72f0d' title='Show/Hide data repr'><svg class='icon xr-icon-database'><use xlink:href='#icon-database'></use></svg></label><div class='xr-var-attrs'><dl class='xr-attrs'></dl></div><div class='xr-var-data'><pre>array([1282950., 1282920., 1282890., 1282860., 1282830., 1282800., 1282770.,\n",
       "       1282740., 1282710., 1282680., 1282650., 1282620., 1282590., 1282560.,\n",
       "       1282530., 1282500., 1282470., 1282440., 1282410., 1282380., 1282350.,\n",
       "       1282320., 1282290., 1282260., 1282230., 1282200., 1282170., 1282140.,\n",
       "       1282110., 1282080., 1282050., 1282020., 1281990., 1281960., 1281930.,\n",
       "       1281900., 1281870., 1281840., 1281810., 1281780., 1281750., 1281720.,\n",
       "       1281690., 1281660., 1281630., 1281600., 1281570., 1281540., 1281510.,\n",
       "       1281480., 1281450., 1281420., 1281390., 1281360., 1281330., 1281300.,\n",
       "       1281270., 1281240., 1281210., 1281180., 1281150., 1281120., 1281090.,\n",
       "       1281060., 1281030., 1281000., 1280970., 1280940., 1280910., 1280880.,\n",
       "       1280850., 1280820., 1280790., 1280760., 1280730., 1280700., 1280670.,\n",
       "       1280640., 1280610., 1280580., 1280550., 1280520., 1280490., 1280460.,\n",
       "       1280430., 1280400., 1280370., 1280340., 1280310., 1280280., 1280250.,\n",
       "       1280220., 1280190., 1280160., 1280130., 1280100., 1280070., 1280040.,\n",
       "       1280010., 1279980., 1279950., 1279920., 1279890., 1279860., 1279830.,\n",
       "       1279800., 1279770., 1279740., 1279710., 1279680., 1279650., 1279620.,\n",
       "       1279590., 1279560., 1279530., 1279500., 1279470., 1279440., 1279410.,\n",
       "       1279380., 1279350., 1279320., 1279290., 1279260., 1279230., 1279200.,\n",
       "       1279170., 1279140., 1279110., 1279080., 1279050., 1279020., 1278990.,\n",
       "       1278960., 1278930., 1278900., 1278870., 1278840., 1278810., 1278780.,\n",
       "       1278750., 1278720., 1278690., 1278660., 1278630.])</pre></div></li><li class='xr-var-item'><div class='xr-var-name'><span>spatial_ref</span></div><div class='xr-var-dims'>()</div><div class='xr-var-dtype'>int64</div><div class='xr-var-preview xr-preview'>0</div><input id='attrs-e3589d77-a5bb-4f28-b675-eff77b37b5cf' class='xr-var-attrs-in' type='checkbox' ><label for='attrs-e3589d77-a5bb-4f28-b675-eff77b37b5cf' title='Show/Hide attributes'><svg class='icon xr-icon-file-text2'><use xlink:href='#icon-file-text2'></use></svg></label><input id='data-dd2058d3-141e-49ab-a7cf-5e4e58eace62' class='xr-var-data-in' type='checkbox'><label for='data-dd2058d3-141e-49ab-a7cf-5e4e58eace62' title='Show/Hide data repr'><svg class='icon xr-icon-database'><use xlink:href='#icon-database'></use></svg></label><div class='xr-var-attrs'><dl class='xr-attrs'><dt><span>crs_wkt :</span></dt><dd>PROJCS[&quot;Albers Conical Equal Area&quot;,GEOGCS[&quot;NAD83&quot;,DATUM[&quot;North_American_Datum_1983&quot;,SPHEROID[&quot;GRS 1980&quot;,6378137,298.257222101004,AUTHORITY[&quot;EPSG&quot;,&quot;7019&quot;]],AUTHORITY[&quot;EPSG&quot;,&quot;6269&quot;]],PRIMEM[&quot;Greenwich&quot;,0],UNIT[&quot;degree&quot;,0.0174532925199433,AUTHORITY[&quot;EPSG&quot;,&quot;9122&quot;]],AUTHORITY[&quot;EPSG&quot;,&quot;4269&quot;]],PROJECTION[&quot;Albers_Conic_Equal_Area&quot;],PARAMETER[&quot;latitude_of_center&quot;,23],PARAMETER[&quot;longitude_of_center&quot;,-96],PARAMETER[&quot;standard_parallel_1&quot;,29.5],PARAMETER[&quot;standard_parallel_2&quot;,45.5],PARAMETER[&quot;false_easting&quot;,0],PARAMETER[&quot;false_northing&quot;,0],UNIT[&quot;metre&quot;,1,AUTHORITY[&quot;EPSG&quot;,&quot;9001&quot;]],AXIS[&quot;Easting&quot;,EAST],AXIS[&quot;Northing&quot;,NORTH]]</dd><dt><span>semi_major_axis :</span></dt><dd>6378137.0</dd><dt><span>semi_minor_axis :</span></dt><dd>6356752.314140356</dd><dt><span>inverse_flattening :</span></dt><dd>298.257222101004</dd><dt><span>reference_ellipsoid_name :</span></dt><dd>GRS 1980</dd><dt><span>longitude_of_prime_meridian :</span></dt><dd>0.0</dd><dt><span>prime_meridian_name :</span></dt><dd>Greenwich</dd><dt><span>geographic_crs_name :</span></dt><dd>NAD83</dd><dt><span>horizontal_datum_name :</span></dt><dd>North American Datum 1983</dd><dt><span>projected_crs_name :</span></dt><dd>Albers Conical Equal Area</dd><dt><span>grid_mapping_name :</span></dt><dd>albers_conical_equal_area</dd><dt><span>standard_parallel :</span></dt><dd>(29.5, 45.5)</dd><dt><span>latitude_of_projection_origin :</span></dt><dd>23.0</dd><dt><span>longitude_of_central_meridian :</span></dt><dd>-96.0</dd><dt><span>false_easting :</span></dt><dd>0.0</dd><dt><span>false_northing :</span></dt><dd>0.0</dd><dt><span>spatial_ref :</span></dt><dd>PROJCS[&quot;Albers Conical Equal Area&quot;,GEOGCS[&quot;NAD83&quot;,DATUM[&quot;North_American_Datum_1983&quot;,SPHEROID[&quot;GRS 1980&quot;,6378137,298.257222101004,AUTHORITY[&quot;EPSG&quot;,&quot;7019&quot;]],AUTHORITY[&quot;EPSG&quot;,&quot;6269&quot;]],PRIMEM[&quot;Greenwich&quot;,0],UNIT[&quot;degree&quot;,0.0174532925199433,AUTHORITY[&quot;EPSG&quot;,&quot;9122&quot;]],AUTHORITY[&quot;EPSG&quot;,&quot;4269&quot;]],PROJECTION[&quot;Albers_Conic_Equal_Area&quot;],PARAMETER[&quot;latitude_of_center&quot;,23],PARAMETER[&quot;longitude_of_center&quot;,-96],PARAMETER[&quot;standard_parallel_1&quot;,29.5],PARAMETER[&quot;standard_parallel_2&quot;,45.5],PARAMETER[&quot;false_easting&quot;,0],PARAMETER[&quot;false_northing&quot;,0],UNIT[&quot;metre&quot;,1,AUTHORITY[&quot;EPSG&quot;,&quot;9001&quot;]],AXIS[&quot;Easting&quot;,EAST],AXIS[&quot;Northing&quot;,NORTH]]</dd><dt><span>GeoTransform :</span></dt><dd>-1934055.0 30.0 0.0 1282965.0 0.0 -30.0</dd></dl></div><div class='xr-var-data'><pre>array(0)</pre></div></li></ul></div></li><li class='xr-section-item'><input id='section-de33899d-f28a-4b0f-9447-6d8d2dcba425' class='xr-section-summary-in' type='checkbox'  checked><label for='section-de33899d-f28a-4b0f-9447-6d8d2dcba425' class='xr-section-summary' >Attributes: <span>(8)</span></label><div class='xr-section-inline-details'></div><div class='xr-section-details'><dl class='xr-attrs'><dt><span>STATISTICS_MAXIMUM :</span></dt><dd>4</dd><dt><span>STATISTICS_MEAN :</span></dt><dd>2.9418262150221</dd><dt><span>STATISTICS_MINIMUM :</span></dt><dd>2</dd><dt><span>STATISTICS_STDDEV :</span></dt><dd>0.65645333429579</dd><dt><span>STATISTICS_VALID_PERCENT :</span></dt><dd>69.37</dd><dt><span>_FillValue :</span></dt><dd>-3.3999999521443642e+38</dd><dt><span>scale_factor :</span></dt><dd>1.0</dd><dt><span>add_offset :</span></dt><dd>0.0</dd></dl></div></li></ul></div></div>"
      ],
      "text/plain": [
       "<xarray.DataArray (band: 1, y: 145, x: 135)>\n",
       "array([[[-3.4e+38, -3.4e+38, ..., -3.4e+38, -3.4e+38],\n",
       "        [-3.4e+38, -3.4e+38, ..., -3.4e+38, -3.4e+38],\n",
       "        ...,\n",
       "        [-3.4e+38, -3.4e+38, ..., -3.4e+38, -3.4e+38],\n",
       "        [-3.4e+38, -3.4e+38, ..., -3.4e+38, -3.4e+38]]], dtype=float32)\n",
       "Coordinates:\n",
       "  * band         (band) int64 1\n",
       "  * x            (x) float64 -1.934e+06 -1.934e+06 ... -1.93e+06 -1.93e+06\n",
       "  * y            (y) float64 1.283e+06 1.283e+06 ... 1.279e+06 1.279e+06\n",
       "    spatial_ref  int64 0\n",
       "Attributes:\n",
       "    STATISTICS_MAXIMUM:        4\n",
       "    STATISTICS_MEAN:           2.9418262150221\n",
       "    STATISTICS_MINIMUM:        2\n",
       "    STATISTICS_STDDEV:         0.65645333429579\n",
       "    STATISTICS_VALID_PERCENT:  69.37\n",
       "    _FillValue:                -3.3999999521443642e+38\n",
       "    scale_factor:              1.0\n",
       "    add_offset:                0.0"
      ]
     },
     "execution_count": 16,
     "metadata": {},
     "output_type": "execute_result"
    }
   ],
   "source": [
    "img"
   ]
  },
  {
   "attachments": {},
   "cell_type": "markdown",
   "metadata": {},
   "source": [
    "Raster value 0 -- non-processing area\n",
    "\n",
    "Raster value 1 -- unburned\n",
    "\n",
    "Raster value 2 -- low severity\n",
    "\n",
    "Raster value 3 -- moderate severity\n",
    "\n",
    "Raster value 4 -- high severity \n",
    "\n",
    "Raster value 5 -- grass burn"
   ]
  },
  {
   "cell_type": "code",
   "execution_count": 17,
   "metadata": {},
   "outputs": [
    {
     "data": {
      "text/plain": [
       "CRS.from_epsg(5070)"
      ]
     },
     "execution_count": 17,
     "metadata": {},
     "output_type": "execute_result"
    }
   ],
   "source": [
    "img.rio.crs"
   ]
  },
  {
   "cell_type": "code",
   "execution_count": 18,
   "metadata": {},
   "outputs": [],
   "source": [
    "from shapely.geometry import Polygon\n",
    "def get_bbox(shp):\n",
    "    xmin, ymin, xmax, ymax = shp.total_bounds\n",
    "    boundary = Polygon([(xmin, ymin), (xmin, ymax), (xmax, ymax), (xmax, ymin)])\n",
    "    geoJson = {'type': 'Polygon',\n",
    "     'coordinates': [[[ymin, xmin], [ymax, xmin], [ymax, xmax], [ymin, xmax]]] }\n",
    "    # boundary = gpd.GeoSeries([boundary]).__geo_interface__\n",
    "    return boundary, geoJson"
   ]
  },
  {
   "cell_type": "code",
   "execution_count": 19,
   "metadata": {},
   "outputs": [],
   "source": [
    "xmin, ymin, xmax, ymax = img.rio.transform_bounds(\n",
    "    \"+init=epsg:4326\",\n",
    "    densify_pts=1,\n",
    ")"
   ]
  },
  {
   "cell_type": "code",
   "execution_count": 20,
   "metadata": {},
   "outputs": [
    {
     "data": {
      "image/svg+xml": "<svg xmlns=\"http://www.w3.org/2000/svg\" xmlns:xlink=\"http://www.w3.org/1999/xlink\" width=\"100.0\" height=\"100.0\" viewBox=\"-116.91618753722607 32.6550511439877 0.05676534170413561 0.05018002011313172\" preserveAspectRatio=\"xMinYMin meet\"><g transform=\"matrix(1,0,0,-1,0,65.36028230808853)\"><path fill-rule=\"evenodd\" fill=\"#66cc99\" stroke=\"#555555\" stroke-width=\"0.0011353068340827122\" opacity=\"0.6\" d=\"M -116.91408511716295,32.657153564050816 L -116.91408511716295,32.70312874403771 L -116.86152461558504,32.70312874403771 L -116.86152461558504,32.657153564050816 L -116.91408511716295,32.657153564050816 z\" /></g></svg>",
      "text/plain": [
       "<shapely.geometry.polygon.Polygon at 0x1b0ad53a0>"
      ]
     },
     "execution_count": 20,
     "metadata": {},
     "output_type": "execute_result"
    }
   ],
   "source": [
    "Polygon([(xmin, ymin), (xmin, ymax), (xmax, ymax), (xmax, ymin)])"
   ]
  },
  {
   "cell_type": "code",
   "execution_count": 21,
   "metadata": {},
   "outputs": [],
   "source": [
    "def get_geo(path):\n",
    "    img = rx.open_rasterio(os.path.join(img_path, path))\n",
    "    xmin, ymin, xmax, ymax = img.rio.transform_bounds(\n",
    "    \"+init=epsg:4326\",\n",
    "    densify_pts=1,\n",
    "    )\n",
    "\n",
    "    return Polygon([(xmin, ymin), (xmin, ymax), (xmax, ymax), (xmax, ymin)])"
   ]
  },
  {
   "cell_type": "code",
   "execution_count": 22,
   "metadata": {},
   "outputs": [
    {
     "ename": "RasterioIOError",
     "evalue": "'/Users/MacBookPro/Documents/Berkeley/ExplainableFire/doi_10.6071_M3QX18__v7/burn_severity_CA/ca3268211688619840421_burn_severity_CA.tif.aux.xml' not recognized as a supported file format.",
     "output_type": "error",
     "traceback": [
      "\u001b[0;31m---------------------------------------------------------------------------\u001b[0m",
      "\u001b[0;31mKeyError\u001b[0m                                  Traceback (most recent call last)",
      "\u001b[0;32m~/anaconda3/envs/spatial2/lib/python3.9/site-packages/xarray/backends/file_manager.py\u001b[0m in \u001b[0;36m_acquire_with_cache_info\u001b[0;34m(self, needs_lock)\u001b[0m\n\u001b[1;32m    198\u001b[0m             \u001b[0;32mtry\u001b[0m\u001b[0;34m:\u001b[0m\u001b[0;34m\u001b[0m\u001b[0;34m\u001b[0m\u001b[0m\n\u001b[0;32m--> 199\u001b[0;31m                 \u001b[0mfile\u001b[0m \u001b[0;34m=\u001b[0m \u001b[0mself\u001b[0m\u001b[0;34m.\u001b[0m\u001b[0m_cache\u001b[0m\u001b[0;34m[\u001b[0m\u001b[0mself\u001b[0m\u001b[0;34m.\u001b[0m\u001b[0m_key\u001b[0m\u001b[0;34m]\u001b[0m\u001b[0;34m\u001b[0m\u001b[0;34m\u001b[0m\u001b[0m\n\u001b[0m\u001b[1;32m    200\u001b[0m             \u001b[0;32mexcept\u001b[0m \u001b[0mKeyError\u001b[0m\u001b[0;34m:\u001b[0m\u001b[0;34m\u001b[0m\u001b[0;34m\u001b[0m\u001b[0m\n",
      "\u001b[0;32m~/anaconda3/envs/spatial2/lib/python3.9/site-packages/xarray/backends/lru_cache.py\u001b[0m in \u001b[0;36m__getitem__\u001b[0;34m(self, key)\u001b[0m\n\u001b[1;32m     52\u001b[0m         \u001b[0;32mwith\u001b[0m \u001b[0mself\u001b[0m\u001b[0;34m.\u001b[0m\u001b[0m_lock\u001b[0m\u001b[0;34m:\u001b[0m\u001b[0;34m\u001b[0m\u001b[0;34m\u001b[0m\u001b[0m\n\u001b[0;32m---> 53\u001b[0;31m             \u001b[0mvalue\u001b[0m \u001b[0;34m=\u001b[0m \u001b[0mself\u001b[0m\u001b[0;34m.\u001b[0m\u001b[0m_cache\u001b[0m\u001b[0;34m[\u001b[0m\u001b[0mkey\u001b[0m\u001b[0;34m]\u001b[0m\u001b[0;34m\u001b[0m\u001b[0;34m\u001b[0m\u001b[0m\n\u001b[0m\u001b[1;32m     54\u001b[0m             \u001b[0mself\u001b[0m\u001b[0;34m.\u001b[0m\u001b[0m_cache\u001b[0m\u001b[0;34m.\u001b[0m\u001b[0mmove_to_end\u001b[0m\u001b[0;34m(\u001b[0m\u001b[0mkey\u001b[0m\u001b[0;34m)\u001b[0m\u001b[0;34m\u001b[0m\u001b[0;34m\u001b[0m\u001b[0m\n",
      "\u001b[0;31mKeyError\u001b[0m: [<function open at 0x1a922aaf0>, ('/Users/MacBookPro/Documents/Berkeley/ExplainableFire/doi_10.6071_M3QX18__v7/burn_severity_CA/ca3268211688619840421_burn_severity_CA.tif.aux.xml',), 'r', (('sharing', False),)]",
      "\nDuring handling of the above exception, another exception occurred:\n",
      "\u001b[0;31mCPLE_OpenFailedError\u001b[0m                      Traceback (most recent call last)",
      "\u001b[0;32mrasterio/_base.pyx\u001b[0m in \u001b[0;36mrasterio._base.DatasetBase.__init__\u001b[0;34m()\u001b[0m\n",
      "\u001b[0;32mrasterio/_shim.pyx\u001b[0m in \u001b[0;36mrasterio._shim.open_dataset\u001b[0;34m()\u001b[0m\n",
      "\u001b[0;32mrasterio/_err.pyx\u001b[0m in \u001b[0;36mrasterio._err.exc_wrap_pointer\u001b[0;34m()\u001b[0m\n",
      "\u001b[0;31mCPLE_OpenFailedError\u001b[0m: '/Users/MacBookPro/Documents/Berkeley/ExplainableFire/doi_10.6071_M3QX18__v7/burn_severity_CA/ca3268211688619840421_burn_severity_CA.tif.aux.xml' not recognized as a supported file format.",
      "\nDuring handling of the above exception, another exception occurred:\n",
      "\u001b[0;31mRasterioIOError\u001b[0m                           Traceback (most recent call last)",
      "\u001b[0;32m/var/folders/39/fwmqp1m57h18819pjf1frnq00000gn/T/ipykernel_7006/2953751013.py\u001b[0m in \u001b[0;36m<module>\u001b[0;34m\u001b[0m\n\u001b[0;32m----> 1\u001b[0;31m \u001b[0mca_fires\u001b[0m\u001b[0;34m[\u001b[0m\u001b[0;34m'geometry'\u001b[0m\u001b[0;34m]\u001b[0m \u001b[0;34m=\u001b[0m \u001b[0mca_fires\u001b[0m\u001b[0;34m[\u001b[0m\u001b[0;34m'path'\u001b[0m\u001b[0;34m]\u001b[0m\u001b[0;34m.\u001b[0m\u001b[0mapply\u001b[0m\u001b[0;34m(\u001b[0m\u001b[0;32mlambda\u001b[0m \u001b[0mx\u001b[0m\u001b[0;34m:\u001b[0m \u001b[0mget_geo\u001b[0m\u001b[0;34m(\u001b[0m\u001b[0mx\u001b[0m\u001b[0;34m)\u001b[0m\u001b[0;34m)\u001b[0m\u001b[0;34m\u001b[0m\u001b[0;34m\u001b[0m\u001b[0m\n\u001b[0m",
      "\u001b[0;32m~/anaconda3/envs/spatial2/lib/python3.9/site-packages/pandas/core/series.py\u001b[0m in \u001b[0;36mapply\u001b[0;34m(self, func, convert_dtype, args, **kwds)\u001b[0m\n\u001b[1;32m   4136\u001b[0m             \u001b[0;32melse\u001b[0m\u001b[0;34m:\u001b[0m\u001b[0;34m\u001b[0m\u001b[0;34m\u001b[0m\u001b[0m\n\u001b[1;32m   4137\u001b[0m                 \u001b[0mvalues\u001b[0m \u001b[0;34m=\u001b[0m \u001b[0mself\u001b[0m\u001b[0;34m.\u001b[0m\u001b[0mastype\u001b[0m\u001b[0;34m(\u001b[0m\u001b[0mobject\u001b[0m\u001b[0;34m)\u001b[0m\u001b[0;34m.\u001b[0m\u001b[0m_values\u001b[0m\u001b[0;34m\u001b[0m\u001b[0;34m\u001b[0m\u001b[0m\n\u001b[0;32m-> 4138\u001b[0;31m                 \u001b[0mmapped\u001b[0m \u001b[0;34m=\u001b[0m \u001b[0mlib\u001b[0m\u001b[0;34m.\u001b[0m\u001b[0mmap_infer\u001b[0m\u001b[0;34m(\u001b[0m\u001b[0mvalues\u001b[0m\u001b[0;34m,\u001b[0m \u001b[0mf\u001b[0m\u001b[0;34m,\u001b[0m \u001b[0mconvert\u001b[0m\u001b[0;34m=\u001b[0m\u001b[0mconvert_dtype\u001b[0m\u001b[0;34m)\u001b[0m\u001b[0;34m\u001b[0m\u001b[0;34m\u001b[0m\u001b[0m\n\u001b[0m\u001b[1;32m   4139\u001b[0m \u001b[0;34m\u001b[0m\u001b[0m\n\u001b[1;32m   4140\u001b[0m         \u001b[0;32mif\u001b[0m \u001b[0mlen\u001b[0m\u001b[0;34m(\u001b[0m\u001b[0mmapped\u001b[0m\u001b[0;34m)\u001b[0m \u001b[0;32mand\u001b[0m \u001b[0misinstance\u001b[0m\u001b[0;34m(\u001b[0m\u001b[0mmapped\u001b[0m\u001b[0;34m[\u001b[0m\u001b[0;36m0\u001b[0m\u001b[0;34m]\u001b[0m\u001b[0;34m,\u001b[0m \u001b[0mSeries\u001b[0m\u001b[0;34m)\u001b[0m\u001b[0;34m:\u001b[0m\u001b[0;34m\u001b[0m\u001b[0;34m\u001b[0m\u001b[0m\n",
      "\u001b[0;32mpandas/_libs/lib.pyx\u001b[0m in \u001b[0;36mpandas._libs.lib.map_infer\u001b[0;34m()\u001b[0m\n",
      "\u001b[0;32m/var/folders/39/fwmqp1m57h18819pjf1frnq00000gn/T/ipykernel_7006/2953751013.py\u001b[0m in \u001b[0;36m<lambda>\u001b[0;34m(x)\u001b[0m\n\u001b[0;32m----> 1\u001b[0;31m \u001b[0mca_fires\u001b[0m\u001b[0;34m[\u001b[0m\u001b[0;34m'geometry'\u001b[0m\u001b[0;34m]\u001b[0m \u001b[0;34m=\u001b[0m \u001b[0mca_fires\u001b[0m\u001b[0;34m[\u001b[0m\u001b[0;34m'path'\u001b[0m\u001b[0;34m]\u001b[0m\u001b[0;34m.\u001b[0m\u001b[0mapply\u001b[0m\u001b[0;34m(\u001b[0m\u001b[0;32mlambda\u001b[0m \u001b[0mx\u001b[0m\u001b[0;34m:\u001b[0m \u001b[0mget_geo\u001b[0m\u001b[0;34m(\u001b[0m\u001b[0mx\u001b[0m\u001b[0;34m)\u001b[0m\u001b[0;34m)\u001b[0m\u001b[0;34m\u001b[0m\u001b[0;34m\u001b[0m\u001b[0m\n\u001b[0m",
      "\u001b[0;32m/var/folders/39/fwmqp1m57h18819pjf1frnq00000gn/T/ipykernel_7006/743764788.py\u001b[0m in \u001b[0;36mget_geo\u001b[0;34m(path)\u001b[0m\n\u001b[1;32m      1\u001b[0m \u001b[0;32mdef\u001b[0m \u001b[0mget_geo\u001b[0m\u001b[0;34m(\u001b[0m\u001b[0mpath\u001b[0m\u001b[0;34m)\u001b[0m\u001b[0;34m:\u001b[0m\u001b[0;34m\u001b[0m\u001b[0;34m\u001b[0m\u001b[0m\n\u001b[0;32m----> 2\u001b[0;31m     \u001b[0mimg\u001b[0m \u001b[0;34m=\u001b[0m \u001b[0mrx\u001b[0m\u001b[0;34m.\u001b[0m\u001b[0mopen_rasterio\u001b[0m\u001b[0;34m(\u001b[0m\u001b[0mos\u001b[0m\u001b[0;34m.\u001b[0m\u001b[0mpath\u001b[0m\u001b[0;34m.\u001b[0m\u001b[0mjoin\u001b[0m\u001b[0;34m(\u001b[0m\u001b[0mimg_path\u001b[0m\u001b[0;34m,\u001b[0m \u001b[0mpath\u001b[0m\u001b[0;34m)\u001b[0m\u001b[0;34m)\u001b[0m\u001b[0;34m\u001b[0m\u001b[0;34m\u001b[0m\u001b[0m\n\u001b[0m\u001b[1;32m      3\u001b[0m     xmin, ymin, xmax, ymax = img.rio.transform_bounds(\n\u001b[1;32m      4\u001b[0m     \u001b[0;34m\"+init=epsg:4326\"\u001b[0m\u001b[0;34m,\u001b[0m\u001b[0;34m\u001b[0m\u001b[0;34m\u001b[0m\u001b[0m\n\u001b[1;32m      5\u001b[0m     \u001b[0mdensify_pts\u001b[0m\u001b[0;34m=\u001b[0m\u001b[0;36m1\u001b[0m\u001b[0;34m,\u001b[0m\u001b[0;34m\u001b[0m\u001b[0;34m\u001b[0m\u001b[0m\n",
      "\u001b[0;32m~/anaconda3/envs/spatial2/lib/python3.9/site-packages/rioxarray/_io.py\u001b[0m in \u001b[0;36mopen_rasterio\u001b[0;34m(filename, parse_coordinates, chunks, cache, lock, masked, mask_and_scale, variable, group, default_name, decode_times, decode_timedelta, **open_kwargs)\u001b[0m\n\u001b[1;32m    841\u001b[0m         \u001b[0;32melse\u001b[0m\u001b[0;34m:\u001b[0m\u001b[0;34m\u001b[0m\u001b[0;34m\u001b[0m\u001b[0m\n\u001b[1;32m    842\u001b[0m             \u001b[0mmanager\u001b[0m \u001b[0;34m=\u001b[0m \u001b[0mURIManager\u001b[0m\u001b[0;34m(\u001b[0m\u001b[0mrasterio\u001b[0m\u001b[0;34m.\u001b[0m\u001b[0mopen\u001b[0m\u001b[0;34m,\u001b[0m \u001b[0mfilename\u001b[0m\u001b[0;34m,\u001b[0m \u001b[0mmode\u001b[0m\u001b[0;34m=\u001b[0m\u001b[0;34m\"r\"\u001b[0m\u001b[0;34m,\u001b[0m \u001b[0mkwargs\u001b[0m\u001b[0;34m=\u001b[0m\u001b[0mopen_kwargs\u001b[0m\u001b[0;34m)\u001b[0m\u001b[0;34m\u001b[0m\u001b[0;34m\u001b[0m\u001b[0m\n\u001b[0;32m--> 843\u001b[0;31m         \u001b[0mriods\u001b[0m \u001b[0;34m=\u001b[0m \u001b[0mmanager\u001b[0m\u001b[0;34m.\u001b[0m\u001b[0macquire\u001b[0m\u001b[0;34m(\u001b[0m\u001b[0;34m)\u001b[0m\u001b[0;34m\u001b[0m\u001b[0;34m\u001b[0m\u001b[0m\n\u001b[0m\u001b[1;32m    844\u001b[0m         \u001b[0mcaptured_warnings\u001b[0m \u001b[0;34m=\u001b[0m \u001b[0mrio_warnings\u001b[0m\u001b[0;34m.\u001b[0m\u001b[0mcopy\u001b[0m\u001b[0;34m(\u001b[0m\u001b[0;34m)\u001b[0m\u001b[0;34m\u001b[0m\u001b[0;34m\u001b[0m\u001b[0m\n\u001b[1;32m    845\u001b[0m \u001b[0;34m\u001b[0m\u001b[0m\n",
      "\u001b[0;32m~/anaconda3/envs/spatial2/lib/python3.9/site-packages/xarray/backends/file_manager.py\u001b[0m in \u001b[0;36macquire\u001b[0;34m(self, needs_lock)\u001b[0m\n\u001b[1;32m    179\u001b[0m             \u001b[0mAn\u001b[0m \u001b[0mopen\u001b[0m \u001b[0mfile\u001b[0m \u001b[0mobject\u001b[0m\u001b[0;34m,\u001b[0m \u001b[0;32mas\u001b[0m \u001b[0mreturned\u001b[0m \u001b[0mby\u001b[0m\u001b[0;31m \u001b[0m\u001b[0;31m`\u001b[0m\u001b[0;31m`\u001b[0m\u001b[0mopener\u001b[0m\u001b[0;34m(\u001b[0m\u001b[0;34m*\u001b[0m\u001b[0margs\u001b[0m\u001b[0;34m,\u001b[0m \u001b[0;34m**\u001b[0m\u001b[0mkwargs\u001b[0m\u001b[0;34m)\u001b[0m\u001b[0;31m`\u001b[0m\u001b[0;31m`\u001b[0m\u001b[0;34m.\u001b[0m\u001b[0;34m\u001b[0m\u001b[0;34m\u001b[0m\u001b[0m\n\u001b[1;32m    180\u001b[0m         \"\"\"\n\u001b[0;32m--> 181\u001b[0;31m         \u001b[0mfile\u001b[0m\u001b[0;34m,\u001b[0m \u001b[0m_\u001b[0m \u001b[0;34m=\u001b[0m \u001b[0mself\u001b[0m\u001b[0;34m.\u001b[0m\u001b[0m_acquire_with_cache_info\u001b[0m\u001b[0;34m(\u001b[0m\u001b[0mneeds_lock\u001b[0m\u001b[0;34m)\u001b[0m\u001b[0;34m\u001b[0m\u001b[0;34m\u001b[0m\u001b[0m\n\u001b[0m\u001b[1;32m    182\u001b[0m         \u001b[0;32mreturn\u001b[0m \u001b[0mfile\u001b[0m\u001b[0;34m\u001b[0m\u001b[0;34m\u001b[0m\u001b[0m\n\u001b[1;32m    183\u001b[0m \u001b[0;34m\u001b[0m\u001b[0m\n",
      "\u001b[0;32m~/anaconda3/envs/spatial2/lib/python3.9/site-packages/xarray/backends/file_manager.py\u001b[0m in \u001b[0;36m_acquire_with_cache_info\u001b[0;34m(self, needs_lock)\u001b[0m\n\u001b[1;32m    203\u001b[0m                     \u001b[0mkwargs\u001b[0m \u001b[0;34m=\u001b[0m \u001b[0mkwargs\u001b[0m\u001b[0;34m.\u001b[0m\u001b[0mcopy\u001b[0m\u001b[0;34m(\u001b[0m\u001b[0;34m)\u001b[0m\u001b[0;34m\u001b[0m\u001b[0;34m\u001b[0m\u001b[0m\n\u001b[1;32m    204\u001b[0m                     \u001b[0mkwargs\u001b[0m\u001b[0;34m[\u001b[0m\u001b[0;34m\"mode\"\u001b[0m\u001b[0;34m]\u001b[0m \u001b[0;34m=\u001b[0m \u001b[0mself\u001b[0m\u001b[0;34m.\u001b[0m\u001b[0m_mode\u001b[0m\u001b[0;34m\u001b[0m\u001b[0;34m\u001b[0m\u001b[0m\n\u001b[0;32m--> 205\u001b[0;31m                 \u001b[0mfile\u001b[0m \u001b[0;34m=\u001b[0m \u001b[0mself\u001b[0m\u001b[0;34m.\u001b[0m\u001b[0m_opener\u001b[0m\u001b[0;34m(\u001b[0m\u001b[0;34m*\u001b[0m\u001b[0mself\u001b[0m\u001b[0;34m.\u001b[0m\u001b[0m_args\u001b[0m\u001b[0;34m,\u001b[0m \u001b[0;34m**\u001b[0m\u001b[0mkwargs\u001b[0m\u001b[0;34m)\u001b[0m\u001b[0;34m\u001b[0m\u001b[0;34m\u001b[0m\u001b[0m\n\u001b[0m\u001b[1;32m    206\u001b[0m                 \u001b[0;32mif\u001b[0m \u001b[0mself\u001b[0m\u001b[0;34m.\u001b[0m\u001b[0m_mode\u001b[0m \u001b[0;34m==\u001b[0m \u001b[0;34m\"w\"\u001b[0m\u001b[0;34m:\u001b[0m\u001b[0;34m\u001b[0m\u001b[0;34m\u001b[0m\u001b[0m\n\u001b[1;32m    207\u001b[0m                     \u001b[0;31m# ensure file doesn't get overriden when opened again\u001b[0m\u001b[0;34m\u001b[0m\u001b[0;34m\u001b[0m\u001b[0m\n",
      "\u001b[0;32m~/anaconda3/envs/spatial2/lib/python3.9/site-packages/rasterio/env.py\u001b[0m in \u001b[0;36mwrapper\u001b[0;34m(*args, **kwds)\u001b[0m\n\u001b[1;32m    435\u001b[0m \u001b[0;34m\u001b[0m\u001b[0m\n\u001b[1;32m    436\u001b[0m         \u001b[0;32mwith\u001b[0m \u001b[0menv_ctor\u001b[0m\u001b[0;34m(\u001b[0m\u001b[0msession\u001b[0m\u001b[0;34m=\u001b[0m\u001b[0msession\u001b[0m\u001b[0;34m)\u001b[0m\u001b[0;34m:\u001b[0m\u001b[0;34m\u001b[0m\u001b[0;34m\u001b[0m\u001b[0m\n\u001b[0;32m--> 437\u001b[0;31m             \u001b[0;32mreturn\u001b[0m \u001b[0mf\u001b[0m\u001b[0;34m(\u001b[0m\u001b[0;34m*\u001b[0m\u001b[0margs\u001b[0m\u001b[0;34m,\u001b[0m \u001b[0;34m**\u001b[0m\u001b[0mkwds\u001b[0m\u001b[0;34m)\u001b[0m\u001b[0;34m\u001b[0m\u001b[0;34m\u001b[0m\u001b[0m\n\u001b[0m\u001b[1;32m    438\u001b[0m \u001b[0;34m\u001b[0m\u001b[0m\n\u001b[1;32m    439\u001b[0m     \u001b[0;32mreturn\u001b[0m \u001b[0mwrapper\u001b[0m\u001b[0;34m\u001b[0m\u001b[0;34m\u001b[0m\u001b[0m\n",
      "\u001b[0;32m~/anaconda3/envs/spatial2/lib/python3.9/site-packages/rasterio/__init__.py\u001b[0m in \u001b[0;36mopen\u001b[0;34m(fp, mode, driver, width, height, count, crs, transform, dtype, nodata, sharing, **kwargs)\u001b[0m\n\u001b[1;32m    218\u001b[0m         \u001b[0;31m# None.\u001b[0m\u001b[0;34m\u001b[0m\u001b[0;34m\u001b[0m\u001b[0m\n\u001b[1;32m    219\u001b[0m         \u001b[0;32mif\u001b[0m \u001b[0mmode\u001b[0m \u001b[0;34m==\u001b[0m \u001b[0;34m'r'\u001b[0m\u001b[0;34m:\u001b[0m\u001b[0;34m\u001b[0m\u001b[0;34m\u001b[0m\u001b[0m\n\u001b[0;32m--> 220\u001b[0;31m             \u001b[0ms\u001b[0m \u001b[0;34m=\u001b[0m \u001b[0mDatasetReader\u001b[0m\u001b[0;34m(\u001b[0m\u001b[0mpath\u001b[0m\u001b[0;34m,\u001b[0m \u001b[0mdriver\u001b[0m\u001b[0;34m=\u001b[0m\u001b[0mdriver\u001b[0m\u001b[0;34m,\u001b[0m \u001b[0msharing\u001b[0m\u001b[0;34m=\u001b[0m\u001b[0msharing\u001b[0m\u001b[0;34m,\u001b[0m \u001b[0;34m**\u001b[0m\u001b[0mkwargs\u001b[0m\u001b[0;34m)\u001b[0m\u001b[0;34m\u001b[0m\u001b[0;34m\u001b[0m\u001b[0m\n\u001b[0m\u001b[1;32m    221\u001b[0m         \u001b[0;32melif\u001b[0m \u001b[0mmode\u001b[0m \u001b[0;34m==\u001b[0m \u001b[0;34m\"r+\"\u001b[0m\u001b[0;34m:\u001b[0m\u001b[0;34m\u001b[0m\u001b[0;34m\u001b[0m\u001b[0m\n\u001b[1;32m    222\u001b[0m             s = get_writer_for_path(path, driver=driver)(\n",
      "\u001b[0;32mrasterio/_base.pyx\u001b[0m in \u001b[0;36mrasterio._base.DatasetBase.__init__\u001b[0;34m()\u001b[0m\n",
      "\u001b[0;31mRasterioIOError\u001b[0m: '/Users/MacBookPro/Documents/Berkeley/ExplainableFire/doi_10.6071_M3QX18__v7/burn_severity_CA/ca3268211688619840421_burn_severity_CA.tif.aux.xml' not recognized as a supported file format."
     ]
    }
   ],
   "source": [
    "ca_fires['geometry'] = ca_fires['path'].apply(lambda x: get_geo(x))"
   ]
  },
  {
   "cell_type": "code",
   "execution_count": null,
   "metadata": {},
   "outputs": [
    {
     "data": {
      "text/html": [
       "<div>\n",
       "<style scoped>\n",
       "    .dataframe tbody tr th:only-of-type {\n",
       "        vertical-align: middle;\n",
       "    }\n",
       "\n",
       "    .dataframe tbody tr th {\n",
       "        vertical-align: top;\n",
       "    }\n",
       "\n",
       "    .dataframe thead th {\n",
       "        text-align: right;\n",
       "    }\n",
       "</style>\n",
       "<table border=\"1\" class=\"dataframe\">\n",
       "  <thead>\n",
       "    <tr style=\"text-align: right;\">\n",
       "      <th></th>\n",
       "      <th>Event_ID</th>\n",
       "      <th>Fire_Name</th>\n",
       "      <th>Lat</th>\n",
       "      <th>Long</th>\n",
       "      <th>Fire_Year</th>\n",
       "      <th>Fire_Month</th>\n",
       "      <th>Total_area_burned(ha)</th>\n",
       "      <th>Unchanged(ha)</th>\n",
       "      <th>Low_Severity(ha)</th>\n",
       "      <th>Moderate_Severity(ha)</th>\n",
       "      <th>...</th>\n",
       "      <th>NH3(kg)</th>\n",
       "      <th>NO(kg)</th>\n",
       "      <th>NO2(kg)</th>\n",
       "      <th>NOx(kg)</th>\n",
       "      <th>PM2.5(kg)</th>\n",
       "      <th>OC(kg)</th>\n",
       "      <th>BC(kg)</th>\n",
       "      <th>id</th>\n",
       "      <th>path</th>\n",
       "      <th>geometry</th>\n",
       "    </tr>\n",
       "  </thead>\n",
       "  <tbody>\n",
       "    <tr>\n",
       "      <th>0</th>\n",
       "      <td>CA3268211688619840421</td>\n",
       "      <td>PROCTOR</td>\n",
       "      <td>32.682</td>\n",
       "      <td>-116.886</td>\n",
       "      <td>1984</td>\n",
       "      <td>4</td>\n",
       "      <td>1222.20</td>\n",
       "      <td>0.00</td>\n",
       "      <td>300.96</td>\n",
       "      <td>691.38</td>\n",
       "      <td>...</td>\n",
       "      <td>93153.2148</td>\n",
       "      <td>72501.624</td>\n",
       "      <td>52617.2868</td>\n",
       "      <td>116967.780</td>\n",
       "      <td>439157.412</td>\n",
       "      <td>205992.036</td>\n",
       "      <td>72591.8796</td>\n",
       "      <td>ca3268211688619840421</td>\n",
       "      <td>ca3268211688619840421_burn_severity_CA.tif</td>\n",
       "      <td>POLYGON ((-116.914085117163 32.65715356405082,...</td>\n",
       "    </tr>\n",
       "    <tr>\n",
       "      <th>1</th>\n",
       "      <td>CA3341311687319840530</td>\n",
       "      <td>AGUANGA</td>\n",
       "      <td>33.413</td>\n",
       "      <td>-116.873</td>\n",
       "      <td>1984</td>\n",
       "      <td>5</td>\n",
       "      <td>2250.81</td>\n",
       "      <td>0.54</td>\n",
       "      <td>719.28</td>\n",
       "      <td>1209.42</td>\n",
       "      <td>...</td>\n",
       "      <td>176318.4834</td>\n",
       "      <td>136579.959</td>\n",
       "      <td>104980.0932</td>\n",
       "      <td>215969.733</td>\n",
       "      <td>921608.307</td>\n",
       "      <td>551366.541</td>\n",
       "      <td>128230.0443</td>\n",
       "      <td>ca3341311687319840530</td>\n",
       "      <td>ca3341311687319840530_burn_severity_CA.tif</td>\n",
       "      <td>POLYGON ((-116.916177421544 33.38206271528966,...</td>\n",
       "    </tr>\n",
       "    <tr>\n",
       "      <th>2</th>\n",
       "      <td>CA3375011772919840615</td>\n",
       "      <td>LOMA RIDGE</td>\n",
       "      <td>33.750</td>\n",
       "      <td>-117.729</td>\n",
       "      <td>1984</td>\n",
       "      <td>6</td>\n",
       "      <td>559.26</td>\n",
       "      <td>5.58</td>\n",
       "      <td>268.83</td>\n",
       "      <td>267.03</td>\n",
       "      <td>...</td>\n",
       "      <td>32872.9653</td>\n",
       "      <td>25819.893</td>\n",
       "      <td>19010.9259</td>\n",
       "      <td>41448.456</td>\n",
       "      <td>158066.550</td>\n",
       "      <td>77518.152</td>\n",
       "      <td>25344.1260</td>\n",
       "      <td>ca3375011772919840615</td>\n",
       "      <td>ca3375011772919840615_burn_severity_CA.tif</td>\n",
       "      <td>POLYGON ((-117.7476478495052 33.72471329607049...</td>\n",
       "    </tr>\n",
       "    <tr>\n",
       "      <th>3</th>\n",
       "      <td>CA3428511755419840528</td>\n",
       "      <td>LYTLE</td>\n",
       "      <td>34.285</td>\n",
       "      <td>-117.554</td>\n",
       "      <td>1984</td>\n",
       "      <td>5</td>\n",
       "      <td>988.47</td>\n",
       "      <td>20.79</td>\n",
       "      <td>134.19</td>\n",
       "      <td>446.58</td>\n",
       "      <td>...</td>\n",
       "      <td>91820.5767</td>\n",
       "      <td>70816.158</td>\n",
       "      <td>70530.9435</td>\n",
       "      <td>99933.183</td>\n",
       "      <td>721917.063</td>\n",
       "      <td>715550.607</td>\n",
       "      <td>42452.7525</td>\n",
       "      <td>ca3428511755419840528</td>\n",
       "      <td>ca3428511755419840528_burn_severity_CA.tif</td>\n",
       "      <td>POLYGON ((-117.5804835426337 34.25904094737259...</td>\n",
       "    </tr>\n",
       "    <tr>\n",
       "      <th>4</th>\n",
       "      <td>CA3444311889619841015</td>\n",
       "      <td>SQUAW FLAT</td>\n",
       "      <td>34.443</td>\n",
       "      <td>-118.896</td>\n",
       "      <td>1984</td>\n",
       "      <td>10</td>\n",
       "      <td>2447.64</td>\n",
       "      <td>19.80</td>\n",
       "      <td>1748.97</td>\n",
       "      <td>607.32</td>\n",
       "      <td>...</td>\n",
       "      <td>156232.3275</td>\n",
       "      <td>124645.644</td>\n",
       "      <td>105702.7491</td>\n",
       "      <td>189641.601</td>\n",
       "      <td>951805.737</td>\n",
       "      <td>717583.221</td>\n",
       "      <td>100634.9715</td>\n",
       "      <td>ca3444311889619841015</td>\n",
       "      <td>ca3444311889619841015_burn_severity_CA.tif</td>\n",
       "      <td>POLYGON ((-118.936257678276 34.40777985036063,...</td>\n",
       "    </tr>\n",
       "  </tbody>\n",
       "</table>\n",
       "<p>5 rows × 27 columns</p>\n",
       "</div>"
      ],
      "text/plain": [
       "                Event_ID   Fire_Name     Lat     Long  Fire_Year  Fire_Month  \\\n",
       "0  CA3268211688619840421     PROCTOR  32.682 -116.886       1984           4   \n",
       "1  CA3341311687319840530     AGUANGA  33.413 -116.873       1984           5   \n",
       "2  CA3375011772919840615  LOMA RIDGE  33.750 -117.729       1984           6   \n",
       "3  CA3428511755419840528       LYTLE  34.285 -117.554       1984           5   \n",
       "4  CA3444311889619841015  SQUAW FLAT  34.443 -118.896       1984          10   \n",
       "\n",
       "   Total_area_burned(ha)  Unchanged(ha)  Low_Severity(ha)  \\\n",
       "0                1222.20           0.00            300.96   \n",
       "1                2250.81           0.54            719.28   \n",
       "2                 559.26           5.58            268.83   \n",
       "3                 988.47          20.79            134.19   \n",
       "4                2447.64          19.80           1748.97   \n",
       "\n",
       "   Moderate_Severity(ha)  ...      NH3(kg)      NO(kg)      NO2(kg)  \\\n",
       "0                 691.38  ...   93153.2148   72501.624   52617.2868   \n",
       "1                1209.42  ...  176318.4834  136579.959  104980.0932   \n",
       "2                 267.03  ...   32872.9653   25819.893   19010.9259   \n",
       "3                 446.58  ...   91820.5767   70816.158   70530.9435   \n",
       "4                 607.32  ...  156232.3275  124645.644  105702.7491   \n",
       "\n",
       "      NOx(kg)   PM2.5(kg)      OC(kg)       BC(kg)                     id  \\\n",
       "0  116967.780  439157.412  205992.036   72591.8796  ca3268211688619840421   \n",
       "1  215969.733  921608.307  551366.541  128230.0443  ca3341311687319840530   \n",
       "2   41448.456  158066.550   77518.152   25344.1260  ca3375011772919840615   \n",
       "3   99933.183  721917.063  715550.607   42452.7525  ca3428511755419840528   \n",
       "4  189641.601  951805.737  717583.221  100634.9715  ca3444311889619841015   \n",
       "\n",
       "                                         path  \\\n",
       "0  ca3268211688619840421_burn_severity_CA.tif   \n",
       "1  ca3341311687319840530_burn_severity_CA.tif   \n",
       "2  ca3375011772919840615_burn_severity_CA.tif   \n",
       "3  ca3428511755419840528_burn_severity_CA.tif   \n",
       "4  ca3444311889619841015_burn_severity_CA.tif   \n",
       "\n",
       "                                            geometry  \n",
       "0  POLYGON ((-116.914085117163 32.65715356405082,...  \n",
       "1  POLYGON ((-116.916177421544 33.38206271528966,...  \n",
       "2  POLYGON ((-117.7476478495052 33.72471329607049...  \n",
       "3  POLYGON ((-117.5804835426337 34.25904094737259...  \n",
       "4  POLYGON ((-118.936257678276 34.40777985036063,...  \n",
       "\n",
       "[5 rows x 27 columns]"
      ]
     },
     "execution_count": 81,
     "metadata": {},
     "output_type": "execute_result"
    }
   ],
   "source": [
    "ca_fires.head()"
   ]
  },
  {
   "cell_type": "code",
   "execution_count": null,
   "metadata": {},
   "outputs": [],
   "source": [
    "eco = gpd.read_file('/Users/MacBookPro/Documents/Berkeley/ExplainableFire/ca_eco_l3/ca_eco_l3.shp')\n",
    "eco = eco.to_crs(4326)"
   ]
  },
  {
   "cell_type": "code",
   "execution_count": null,
   "metadata": {},
   "outputs": [],
   "source": [
    "ca_fires = gpd.GeoDataFrame(ca_fires, crs=4326)"
   ]
  },
  {
   "cell_type": "code",
   "execution_count": null,
   "metadata": {},
   "outputs": [],
   "source": [
    "ca_fires['% of Fire at High Severity'] = ca_fires['High_Severity(ha)']/ca_fires['Total_area_burned(ha)']\n",
    "ca_fires['% of Fire at Moderate Severity'] = ca_fires['Moderate_Severity(ha)']/ca_fires['Total_area_burned(ha)']\n",
    "ca_fires['% of Fire at Low Severity'] = ca_fires['Low_Severity(ha)']/ca_fires['Total_area_burned(ha)']\n"
   ]
  },
  {
   "cell_type": "code",
   "execution_count": null,
   "metadata": {},
   "outputs": [],
   "source": [
    "fire_eco = gpd.sjoin(ca_fires, eco)"
   ]
  },
  {
   "cell_type": "code",
   "execution_count": null,
   "metadata": {},
   "outputs": [
    {
     "data": {
      "text/plain": [
       "Index(['Event_ID', 'Fire_Name', 'Lat', 'Long', 'Fire_Year', 'Fire_Month',\n",
       "       'Total_area_burned(ha)', 'Unchanged(ha)', 'Low_Severity(ha)',\n",
       "       'Moderate_Severity(ha)', 'High_Severity(ha)', 'Grass_Burned(ha)',\n",
       "       'CO2(kg)', 'CO(kg)', 'CH4(kg)', 'NMOC(kg)', 'SO2(kg)', 'NH3(kg)',\n",
       "       'NO(kg)', 'NO2(kg)', 'NOx(kg)', 'PM2.5(kg)', 'OC(kg)', 'BC(kg)', 'id',\n",
       "       'path', 'geometry', '% of Fire at High Severity',\n",
       "       '% of Fire at Moderate Severity', '% of Fire at Low Severity',\n",
       "       'index_right', 'US_L3CODE', 'US_L3NAME', 'NA_L3CODE', 'NA_L3NAME',\n",
       "       'NA_L2CODE', 'NA_L2NAME', 'NA_L1CODE', 'NA_L1NAME', 'STATE_NAME',\n",
       "       'EPA_REGION', 'L3_KEY', 'L2_KEY', 'L1_KEY'],\n",
       "      dtype='object')"
      ]
     },
     "execution_count": 125,
     "metadata": {},
     "output_type": "execute_result"
    }
   ],
   "source": [
    "fire_eco.columns"
   ]
  },
  {
   "cell_type": "code",
   "execution_count": null,
   "metadata": {},
   "outputs": [
    {
     "data": {
      "text/plain": [
       "(2316, 44)"
      ]
     },
     "execution_count": 126,
     "metadata": {},
     "output_type": "execute_result"
    }
   ],
   "source": [
    "fire_eco.shape"
   ]
  },
  {
   "cell_type": "code",
   "execution_count": null,
   "metadata": {},
   "outputs": [],
   "source": [
    "cross_regions = fire_eco[fire_eco['Event_ID'].duplicated()]['Event_ID'].unique()\n",
    "single_region = [x for x in fire_eco['Event_ID'].to_list() if x not in cross_regions]"
   ]
  },
  {
   "cell_type": "code",
   "execution_count": null,
   "metadata": {},
   "outputs": [
    {
     "data": {
      "text/plain": [
       "1128"
      ]
     },
     "execution_count": 140,
     "metadata": {},
     "output_type": "execute_result"
    }
   ],
   "source": [
    "len([x for x in fire_eco['Event_ID'].to_list() if x not in cross_regions])"
   ]
  },
  {
   "cell_type": "code",
   "execution_count": null,
   "metadata": {},
   "outputs": [
    {
     "name": "stdout",
     "output_type": "stream",
     "text": [
      "total number of fires: 1697\n"
     ]
    }
   ],
   "source": [
    "print(f'total number of fires: {ca_fires.shape[0]}')"
   ]
  },
  {
   "cell_type": "code",
   "execution_count": null,
   "metadata": {},
   "outputs": [
    {
     "name": "stdout",
     "output_type": "stream",
     "text": [
      "fires that cross ecoregions: 1697\n"
     ]
    }
   ],
   "source": [
    "print(f'fires that cross ecoregions: {ca_fires.shape[0]}')"
   ]
  },
  {
   "cell_type": "code",
   "execution_count": null,
   "metadata": {},
   "outputs": [
    {
     "name": "stdout",
     "output_type": "stream",
     "text": [
      "fires that cross ecoregions: 569\n"
     ]
    }
   ],
   "source": [
    "print(f'fires that cross ecoregions: {len(cross_regions)}')"
   ]
  },
  {
   "cell_type": "code",
   "execution_count": null,
   "metadata": {},
   "outputs": [
    {
     "name": "stdout",
     "output_type": "stream",
     "text": [
      "fires that are within the same region: 1128\n"
     ]
    }
   ],
   "source": [
    "print(f'fires that are within the same region: {len(single_region)}')"
   ]
  },
  {
   "cell_type": "code",
   "execution_count": null,
   "metadata": {},
   "outputs": [],
   "source": [
    "single_region_fires = fire_eco[fire_eco['Event_ID'].isin(single_region)]\n",
    "cross_region_fires = fire_eco[fire_eco['Event_ID'].isin(cross_regions)]"
   ]
  },
  {
   "cell_type": "code",
   "execution_count": null,
   "metadata": {},
   "outputs": [
    {
     "data": {
      "text/plain": [
       "Central California Foothills and Coastal Mountains     311\n",
       "Southern California/Northern Baja Coast                195\n",
       "Sierra Nevada                                          180\n",
       "Klamath Mountains/California High North Coast Range    176\n",
       "Southern California Mountains                           73\n",
       "Eastern Cascades Slopes and Foothills                   49\n",
       "Mojave Basin and Range                                  35\n",
       "Central California Valley                               30\n",
       "Central Basin and Range                                 26\n",
       "Cascades                                                18\n",
       "Coast Range                                             18\n",
       "Sonoran Basin and Range                                 11\n",
       "Northern Basin and Range                                 6\n",
       "Name: US_L3NAME, dtype: int64"
      ]
     },
     "execution_count": 146,
     "metadata": {},
     "output_type": "execute_result"
    }
   ],
   "source": [
    "single_region_fires['US_L3NAME'].value_counts()"
   ]
  },
  {
   "cell_type": "code",
   "execution_count": null,
   "metadata": {},
   "outputs": [
    {
     "data": {
      "text/plain": [
       "Index(['Event_ID', 'Fire_Name', 'Lat', 'Long', 'Fire_Year', 'Fire_Month',\n",
       "       'Total_area_burned(ha)', 'Unchanged(ha)', 'Low_Severity(ha)',\n",
       "       'Moderate_Severity(ha)', 'High_Severity(ha)', 'Grass_Burned(ha)',\n",
       "       'CO2(kg)', 'CO(kg)', 'CH4(kg)', 'NMOC(kg)', 'SO2(kg)', 'NH3(kg)',\n",
       "       'NO(kg)', 'NO2(kg)', 'NOx(kg)', 'PM2.5(kg)', 'OC(kg)', 'BC(kg)', 'id',\n",
       "       'path', 'geometry', '% of Fire at High Severity',\n",
       "       '% of Fire at Moderate Severity', '% of Fire at Low Severity',\n",
       "       'index_right', 'US_L3CODE', 'US_L3NAME', 'NA_L3CODE', 'NA_L3NAME',\n",
       "       'NA_L2CODE', 'NA_L2NAME', 'NA_L1CODE', 'NA_L1NAME', 'STATE_NAME',\n",
       "       'EPA_REGION', 'L3_KEY', 'L2_KEY', 'L1_KEY'],\n",
       "      dtype='object')"
      ]
     },
     "execution_count": 147,
     "metadata": {},
     "output_type": "execute_result"
    }
   ],
   "source": [
    "single_region_fires.columns"
   ]
  },
  {
   "cell_type": "code",
   "execution_count": null,
   "metadata": {},
   "outputs": [
    {
     "data": {
      "text/plain": [
       "0        1222.20\n",
       "2         559.26\n",
       "24       1244.16\n",
       "26       4418.01\n",
       "42       3160.35\n",
       "          ...   \n",
       "1643      456.93\n",
       "1655      808.11\n",
       "1660     3559.59\n",
       "1662    45117.00\n",
       "1669    58078.17\n",
       "Name: Total_area_burned(ha), Length: 1128, dtype: float64"
      ]
     },
     "execution_count": 148,
     "metadata": {},
     "output_type": "execute_result"
    }
   ],
   "source": [
    "single_region_fires['Total_area_burned(ha)']"
   ]
  },
  {
   "cell_type": "code",
   "execution_count": null,
   "metadata": {},
   "outputs": [
    {
     "data": {
      "application/vnd.plotly.v1+json": {
       "config": {
        "plotlyServerURL": "https://plot.ly"
       },
       "data": [
        {
         "hovertemplate": "US_L3NAME=Southern California/Northern Baja Coast<br>Fire_Year=%{x}<br>% of Fire at High Severity=%{y}<br>Total_area_burned(ha)=%{marker.size}<extra></extra>",
         "legendgroup": "Southern California/Northern Baja Coast",
         "marker": {
          "color": "#636efa",
          "size": [
           1222.2,
           559.26,
           1244.16,
           4418.01,
           3160.35,
           409.32,
           2973.51,
           430.56,
           578.88,
           2136.78,
           2075.13,
           1577.97,
           504.54,
           807.21,
           981.63,
           506.07,
           417.69,
           738.36,
           696.69,
           4088.25,
           6629.22,
           828.9,
           892.71,
           1311.57,
           2585.97,
           504.09,
           415.26,
           914.67,
           917.46,
           553.05,
           430.11,
           1632.24,
           1579.32,
           1015.83,
           481.05,
           800.37,
           725.67,
           5377.14,
           3440.88,
           664.38,
           1285.56,
           567.09,
           1255.86,
           1717.38,
           2013.12,
           510.57,
           442.71,
           784.71,
           1096.38,
           2340.72,
           732.78,
           6936.39,
           576.54,
           8464.05,
           3528.9,
           9672.48,
           1127.43,
           6790.77,
           15423.3,
           789.12,
           902.88,
           902.97,
           874.35,
           493.92,
           3946.59,
           865.53,
           3433.32,
           704.43,
           450.54,
           1884.06,
           474.84,
           895.41,
           4118.85,
           1285.11,
           3772.71,
           551.97,
           737.28,
           3219.66,
           921.6,
           439.2,
           552.24,
           488.7,
           453.6,
           3036.6,
           2556.72,
           610.38,
           680.67,
           677.43,
           423.09,
           1464.84,
           692.55,
           773.46,
           2608.29,
           1010.25,
           543.87,
           421.11,
           213.66,
           1416.33,
           626.4,
           1317.15,
           1023.48,
           620.82,
           432.54,
           1497.33,
           609.21,
           752.13,
           2341.44,
           518.76,
           819.63,
           407.52,
           1246.68,
           15058.26,
           3263.22,
           4302.27,
           811.53,
           774.54,
           993.42,
           432.9,
           3434.4,
           363.24,
           864.9,
           7233.48,
           1239.57,
           603.27,
           502.92,
           2574.09,
           424.08,
           415.17,
           9765.99,
           1442.97,
           387.99,
           3801.15,
           4165.83,
           7346.07,
           2001.33,
           4053.87,
           11171.52,
           750.33,
           2237.13,
           2220.57,
           463.41,
           1083.33,
           1524.06,
           953.91,
           13214.43,
           11877.3,
           6162.75,
           7831.53,
           410.58,
           1319.85,
           489.42,
           429.93,
           45.45,
           1079.46,
           428.58,
           953.19,
           638.19,
           9486.9,
           616.05,
           878.04,
           6046.47,
           2193.39,
           529.29,
           628.38,
           668.79,
           1285.29,
           490.41,
           465.93,
           3210.48,
           494.37,
           405.99,
           917.19,
           1683.45,
           3681.9,
           1110.33,
           1677.6,
           452.43,
           433.71,
           1980.81,
           1199.7,
           526.86,
           9246.69,
           39618.27,
           1791.18,
           733.32,
           421.2,
           846.27,
           4050.99,
           882.81,
           429.66,
           784.62,
           523.62,
           5020.83,
           5521.59,
           2685.06
          ],
          "sizemode": "area",
          "sizeref": 18.495425,
          "symbol": "circle"
         },
         "mode": "markers",
         "name": "Southern California/Northern Baja Coast",
         "showlegend": true,
         "type": "scattergl",
         "x": [
          1984,
          1984,
          1984,
          1984,
          1985,
          1985,
          1985,
          1985,
          1985,
          1985,
          1985,
          1985,
          1985,
          1985,
          1985,
          1985,
          1986,
          1986,
          1986,
          1986,
          1986,
          1987,
          1987,
          1987,
          1987,
          1987,
          1988,
          1988,
          1988,
          1988,
          1988,
          1988,
          1988,
          1988,
          1989,
          1989,
          1989,
          1989,
          1989,
          1989,
          1989,
          1989,
          1990,
          1990,
          1990,
          1991,
          1992,
          1992,
          1992,
          1993,
          1993,
          1993,
          1993,
          1993,
          1993,
          1993,
          1993,
          1993,
          1993,
          1993,
          1994,
          1994,
          1994,
          1995,
          1995,
          1995,
          1995,
          1995,
          1995,
          1995,
          1995,
          1995,
          1996,
          1996,
          1996,
          1996,
          1996,
          1996,
          1996,
          1996,
          1996,
          1997,
          1997,
          1997,
          1997,
          1997,
          1997,
          1997,
          1998,
          1998,
          1998,
          1998,
          1998,
          1998,
          1998,
          1998,
          1999,
          1999,
          1999,
          1999,
          1999,
          2000,
          2000,
          2001,
          2001,
          2001,
          2002,
          2002,
          2002,
          2002,
          2002,
          2003,
          2003,
          2003,
          2003,
          2003,
          2003,
          2003,
          2003,
          2004,
          2004,
          2004,
          2005,
          2005,
          2005,
          2005,
          2005,
          2005,
          2005,
          2005,
          2006,
          2006,
          2006,
          2007,
          2007,
          2007,
          2007,
          2007,
          2007,
          2007,
          2007,
          2007,
          2008,
          2008,
          2008,
          2008,
          2008,
          2009,
          2010,
          2010,
          2010,
          2011,
          2012,
          2012,
          2012,
          2013,
          2013,
          2013,
          2014,
          2014,
          2014,
          2014,
          2014,
          2015,
          2015,
          2015,
          2015,
          2015,
          2016,
          2016,
          2016,
          2017,
          2017,
          2017,
          2017,
          2017,
          2017,
          2017,
          2017,
          2018,
          2018,
          2018,
          2018,
          2018,
          2019,
          2019,
          2019,
          2019,
          2020,
          2020,
          2020,
          2020,
          2020,
          2020,
          2020
         ],
         "xaxis": "x",
         "y": [
          0.18807069219440353,
          0.03186353395558417,
          0,
          0.27841267901159117,
          0.0028193079880392997,
          0.0010993843447669306,
          0.019128908259935226,
          0.0625,
          0.01865671641791045,
          0.07842641731951815,
          0.046363360367784184,
          0.16631494895340215,
          0,
          0.0010034563496487904,
          0.006601265242504814,
          0.021696603236706385,
          0.0006464124111182936,
          0.0008532423208191126,
          0.007105025190543857,
          0.062498624105668685,
          0.0005702028292921339,
          0.001737242128121607,
          0.049904224216150816,
          0.005489604062307006,
          0.13844708175268855,
          0.00035707909301910376,
          0.014737754659731253,
          0,
          0.039042574063174414,
          0,
          0,
          0.0003308337009263344,
          0.0051857761568269885,
          0.0032781075573668824,
          0.007296538821328344,
          0.030585854042505342,
          0.0003720699491504403,
          0.19433936999966525,
          0.3330979284369115,
          0.001219181793551883,
          0.00287034444133296,
          0.07951118870020632,
          0.11430414218145336,
          0.10538727596687979,
          0.1534781831187411,
          0.0005288207297726071,
          0.10489936979060785,
          0.026837940130748937,
          0.46273189952388766,
          0.0070747462319286376,
          0.060918693195774996,
          0.223534143841393,
          0.20808616921635967,
          0.024222446701047375,
          0.15378729915837797,
          0.043583444990323066,
          0.0010377584417657858,
          0.07260148701840881,
          0.02673163330804692,
          0,
          0.007974481658692184,
          0,
          0.004117344312918168,
          0.1814868804664723,
          0.411279104239356,
          0.08807320370177811,
          0.290185592953759,
          0.32809505557684937,
          0.016779864163004393,
          0.016193751791344226,
          0.059704321455648225,
          0.009850236204643684,
          0.3819075712881022,
          0.21339029343791585,
          0.14196426441470456,
          0.00717430295124735,
          0.0001220703125,
          0.13230278973556214,
          0.0062499999999999995,
          0.11721311475409836,
          0.15254237288135591,
          0.36482504604051563,
          0.18888888888888888,
          0.0007113218731475994,
          0.004540974373415939,
          0.0030964317310527866,
          0.03014676715589052,
          0.017138302112395375,
          0.016804935120187197,
          0.03397640697960187,
          0.014944769330734244,
          0,
          0.00006901073116869673,
          0.039020044543429847,
          0.0004964421644878372,
          0.003205813207950417,
          0.004633529907329402,
          0.006799262883649998,
          0.005890804597701149,
          0.0009566108643662452,
          0.004045022863172705,
          0.06929544795592925,
          0,
          0.00006010699044298852,
          0.017875609395774854,
          0.39619480674883334,
          0.006380688806888068,
          0.012144344205412907,
          0.03887119797957615,
          0.00044169611307420494,
          0,
          0.2815604193313172,
          0.32900325445418943,
          0.010438675396941613,
          0.011533769546412331,
          0,
          0,
          0.4029106029106029,
          0.000628930817610063,
          0.00867195242814668,
          0.09063475546305931,
          0.0033469367441397507,
          0.07914034705583388,
          0.0013426823810234224,
          0.06245526127415891,
          0.07275969371700289,
          0.03247028862478778,
          0.014740949490570128,
          0.43850853830487235,
          0.007047963575126302,
          0.002551612154952447,
          0.290541020480644,
          0.007669540043640763,
          0.12187741200396948,
          0.09718037505059136,
          0.11728792487178918,
          0.13359596545501418,
          0.0007196833393306946,
          0.008327634066862452,
          0.20747375673813478,
          0.24975723441444939,
          0.009886184265182356,
          0.011987717019015,
          0.0005660911406736485,
          0.005428156946610637,
          0.2880654694248693,
          0.2509090909090909,
          0.004780675040509326,
          0.010302498903989479,
          0.1383566314353904,
          0.01471129091577786,
          0.0031400460540087923,
          0,
          0.07737201934300483,
          0.08147837043259136,
          0.15985270512699462,
          0.17430545762233815,
          0.1524902760648895,
          0.008327246165084004,
          0.06478064780647808,
          0.06504621704895584,
          0.05826597185179107,
          0.052031967352491076,
          0.01274706387854483,
          0.04561970125151393,
          0.0010503466143827465,
          0.5289043861258946,
          0.09426308672976627,
          0.0008970621215519174,
          0.0001820498816675769,
          0.014852582575925515,
          0.04180158963791581,
          0.09986634589681903,
          0.0029577120508433147,
          0.030477425630218047,
          0.0017167381974248928,
          0.016112989854784165,
          0.41668395932766134,
          0.018628742787041665,
          0.032708177044261065,
          0.0010249402118209772,
          0.25995464322909057,
          0.21702941597399383,
          0.02140488393126319,
          0.030805105547373587,
          0.014743589743589743,
          0.010209507603956185,
          0.054253404723289864,
          0.08278111938016108,
          0.0695433598659405,
          0.04565267263133746,
          0.0013750429700928153,
          0.09400039435710829,
          0.017913318446317092,
          0.25836294161024337
         ],
         "yaxis": "y"
        },
        {
         "hovertemplate": "US_L3NAME=Southern California Mountains<br>Fire_Year=%{x}<br>% of Fire at High Severity=%{y}<br>Total_area_burned(ha)=%{marker.size}<extra></extra>",
         "legendgroup": "Southern California Mountains",
         "marker": {
          "color": "#EF553B",
          "size": [
           988.47,
           800.82,
           1060.92,
           1653.57,
           438.66,
           617.58,
           4046.76,
           1639.62,
           563.94,
           642.15,
           1737.72,
           947.97,
           1909.44,
           608.76,
           714.78,
           534.15,
           854.19,
           591.3,
           2869.2,
           5169.51,
           1655.64,
           730.35,
           422.91,
           1082.43,
           479.79,
           619.47,
           466.92,
           694.62,
           553.41,
           475.47,
           1637.55,
           2926.53,
           1444.68,
           769.32,
           2769.57,
           446.94,
           517.77,
           8324.01,
           484.83,
           1880.28,
           8537.58,
           990.45,
           611.73,
           1098.99,
           477.63,
           865.26,
           5055.39,
           568.53,
           432.18,
           435.15,
           987.66,
           1072.8,
           839.97,
           932.04,
           5207.85,
           593.91,
           5976.72,
           985.05,
           1053.72,
           1048.95,
           857.25,
           1677.15,
           1562.67,
           1831.41,
           12309.75,
           616.77,
           513,
           948.6,
           612.09,
           5292.36,
           506.7,
           671.49,
           609.39
          ],
          "sizemode": "area",
          "sizeref": 18.495425,
          "symbol": "circle"
         },
         "mode": "markers",
         "name": "Southern California Mountains",
         "showlegend": true,
         "type": "scattergl",
         "x": [
          1984,
          1984,
          1985,
          1986,
          1987,
          1987,
          1987,
          1987,
          1988,
          1988,
          1989,
          1989,
          1990,
          1991,
          1991,
          1992,
          1993,
          1993,
          1994,
          1994,
          1994,
          1994,
          1994,
          1995,
          1996,
          1996,
          1996,
          1996,
          1997,
          1997,
          1998,
          1999,
          1999,
          1999,
          1999,
          2001,
          2002,
          2002,
          2002,
          2002,
          2002,
          2002,
          2002,
          2003,
          2003,
          2003,
          2004,
          2004,
          2004,
          2005,
          2005,
          2006,
          2006,
          2007,
          2007,
          2007,
          2007,
          2007,
          2007,
          2009,
          2012,
          2012,
          2013,
          2013,
          2015,
          2015,
          2016,
          2016,
          2017,
          2018,
          2018,
          2018,
          2020
         ],
         "xaxis": "x",
         "y": [
          0.39142310844031686,
          0.07293773881771183,
          0.027400746521886662,
          0.8607195340989495,
          0.14279852277390234,
          0.01340716992130574,
          0.2852504225602704,
          0.20150400702601823,
          0.12910947973188636,
          0.02018220042046251,
          0.052258131344520405,
          0.25652710528814204,
          0.3175433634992459,
          0.11073329390892962,
          0.16469403173004282,
          0.04582982308340354,
          0.00021072595090085343,
          0.05251141552511416,
          0.1677227101631117,
          0.01631295809467435,
          0.007501630789302022,
          0.030683918669131238,
          0.02447329218982762,
          0.5131786813004074,
          0.5417370099418496,
          0.2843236960627633,
          0.2765998457979954,
          0.19979269240735942,
          0.41632785818832335,
          0.08782888510316107,
          0.34372080241824676,
          0.5606298243995448,
          0.4352728631946175,
          0.5800187178287318,
          0.4365840184577389,
          0.30688683044703985,
          0.31392317051972884,
          0.10741817945917892,
          0.005197698162242435,
          0.056145893164847784,
          0.31784065273766104,
          0.021626533393911858,
          0.2443725172870384,
          0.008516910981901564,
          0.19201055210099868,
          0.17266486374037862,
          0.004094639582702818,
          0.03625138515117936,
          0.2748854643898376,
          0.49906928645294724,
          0.1979223619464188,
          0.0036073825503355706,
          0.2227579556412729,
          0.2561799922750097,
          0.24125118811025664,
          0.13592968631610852,
          0.165296349837369,
          0.071356783919598,
          0.0020498804236419544,
          0.0053196053196053195,
          0.04146981627296588,
          0.04867185403810034,
          0.47451477279272014,
          0.1902796206201779,
          0.10068360445987937,
          0.14490004377644827,
          0.0014035087719298245,
          0.13908918406072104,
          0.012351124834583149,
          0.18629685055438408,
          0.22575488454706927,
          0.004959120761292052,
          0.001476886722788362
         ],
         "yaxis": "y"
        },
        {
         "hovertemplate": "US_L3NAME=Mojave Basin and Range<br>Fire_Year=%{x}<br>% of Fire at High Severity=%{y}<br>Total_area_burned(ha)=%{marker.size}<extra></extra>",
         "legendgroup": "Mojave Basin and Range",
         "marker": {
          "color": "#00cc96",
          "size": [
           1671.57,
           994.41,
           496.44,
           1908,
           1009.17,
           3338.37,
           590.22,
           2569.59,
           2207.97,
           427.95,
           433.89,
           621.27,
           5587.2,
           741.06,
           2420.73,
           424.44,
           572.58,
           28258.38,
           1000.53,
           422.46,
           1512.99,
           4114.89,
           3659.67,
           998.37,
           576.27,
           460.17,
           3752.55,
           714.24,
           834.75,
           540.72,
           746.1,
           1767.6,
           17861.22,
           422.46,
           3696.93
          ],
          "sizemode": "area",
          "sizeref": 18.495425,
          "symbol": "circle"
         },
         "mode": "markers",
         "name": "Mojave Basin and Range",
         "showlegend": true,
         "type": "scattergl",
         "x": [
          1984,
          1984,
          1986,
          1986,
          1993,
          1993,
          1994,
          1994,
          1995,
          1996,
          1996,
          1998,
          1999,
          1999,
          2000,
          2003,
          2004,
          2005,
          2005,
          2005,
          2005,
          2005,
          2005,
          2006,
          2006,
          2006,
          2006,
          2006,
          2007,
          2011,
          2011,
          2015,
          2020,
          2020,
          2020
         ],
         "xaxis": "x",
         "y": [
          0.033112582781456956,
          0.007874015748031496,
          0.19651921682378537,
          0,
          0.005261749754748952,
          0.0015636373439732564,
          0,
          0.00007005008581135511,
          0,
          0,
          0,
          0,
          0,
          0,
          0.0697475554894598,
          0.4535623409669211,
          0.007387613957874882,
          0.0013440260906676176,
          0,
          0,
          0,
          0.0010061022287351543,
          0,
          0,
          0,
          0.001564639155094856,
          0,
          0.010206653225806451,
          0,
          0.0692410119840213,
          0,
          0,
          0.000015116548589626016,
          0,
          0.00835017162889208
         ],
         "yaxis": "y"
        },
        {
         "hovertemplate": "US_L3NAME=Central California Foothills and Coastal Mountains<br>Fire_Year=%{x}<br>% of Fire at High Severity=%{y}<br>Total_area_burned(ha)=%{marker.size}<extra></extra>",
         "legendgroup": "Central California Foothills and Coastal Mountains",
         "marker": {
          "color": "#ab63fa",
          "size": [
           594.9,
           1158.93,
           1278.81,
           656.55,
           641.61,
           2706.75,
           459.09,
           4899.15,
           499.14,
           571.14,
           1957.23,
           1131.3,
           1100.97,
           450.81,
           30691.53,
           2940.75,
           614.16,
           1096.65,
           1270.17,
           522.81,
           3464.1,
           2052.81,
           16852.77,
           19982.25,
           847.26,
           645.12,
           8238.69,
           759.24,
           407.52,
           819.27,
           827.1,
           3907.17,
           472.68,
           524.25,
           1778.13,
           509.94,
           547.83,
           766.44,
           1085.13,
           1866.69,
           856.8,
           629.19,
           432.54,
           471.24,
           1435.41,
           428.4,
           878.67,
           640.8,
           1761.12,
           919.89,
           566.37,
           722.7,
           1905.48,
           2274.3,
           1568.79,
           468.27,
           623.07,
           2076.12,
           585.99,
           564.48,
           683.1,
           471.69,
           3994.74,
           972.18,
           754.11,
           2067.48,
           427.86,
           605.88,
           563.58,
           1015.11,
           958.41,
           743.85,
           2020.32,
           639.45,
           4141.71,
           990.99,
           838.8,
           1086.12,
           409.68,
           447.48,
           559.44,
           514.98,
           605.07,
           488.34,
           583.38,
           351.27,
           580.41,
           2251.26,
           617.13,
           803.88,
           1385.37,
           19603.26,
           1176.66,
           642.78,
           414.9,
           541.08,
           457.38,
           595.53,
           708.57,
           733.05,
           778.32,
           1349.82,
           490.5,
           743.58,
           1144.08,
           1414.89,
           950.58,
           673.47,
           649.35,
           1173.96,
           1099.89,
           38325.15,
           2110.77,
           6030,
           9891.54,
           1704.42,
           2304.36,
           495.63,
           940.05,
           612.54,
           3572.1,
           519.12,
           1145.97,
           467.37,
           552.96,
           620.73,
           436.68,
           737.1,
           652.05,
           3621.78,
           2162.07,
           1157.76,
           726.66,
           1203.66,
           448.2,
           593.82,
           2583.9,
           558,
           17422.38,
           14632.29,
           15034.23,
           1246.68,
           871.47,
           471.24,
           664.29,
           6978.24,
           2469.33,
           689.31,
           501.84,
           2669.76,
           1046.52,
           3753.27,
           2317.41,
           1867.05,
           2356.83,
           765.63,
           776.79,
           1954.08,
           1345.95,
           647.82,
           735.48,
           1221.3,
           663.48,
           435.15,
           928.71,
           3172.32,
           563.22,
           883.44,
           1385.55,
           758.34,
           498.96,
           431.73,
           615.69,
           516.6,
           507.6,
           1096.92,
           445.32,
           689.94,
           7032.96,
           1949.13,
           2606.94,
           2014.56,
           996.66,
           529.74,
           407.97,
           493.38,
           1490.13,
           1157.49,
           4886.28,
           15918.03,
           803.43,
           501.84,
           517.14,
           15811.56,
           566.91,
           471.06,
           917.55,
           424.89,
           418.68,
           708.03,
           863.19,
           14911.92,
           899.82,
           4778.55,
           2184.21,
           948.06,
           437.67,
           19188.36,
           460.71,
           6238.53,
           23919.3,
           66583.53,
           1609.56,
           503.73,
           1654.83,
           5035.23,
           5440.95,
           1356.57,
           512.28,
           1498.59,
           2704.59,
           700.74,
           596.43,
           531.36,
           843.39,
           420.66,
           546.21,
           716.94,
           7359.57,
           2365.65,
           1259.82,
           2015.91,
           1460.34,
           581.85,
           1095.57,
           1226.79,
           1346.4,
           1057.77,
           4802.94,
           3345.84,
           2361.87,
           2826.72,
           1727.82,
           977.94,
           727.92,
           1528.38,
           439.74,
           431.1,
           1015.38,
           31139.28,
           38810.07,
           4697.01,
           896.04,
           18999.72,
           1785.87,
           1995.57,
           1149.3,
           2775.33,
           1163.43,
           1548.9,
           53569.17,
           923.67,
           1008.18,
           2545.02,
           638.01,
           1502.82,
           480.42,
           11839.77,
           765.9,
           756.99,
           845.1,
           726.39,
           1892.16,
           4357.44,
           653.4,
           609.57,
           718.2,
           22985.01,
           20768.31,
           1004.31,
           643.95,
           14927.22,
           7565.58,
           1034.19,
           455.76,
           938.25,
           597.78,
           1008.63,
           19795.68,
           948.78,
           544.59,
           482.49,
           784.62,
           1051.2,
           989.28,
           1179,
           666,
           1174.5,
           791.01,
           849.6,
           11958.39,
           2823.3,
           593.82,
           20308.05,
           2217.15,
           27217.44,
           50337.18,
           642.15,
           560.43,
           871.92,
           526.68
          ],
          "sizemode": "area",
          "sizeref": 18.495425,
          "symbol": "circle"
         },
         "mode": "markers",
         "name": "Central California Foothills and Coastal Mountains",
         "showlegend": true,
         "type": "scattergl",
         "x": [
          1984,
          1984,
          1984,
          1984,
          1984,
          1984,
          1984,
          1984,
          1984,
          1984,
          1984,
          1984,
          1985,
          1985,
          1985,
          1985,
          1985,
          1985,
          1985,
          1985,
          1985,
          1985,
          1985,
          1985,
          1985,
          1985,
          1985,
          1985,
          1985,
          1985,
          1985,
          1985,
          1985,
          1985,
          1986,
          1986,
          1986,
          1986,
          1986,
          1986,
          1986,
          1986,
          1986,
          1986,
          1987,
          1987,
          1987,
          1987,
          1987,
          1987,
          1987,
          1987,
          1988,
          1988,
          1988,
          1988,
          1988,
          1988,
          1988,
          1988,
          1988,
          1989,
          1989,
          1989,
          1989,
          1989,
          1989,
          1990,
          1990,
          1990,
          1990,
          1991,
          1991,
          1992,
          1992,
          1992,
          1992,
          1992,
          1992,
          1992,
          1992,
          1992,
          1992,
          1992,
          1992,
          1993,
          1993,
          1993,
          1993,
          1994,
          1994,
          1994,
          1994,
          1994,
          1994,
          1994,
          1994,
          1994,
          1994,
          1995,
          1995,
          1995,
          1995,
          1995,
          1995,
          1995,
          1995,
          1996,
          1996,
          1996,
          1996,
          1996,
          1996,
          1996,
          1996,
          1996,
          1996,
          1996,
          1996,
          1996,
          1996,
          1997,
          1997,
          1997,
          1997,
          1997,
          1997,
          1997,
          1997,
          1998,
          1998,
          1998,
          1998,
          1998,
          1998,
          1998,
          1998,
          1998,
          1999,
          1999,
          1999,
          1999,
          1999,
          1999,
          1999,
          1999,
          1999,
          1999,
          1999,
          1999,
          1999,
          2000,
          2000,
          2000,
          2000,
          2000,
          2000,
          2000,
          2000,
          2000,
          2000,
          2000,
          2001,
          2001,
          2001,
          2002,
          2002,
          2002,
          2002,
          2002,
          2002,
          2002,
          2002,
          2003,
          2003,
          2003,
          2003,
          2003,
          2003,
          2003,
          2003,
          2003,
          2003,
          2003,
          2004,
          2004,
          2004,
          2004,
          2004,
          2004,
          2004,
          2005,
          2005,
          2005,
          2005,
          2005,
          2005,
          2006,
          2006,
          2006,
          2006,
          2006,
          2006,
          2006,
          2007,
          2007,
          2007,
          2007,
          2007,
          2008,
          2008,
          2008,
          2008,
          2008,
          2008,
          2008,
          2008,
          2008,
          2008,
          2009,
          2009,
          2009,
          2009,
          2010,
          2010,
          2010,
          2010,
          2012,
          2012,
          2012,
          2012,
          2012,
          2012,
          2012,
          2012,
          2013,
          2013,
          2013,
          2013,
          2013,
          2014,
          2014,
          2014,
          2015,
          2015,
          2015,
          2015,
          2015,
          2015,
          2015,
          2015,
          2016,
          2016,
          2016,
          2016,
          2016,
          2016,
          2016,
          2016,
          2016,
          2016,
          2016,
          2016,
          2016,
          2016,
          2016,
          2017,
          2017,
          2017,
          2017,
          2017,
          2017,
          2017,
          2017,
          2017,
          2017,
          2017,
          2017,
          2017,
          2017,
          2017,
          2017,
          2017,
          2017,
          2018,
          2018,
          2018,
          2018,
          2018,
          2018,
          2018,
          2019,
          2019,
          2019,
          2019,
          2019,
          2020,
          2020,
          2020,
          2020,
          2020,
          2020,
          2020,
          2020,
          2020,
          2020,
          2020,
          2020,
          2020,
          2020,
          2020
         ],
         "xaxis": "x",
         "y": [
          0.011043872919818457,
          0.1541508115244234,
          0.3828559363783518,
          0.02289239204934887,
          0.01262449151353626,
          0.17625935162094764,
          0,
          0.0002755580049600441,
          0,
          0.11424519382288056,
          0.13371959350715043,
          0.008273667462211615,
          0.11648818768903785,
          0.004791375524056698,
          0.12740420565543653,
          0.11302218821729151,
          0.10052754982415006,
          0.008617152236356174,
          0.01636788776305534,
          0.044069547254260634,
          0.09436217199272538,
          0.10495856898592662,
          0.11314104446924748,
          0.2872424276545434,
          0.04960696834501806,
          0.09640066964285714,
          0.04073584514042888,
          0.12339971550497866,
          0.13891342756183747,
          0.06217730418543337,
          0.01251360174102285,
          0.012001013521295465,
          0.11271896420411272,
          0.04360515021459228,
          0.02778761957787113,
          0.0010589481115425344,
          0.003285690816494168,
          0.0032879286049788633,
          0.15907771419092642,
          0.15809266669880911,
          0.016281512605042018,
          0.04906308110427692,
          0.0016645859342488555,
          0.003437738731856379,
          0.0012539971158066336,
          0.07394957983193277,
          0.0037898187032674386,
          0.0053370786516853935,
          0.01001635322976288,
          0.13795127678309363,
          0.004449388209121246,
          0.0012453300124533001,
          0.00009446438692612884,
          0.464819944598338,
          0.0988468819918536,
          0.06457812800307515,
          0.11209013433482594,
          0.17188312814288192,
          0.09046229457840577,
          0.15784438775510204,
          0.002635046113306983,
          0.008013737836290783,
          0.35608074618122837,
          0.15247176448805777,
          0,
          0.011666376458297057,
          0.09507782919646612,
          0.006387403446226976,
          0.04726924305333759,
          0.001418565475662736,
          0.0002817165931073341,
          0.011978221415607984,
          0.20500712758374912,
          0.15552427867698804,
          0.009191855537929986,
          0.40541276904913265,
          0.0001072961373390558,
          0.2952436194895592,
          0.42333040421792617,
          0.06918744971842317,
          0.30501930501930496,
          0.004019573575672841,
          0.15290792800832959,
          0,
          0,
          0.08045093517806816,
          0.007908202822142968,
          0.3364515871112177,
          0.018229546448884353,
          0.08172861621137484,
          0,
          0.4856069857768555,
          0.0004589261128958238,
          0,
          0.04707158351409979,
          0.002661343978709248,
          0.006296733569460842,
          0.0790388393531812,
          0.019814556077734025,
          0.03806015960712093,
          0.0004625346901017576,
          0.030537404987331644,
          0,
          0.011377390462357783,
          0.00881057268722467,
          0.00865084918262197,
          0.09344821056618065,
          0.05131631698516638,
          0.09993069993069993,
          0.005826433609322294,
          0.003273054578185091,
          0.18645249920743948,
          0.09781264656973522,
          0.04846268656716418,
          0.2566829836405655,
          0.13190410814235926,
          0.027027027027027025,
          0.09333575449428,
          0.2618477740545716,
          0.0017631501616220983,
          0.5098261526832956,
          0.02617891816920943,
          0.13044844105866646,
          0.11592528403620257,
          0.15576171874999997,
          0.006379585326953748,
          0.12943116240725475,
          0.001098901098901099,
          0.6389233954451347,
          0.0027583122111227076,
          0.005369853890022061,
          0.05674751243781095,
          0.007926678226405746,
          0.17160161507402422,
          0.009236947791164659,
          0.36874810548651105,
          0.06509926854754441,
          0.0006451612903225806,
          0.24550319761134815,
          0.3431028225930459,
          0.04484965309164487,
          0.0727692751949177,
          0.1377672209026128,
          0.03533231474407945,
          0.2160953800298063,
          0.023331097812628973,
          0.0020045923388125526,
          0,
          0.0007173601147776184,
          0.0001011326860841424,
          0.016253869969040248,
          0.12267702563364746,
          0,
          0.0006266570257893468,
          0.2338946805666934,
          0.3425414364640884,
          0.18630517900590893,
          0.04941967575534267,
          0.10504847876964224,
          0,
          0.00012236906510034262,
          0,
          0.09766684753119913,
          0.3230610134436402,
          0.05000484543075879,
          0.055804584657285515,
          0.3044103547459252,
          0.025570497147514262,
          0.06456641766807404,
          0.06812247804414906,
          0.261002886002886,
          0.08943089430894309,
          0.0016079520537933048,
          0.009407665505226481,
          0.4987588652482269,
          0.016983918608467343,
          0,
          0.04956952778502478,
          0.002137080262080262,
          0.01246710070646904,
          0.007905820617275426,
          0.040922087205146535,
          0.20850641141412318,
          0.0006795786612300373,
          0.0004412089124200308,
          0.2190806275082087,
          0.08787823881137886,
          0.19438612860586268,
          0.24543210786119504,
          0.024538212329038203,
          0.34882939397333934,
          0.010401721664275467,
          0.05360250609119387,
          0.03370824890143667,
          0.02428956977297984,
          0.001146350783339702,
          0.0018636586562040217,
          0.0010590976488032196,
          0,
          0.09482649040294903,
          0,
          0.08666891989763895,
          0.23804760952190435,
          0.14918542235615406,
          0.3096542914829618,
          0.009967723561799886,
          0.010487353485502775,
          0.17982308024239696,
          0.08868919710881032,
          0.1674481007545047,
          0.3293148210859013,
          0.2385522365666104,
          0,
          0.00017866714311238162,
          0.06542666014031653,
          0.3526730655799239,
          0.015085600860143909,
          0.018178199429443376,
          0,
          0.0967509458891358,
          0.031180326777811053,
          0.04508091446185461,
          0.1587445299532217,
          0.2909891598915989,
          0,
          0.018613607188703463,
          0.42082715439116825,
          0.09753954305799649,
          0.19649517566923067,
          0.11272588929046985,
          0.19009858551221603,
          0.2743426045805616,
          0.05269320843091335,
          0.11461716937354988,
          0.47646430625154035,
          0.2632968967793999,
          0.02747326203208556,
          0.2355994214243172,
          0.028801109320541172,
          0.20255003227888962,
          0.043668787867240794,
          0.13490193581253185,
          0.054120220856339205,
          0.22657831768820172,
          0.13303659742828883,
          0.033741608762218815,
          0.09128121162505116,
          0.0010438413361169101,
          0.0007977308987768127,
          0.42528150939906123,
          0.3924697894129024,
          0.13184770737128512,
          0,
          0.14940693862856927,
          0.013606813485864034,
          0.012492671266856086,
          0.03860610806577917,
          0.007588286798326685,
          0.029705268043629614,
          0.006740267286461359,
          0.16670502828399245,
          0.027379908408847315,
          0.00946259596500625,
          0.11181837470825376,
          0.181125687685146,
          0.17361360641993057,
          0.14068939677781941,
          0.1355271259492372,
          0.03525264394829612,
          0.09820473189870409,
          0,
          0.2486680708710197,
          0,
          0.0063408790482485135,
          0.006749311294765841,
          0.017717407352724052,
          0.1050125313283208,
          0.13534647146118275,
          0.08871159954757994,
          0.10431042208083163,
          0.16226415094339622,
          0.19886288270689384,
          0.10329280768956248,
          0.2357497171699591,
          0.06931279620853081,
          0.10599520383693047,
          0.07121348991267691,
          0.17560453288123495,
          0.25862915545209864,
          0.2933029785619427,
          0.04792596265080152,
          0,
          0.03475567790777701,
          0.0285958904109589,
          0.2101528384279476,
          0.23770992366412214,
          0,
          0.032796934865900386,
          0.18295596768688133,
          0,
          0.07100119664938173,
          0.15454255658272234,
          0,
          0.2081987192271045,
          0.007834381976862188,
          0.3880251044918258,
          0.3668483216580667,
          0.00042046250875963563,
          0.14886783362775013,
          0,
          0.06749829118250171
         ],
         "yaxis": "y"
        },
        {
         "hovertemplate": "US_L3NAME=Central California Valley<br>Fire_Year=%{x}<br>% of Fire at High Severity=%{y}<br>Total_area_burned(ha)=%{marker.size}<extra></extra>",
         "legendgroup": "Central California Valley",
         "marker": {
          "color": "#FFA15A",
          "size": [
           895.95,
           476.1,
           750.51,
           544.59,
           704.16,
           1883.88,
           487.98,
           554.49,
           797.49,
           1014.21,
           1896.66,
           674.91,
           914.85,
           585.09,
           834.21,
           707.13,
           726.03,
           589.77,
           532.35,
           607.86,
           426.24,
           546.93,
           425.52,
           418.14,
           617.58,
           409.77,
           508.86,
           808.92,
           414.81,
           1379.61
          ],
          "sizemode": "area",
          "sizeref": 18.495425,
          "symbol": "circle"
         },
         "mode": "markers",
         "name": "Central California Valley",
         "showlegend": true,
         "type": "scattergl",
         "x": [
          1992,
          1992,
          1993,
          1993,
          1994,
          1995,
          1995,
          1995,
          1995,
          1996,
          1996,
          1996,
          1997,
          1997,
          1998,
          1998,
          2001,
          2004,
          2005,
          2006,
          2007,
          2007,
          2008,
          2008,
          2010,
          2010,
          2017,
          2017,
          2018,
          2019
         ],
         "xaxis": "x",
         "y": [
          0.09663485685585133,
          0,
          0.03057920613982492,
          0.009419930589985125,
          0.006390593047034765,
          0.041324288171221094,
          0.055330136481003316,
          0.16636909592598603,
          0.045028777790317116,
          0.22184754636613718,
          0.04816361393185916,
          0.08574476596879584,
          0.39183472700442695,
          0.28564836179049374,
          0.10130542669112094,
          0.14560264732086037,
          0.28151729267385645,
          0.21440561574851213,
          0,
          0.043381699733491264,
          0.48986486486486486,
          0.6644726016126379,
          0.03997461928934011,
          0.06736978045630651,
          0,
          0,
          0.001238061549345596,
          0.0003337783711615488,
          0.09199392492948578,
          0.03692347837432318
         ],
         "yaxis": "y"
        },
        {
         "hovertemplate": "US_L3NAME=Sierra Nevada<br>Fire_Year=%{x}<br>% of Fire at High Severity=%{y}<br>Total_area_burned(ha)=%{marker.size}<extra></extra>",
         "legendgroup": "Sierra Nevada",
         "marker": {
          "color": "#19d3f3",
          "size": [
           1077.93,
           670.59,
           437.49,
           436.14,
           4434.48,
           836.55,
           584.28,
           738,
           710.19,
           1396.35,
           424.44,
           863.19,
           3563.37,
           499.05,
           572.58,
           1217.97,
           589.23,
           2479.95,
           440.01,
           919.08,
           1680.57,
           2740.95,
           698.13,
           1876.05,
           1399.05,
           1036.53,
           900.72,
           2066.4,
           7194.78,
           1018.98,
           454.86,
           1253.34,
           1201.77,
           3143.97,
           1613.34,
           8838.09,
           1037.43,
           2186.19,
           1222.65,
           604.98,
           515.7,
           2962.26,
           460.08,
           23518.44,
           1092.15,
           514.62,
           38.07,
           2160.18,
           1390.95,
           723.69,
           1003.68,
           1218.69,
           1551.69,
           1010.25,
           1141.65,
           1636.56,
           775.08,
           628.47,
           1946.52,
           1066.14,
           13944.33,
           1267.74,
           30818.61,
           5963.67,
           1241.19,
           6817.23,
           965.7,
           669.06,
           1483.83,
           2245.59,
           1386.9,
           746.73,
           533.88,
           424.26,
           2001.33,
           2574.72,
           529.65,
           1631.52,
           460.8,
           696.69,
           831.15,
           436.41,
           6985.17,
           3297.06,
           417.06,
           966.15,
           1410.3,
           3224.88,
           939.6,
           1161.45,
           433.44,
           457.83,
           1220.13,
           9349.74,
           26594.64,
           1498.41,
           4938.12,
           1154.61,
           1135.98,
           8382.6,
           487.44,
           845.28,
           10689.66,
           1162.62,
           654.66,
           2408.13,
           614.43,
           2702.25,
           703.35,
           1339.92,
           521.37,
           1187.19,
           1248.21,
           3170.25,
           672.57,
           474.66,
           3293.82,
           724.5,
           769.32,
           440.37,
           3889.71,
           945.45,
           488.16,
           530.37,
           463.59,
           7149.96,
           466.56,
           2151.18,
           409.95,
           557.82,
           4942.35,
           603.99,
           759.69,
           657.54,
           466.56,
           1064.34,
           865.35,
           9536.04,
           701.64,
           478.89,
           11304.63,
           745.11,
           5882.76,
           2010.87,
           1761.03,
           453.15,
           2924.46,
           1067.49,
           597.6,
           1760.13,
           858.87,
           677.52,
           936.81,
           1227.33,
           2323.53,
           6515.01,
           990.99,
           7517.61,
           5165.91,
           3259.26,
           3920.76,
           870.57,
           1775.97,
           1839.69,
           530.91,
           2114.91,
           731.07,
           5752.98,
           14626.62,
           513.45,
           803.79,
           2237.31,
           1405.8,
           23695.83,
           674.19,
           2780.19,
           526.32,
           3354.03,
           823.95,
           3115.08
          ],
          "sizemode": "area",
          "sizeref": 18.495425,
          "symbol": "circle"
         },
         "mode": "markers",
         "name": "Sierra Nevada",
         "showlegend": true,
         "type": "scattergl",
         "x": [
          1985,
          1985,
          1985,
          1985,
          1986,
          1986,
          1987,
          1987,
          1987,
          1987,
          1987,
          1987,
          1987,
          1987,
          1988,
          1988,
          1988,
          1988,
          1988,
          1988,
          1988,
          1988,
          1989,
          1989,
          1989,
          1990,
          1990,
          1990,
          1990,
          1990,
          1990,
          1991,
          1991,
          1992,
          1992,
          1992,
          1994,
          1994,
          1994,
          1994,
          1994,
          1994,
          1995,
          1996,
          1996,
          1996,
          1996,
          1997,
          1997,
          1997,
          1997,
          1998,
          1999,
          1999,
          1999,
          1999,
          1999,
          1999,
          1999,
          1999,
          1999,
          2000,
          2000,
          2001,
          2001,
          2001,
          2001,
          2001,
          2001,
          2001,
          2002,
          2002,
          2003,
          2003,
          2003,
          2003,
          2003,
          2003,
          2003,
          2004,
          2004,
          2004,
          2004,
          2004,
          2005,
          2006,
          2006,
          2006,
          2006,
          2006,
          2007,
          2007,
          2007,
          2007,
          2007,
          2008,
          2008,
          2008,
          2008,
          2008,
          2008,
          2008,
          2008,
          2008,
          2008,
          2008,
          2008,
          2008,
          2009,
          2009,
          2009,
          2009,
          2009,
          2009,
          2009,
          2009,
          2009,
          2010,
          2010,
          2010,
          2010,
          2010,
          2010,
          2010,
          2010,
          2011,
          2011,
          2011,
          2011,
          2012,
          2012,
          2012,
          2012,
          2012,
          2012,
          2012,
          2013,
          2013,
          2013,
          2013,
          2013,
          2014,
          2014,
          2014,
          2014,
          2014,
          2015,
          2015,
          2016,
          2016,
          2016,
          2016,
          2016,
          2016,
          2016,
          2017,
          2017,
          2017,
          2017,
          2017,
          2017,
          2017,
          2017,
          2017,
          2018,
          2018,
          2018,
          2018,
          2018,
          2018,
          2019,
          2019,
          2019,
          2019,
          2020,
          2020,
          2020,
          2020,
          2020,
          2020
         ],
         "xaxis": "x",
         "y": [
          0.022626701177256407,
          0.2821097839216213,
          0.1773297675375437,
          0.3772183243912505,
          0.3224143529793798,
          0.047767616998386234,
          0.20209488601355516,
          0.09573170731707317,
          0.19984792801926243,
          0.09429584273283918,
          0.39312977099236646,
          0.4308205609425503,
          0.5875786123809765,
          0.6351668169522092,
          0.12904746934926123,
          0.414985590778098,
          0.11684741102795172,
          0.19491925240428234,
          0.17140519533646964,
          0.2345280062671367,
          0.22058587265035076,
          0.42078476440650137,
          0.03377594430836663,
          0.44845286639481896,
          0.43074943711804436,
          0.2756794304072241,
          0.3967825739408473,
          0.2753484320557491,
          0.5208401090790823,
          0.5551139374668786,
          0.501978630787495,
          0.3088467614533965,
          0.07234329364187823,
          0.27037471731600493,
          0.8347093607051211,
          0.7126404008105823,
          0.050403400711373295,
          0.3970194722325141,
          0.08943687891056311,
          0.48095804819994054,
          0.1806282722513089,
          0.6121711125964635,
          0.03286384976525822,
          0.2834499226989545,
          0.2518335393489905,
          0.5673312346974466,
          0.1536643026004728,
          0.43004749604199655,
          0.49809123261080557,
          0.19885586369854494,
          0.06501076040172167,
          0.006424931688944686,
          0.6192216228757033,
          0.08997772828507795,
          0.18667717776901852,
          0.5575230972283326,
          0.3247793776126335,
          0.3953888013747673,
          0.23691511004253746,
          0.25958129326354884,
          0.3110490070157548,
          0.18635524634388756,
          0.2696266963370509,
          0.4290177021867407,
          0.5196867522297149,
          0.6164336541381177,
          0.7269338303821062,
          0.6246973365617433,
          0.684660641717717,
          0.555047893871989,
          0.043283582089552235,
          0.08846571049777027,
          0.00033715441672285906,
          0.21616461603733558,
          0.15973377703826955,
          0.1450293624161074,
          0.022939677145284623,
          0.10536187113857018,
          0.1509765625,
          0.5177625629763597,
          0.21927449918787223,
          0.5446483811095071,
          0.4877146869725433,
          0.5922367199868974,
          0.012731981009926629,
          0.19832324173265023,
          0.1273133375877473,
          0.25351640991292695,
          0.4543103448275862,
          0.25788454087562956,
          0.38911960132890366,
          0.034204835856103795,
          0.5813233016154016,
          0.5291858383227769,
          0.6418225627419661,
          0.19244399063006787,
          0.10135233651673106,
          0.30672694676124407,
          0.14308350499128505,
          0.39603822203135064,
          0.3288404726735598,
          0.3330494037478705,
          0.2020644248741307,
          0.09428704133766838,
          0.037530932086884794,
          0.6438688941211645,
          0.024315218983448076,
          0.4142547876769359,
          0.038643634037108125,
          0.021292315959161742,
          0.05006041774555498,
          0.18482298536881206,
          0.13714038503136491,
          0.3608800567778566,
          0.15576073865917303,
          0.23018581721653394,
          0.2016776873053172,
          0.2453416149068323,
          0.027842770238652316,
          0.04291845493562231,
          0.18269742474374695,
          0.018467396477867683,
          0.19966814159292035,
          0.39945698286102155,
          0.10483401281304602,
          0.11303559740194351,
          0.01871141975308642,
          0.34131035059827636,
          0.07815587266739846,
          0.008712487899322361,
          0.16234180096512793,
          0.2680673521084786,
          0.2609880345930577,
          0.059950725431152485,
          0.3194444444444444,
          0.40867579908675805,
          0.3134685387415496,
          0.3151213711351882,
          0.47703950743971263,
          0.41326818267243,
          0.5371515918698799,
          0.33168257035873894,
          0.4756287864879751,
          0.32605290247504815,
          0.3987836663770634,
          0.10248262164846078,
          0.21185449621468577,
          0.4737374588989124,
          0.21400602409638553,
          0.11100884593751596,
          0.04862202661636802,
          0.18437832093517537,
          0.11922374867902777,
          0.0896824814841974,
          0.4431188751597784,
          0.3375789139233861,
          0.33166833166833165,
          0.09842090770869998,
          0.6010383456157773,
          0.22626608493952616,
          0.21063263244881095,
          0.022536958544401943,
          0.5226270714032332,
          0.40673156890563084,
          0.020003390405153417,
          0.1436231328992723,
          0.08703680906069186,
          0.20027533556522015,
          0.4295339593152758,
          0.7318141980718668,
          0.014220132124062255,
          0.25962428094452716,
          0.33425096030729834,
          0.3959063683356945,
          0.26284875183553597,
          0.1307824285390567,
          0.033344733242134064,
          0.10263772238173183,
          0.01387220098306936,
          0.15182595631572865
         ],
         "yaxis": "y"
        },
        {
         "hovertemplate": "US_L3NAME=Cascades<br>Fire_Year=%{x}<br>% of Fire at High Severity=%{y}<br>Total_area_burned(ha)=%{marker.size}<extra></extra>",
         "legendgroup": "Cascades",
         "marker": {
          "color": "#FF6692",
          "size": [
           449.73,
           9549.45,
           1228.23,
           1943.82,
           493.38,
           724.05,
           500.58,
           576.09,
           8405.82,
           808.02,
           577.8,
           3896.91,
           746.37,
           2609.1,
           1721.79,
           10780.02,
           12534.3,
           2265.75
          ],
          "sizemode": "area",
          "sizeref": 18.495425,
          "symbol": "circle"
         },
         "mode": "markers",
         "name": "Cascades",
         "showlegend": true,
         "type": "scattergl",
         "x": [
          1984,
          1987,
          1988,
          1990,
          2000,
          2002,
          2003,
          2008,
          2008,
          2008,
          2009,
          2009,
          2009,
          2009,
          2009,
          2012,
          2014,
          2014
         ],
         "xaxis": "x",
         "y": [
          0.25715429257554534,
          0.15312190754441354,
          0.7010331941085952,
          0.7190943605889434,
          0.7655964976286027,
          0.4660037290242387,
          0.7491909385113268,
          0.44774254022808935,
          0.3740765326880661,
          0.18344842949431944,
          0.06651090342679128,
          0.39347329037622114,
          0.1736404196310141,
          0.06591928251121076,
          0.31373163974700746,
          0.419392542870978,
          0.5405543189488046,
          0.07992055610724925
         ],
         "yaxis": "y"
        },
        {
         "hovertemplate": "US_L3NAME=Central Basin and Range<br>Fire_Year=%{x}<br>% of Fire at High Severity=%{y}<br>Total_area_burned(ha)=%{marker.size}<extra></extra>",
         "legendgroup": "Central Basin and Range",
         "marker": {
          "color": "#B6E880",
          "size": [
           1610.82,
           124.29,
           961.2,
           460.35,
           1050.3,
           477,
           504,
           3839.85,
           466.56,
           1236.33,
           308.34,
           164.97,
           491.76,
           138.06,
           759.33,
           180.18,
           526.14,
           450.09,
           5124.15,
           1796.31,
           228.15,
           921.78,
           225.45,
           1479.69,
           6.66,
           5123.52
          ],
          "sizemode": "area",
          "sizeref": 18.495425,
          "symbol": "circle"
         },
         "mode": "markers",
         "name": "Central Basin and Range",
         "showlegend": true,
         "type": "scattergl",
         "x": [
          1984,
          1984,
          1985,
          1994,
          1996,
          1996,
          2000,
          2001,
          2003,
          2004,
          2006,
          2006,
          2007,
          2008,
          2009,
          2009,
          2010,
          2012,
          2012,
          2013,
          2013,
          2018,
          2019,
          2020,
          2020,
          2020
         ],
         "xaxis": "x",
         "y": [
          0,
          0.19188993482983346,
          0.1054307116104869,
          0.03831867057673509,
          0.355955441302485,
          0.3305660377358491,
          0,
          0.05086136177194422,
          0.012924382716049383,
          0.11094125354880979,
          0.5023350846468184,
          0.004909983633387889,
          0.18283308931185943,
          0.06910039113428944,
          0.017778831338153372,
          0.22277722277722278,
          0.3604173794047212,
          0.0003999200159968006,
          0.009783085975234918,
          0.15015782353825344,
          0.27731755424063115,
          0.1363991407928139,
          0.4299401197604791,
          0.026214950428806033,
          0,
          0.4236228218100056
         ],
         "yaxis": "y"
        },
        {
         "hovertemplate": "US_L3NAME=Eastern Cascades Slopes and Foothills<br>Fire_Year=%{x}<br>% of Fire at High Severity=%{y}<br>Total_area_burned(ha)=%{marker.size}<extra></extra>",
         "legendgroup": "Eastern Cascades Slopes and Foothills",
         "marker": {
          "color": "#FF97FF",
          "size": [
           1224.81,
           459.9,
           1435.77,
           1787.22,
           747.9,
           1385.28,
           411.3,
           1549.89,
           856.08,
           894.06,
           1067.13,
           9748.71,
           1184.13,
           1052.46,
           1047.51,
           2889.27,
           9277.02,
           1550.34,
           12392.46,
           1276.2,
           1968.66,
           702.45,
           686.34,
           4137.39,
           946.44,
           1182.15,
           556.83,
           2215.35,
           2680.92,
           2454.21,
           603.27,
           1120.5,
           5092.65,
           1667.16,
           851.58,
           15471,
           560.07,
           1133.19,
           12500.01,
           19892.61,
           688.77,
           15966.45,
           1520.28,
           461.52,
           5695.02,
           2217.51,
           542.52,
           412.56,
           9125.91
          ],
          "sizemode": "area",
          "sizeref": 18.495425,
          "symbol": "circle"
         },
         "mode": "markers",
         "name": "Eastern Cascades Slopes and Foothills",
         "showlegend": true,
         "type": "scattergl",
         "x": [
          1984,
          1987,
          1987,
          1987,
          1988,
          1988,
          1990,
          1990,
          1994,
          1994,
          1994,
          1996,
          1996,
          1996,
          1998,
          1999,
          1999,
          1999,
          2001,
          2001,
          2001,
          2001,
          2002,
          2003,
          2004,
          2006,
          2006,
          2006,
          2007,
          2008,
          2009,
          2011,
          2012,
          2012,
          2012,
          2012,
          2014,
          2016,
          2017,
          2017,
          2017,
          2018,
          2019,
          2019,
          2019,
          2019,
          2020,
          2020,
          2020
         ],
         "xaxis": "x",
         "y": [
          0.39988243074436036,
          0,
          0.5138218516893375,
          0.012488669553832208,
          0,
          0.40436590436590436,
          0.07045951859956236,
          0,
          0.18071909167367536,
          0.7987718945037247,
          0.7286834781141941,
          0.0065547133928489,
          0.006308428973170175,
          0.002821959979476655,
          0.0009450983761491537,
          0.02952995047191851,
          0.002163410233027416,
          0.0016835016835016834,
          0.2946751492439758,
          0.07200282087447109,
          0.00018286550242296789,
          0.03536194746957078,
          0.2180697613427747,
          0,
          0.7516165842525675,
          0.040807004187285875,
          0.14772910942298367,
          0.003940686573227707,
          0.3654491741640929,
          0.00011001503538816973,
          0.527674175742205,
          0.004257028112449799,
          0.1553591941327207,
          0.36077521053768086,
          0.008666243923060663,
          0.19773123909249563,
          0.01960469227060903,
          0.1624970216821539,
          0.2490406007675194,
          0.050902822706522674,
          0.01816281196916242,
          0.09472111834502972,
          0.0865498460809851,
          0.022425897035881437,
          0.13832611650178575,
          0.013839847396404073,
          0.00016589250165892502,
          0.02356020942408377,
          0.17511020818745746
         ],
         "yaxis": "y"
        },
        {
         "hovertemplate": "US_L3NAME=Northern Basin and Range<br>Fire_Year=%{x}<br>% of Fire at High Severity=%{y}<br>Total_area_burned(ha)=%{marker.size}<extra></extra>",
         "legendgroup": "Northern Basin and Range",
         "marker": {
          "color": "#FECB52",
          "size": [
           1212.21,
           2101.14,
           455.31,
           1995.84,
           4445.37,
           239.22
          ],
          "sizemode": "area",
          "sizeref": 18.495425,
          "symbol": "circle"
         },
         "mode": "markers",
         "name": "Northern Basin and Range",
         "showlegend": true,
         "type": "scattergl",
         "x": [
          1999,
          2002,
          2003,
          2003,
          2015,
          2017
         ],
         "xaxis": "x",
         "y": [
          0,
          0.0009851794739998286,
          0.00039533504645186793,
          0.000045093795093795094,
          0.3175348733626222,
          0.009405568096313018
         ],
         "yaxis": "y"
        },
        {
         "hovertemplate": "US_L3NAME=Sonoran Basin and Range<br>Fire_Year=%{x}<br>% of Fire at High Severity=%{y}<br>Total_area_burned(ha)=%{marker.size}<extra></extra>",
         "legendgroup": "Sonoran Basin and Range",
         "marker": {
          "color": "#636efa",
          "size": [
           567.63,
           475.2,
           780.21,
           453.87,
           663.3,
           864.09,
           54.81,
           640.35,
           456.12,
           803.97,
           232.83
          ],
          "sizemode": "area",
          "sizeref": 18.495425,
          "symbol": "circle"
         },
         "mode": "markers",
         "name": "Sonoran Basin and Range",
         "showlegend": true,
         "type": "scattergl",
         "x": [
          1986,
          1987,
          1989,
          1989,
          1993,
          1995,
          2003,
          2006,
          2007,
          2011,
          2013
         ],
         "xaxis": "x",
         "y": [
          0.40241002061201836,
          0.0001893939393939394,
          0.18664205790748645,
          0.02776125322228832,
          0.002442333785617368,
          0.39308405374440164,
          0.07060755336617405,
          0.20744905130007027,
          0.0001973164956590371,
          0.7438710399641777,
          0.3807499033629687
         ],
         "yaxis": "y"
        },
        {
         "hovertemplate": "US_L3NAME=Coast Range<br>Fire_Year=%{x}<br>% of Fire at High Severity=%{y}<br>Total_area_burned(ha)=%{marker.size}<extra></extra>",
         "legendgroup": "Coast Range",
         "marker": {
          "color": "#EF553B",
          "size": [
           2122.56,
           916.29,
           2113.92,
           1129.14,
           738.09,
           5124.42,
           4403.43,
           500.85,
           3378.69,
           1957.32,
           1758.87,
           1302.3,
           457.65,
           2212.65,
           843.75,
           577.17,
           496.35,
           3353.04
          ],
          "sizemode": "area",
          "sizeref": 18.495425,
          "symbol": "circle"
         },
         "mode": "markers",
         "name": "Coast Range",
         "showlegend": true,
         "type": "scattergl",
         "x": [
          1988,
          1990,
          1990,
          1990,
          1998,
          2003,
          2003,
          2006,
          2008,
          2008,
          2008,
          2008,
          2008,
          2008,
          2008,
          2008,
          2008,
          2009
         ],
         "xaxis": "x",
         "y": [
          0.17503392130257803,
          0.24378744720557902,
          0.04380960490463215,
          0.13821138211382114,
          0.004755517619802463,
          0.28144648565105906,
          0.09986306129539926,
          0.15974842767295597,
          0.052475959617484885,
          0.020921464042670593,
          0.02604513124904058,
          0.035383552176917764,
          0.019862340216322518,
          0.046451088061826316,
          0.029866666666666666,
          0.08560736004989865,
          0.025022665457842246,
          0.2516373201631952
         ],
         "yaxis": "y"
        },
        {
         "hovertemplate": "US_L3NAME=Klamath Mountains/California High North Coast Range<br>Fire_Year=%{x}<br>% of Fire at High Severity=%{y}<br>Total_area_burned(ha)=%{marker.size}<extra></extra>",
         "legendgroup": "Klamath Mountains/California High North Coast Range",
         "marker": {
          "color": "#00cc96",
          "size": [
           1650.69,
           670.95,
           826.38,
           605.25,
           4680.72,
           4935.33,
           1385.64,
           2455.38,
           1406.34,
           5987.79,
           1412.19,
           615.51,
           542.34,
           2131.65,
           2652.3,
           4261.5,
           1376.19,
           2589.75,
           3695.76,
           3459.24,
           7129.53,
           995.22,
           5462.37,
           627.84,
           21702.78,
           28891.89,
           1489.95,
           7453.89,
           7946.28,
           4442.58,
           1157.13,
           1189.8,
           2364.66,
           587.61,
           14703.48,
           2086.38,
           2300.13,
           3106.26,
           597.06,
           451.26,
           2134.17,
           536.67,
           720,
           2896.56,
           10470.33,
           687.24,
           886.32,
           845.01,
           750.33,
           2308.05,
           5021.91,
           2216.43,
           2064.69,
           1058.31,
           6776.19,
           825.48,
           1331.91,
           735.48,
           57106.71,
           519.3,
           417.87,
           768.24,
           480.6,
           714.06,
           3531.6,
           509.04,
           600.84,
           1251.54,
           1984.32,
           2584.71,
           1508.04,
           1540.89,
           5537.25,
           1310.31,
           6782.85,
           1343.25,
           40856.67,
           2136.96,
           6459.84,
           1534.77,
           9427.68,
           2475.81,
           621.45,
           551.79,
           5746.05,
           970.47,
           1280.34,
           705.69,
           799.56,
           1435.86,
           722.43,
           986.58,
           607.95,
           447.39,
           1586.16,
           592.47,
           2959.38,
           453.06,
           11021.13,
           10391.76,
           594.99,
           496.26,
           13111.47,
           10229.67,
           6016.23,
           513.9,
           5262.75,
           11916.18,
           992.97,
           4916.88,
           1627.2,
           879.3,
           28916.73,
           441.27,
           1902.24,
           476.55,
           1162.53,
           573.75,
           450.45,
           17680.68,
           1825.56,
           741.78,
           470.7,
           9865.26,
           444.96,
           5501.25,
           6054.93,
           9736.92,
           2585.7,
           13968.9,
           6847.2,
           1615.32,
           47952.45,
           13871.97,
           846.63,
           4544.1,
           3464.73,
           8384.31,
           1214.91,
           782.91,
           10051.11,
           2557.17,
           1596.69,
           14343.21,
           12596.67,
           770.67,
           31779.45,
           3382.47,
           5773.05,
           4923.72,
           1266.75,
           13736.52,
           1313.28,
           648.54,
           5505.57,
           7570.8,
           1344.87,
           25210.62,
           8872.29,
           647.01,
           1710.72,
           38708.73,
           4353.12,
           12757.86,
           718.65,
           18899.37,
           25788.87,
           1617.39,
           15686.73,
           548.46,
           747,
           456.93,
           808.11,
           3559.59,
           45117,
           58078.17
          ],
          "sizemode": "area",
          "sizeref": 18.495425,
          "symbol": "circle"
         },
         "mode": "markers",
         "name": "Klamath Mountains/California High North Coast Range",
         "showlegend": true,
         "type": "scattergl",
         "x": [
          1985,
          1985,
          1987,
          1987,
          1987,
          1987,
          1987,
          1987,
          1987,
          1987,
          1987,
          1987,
          1987,
          1987,
          1987,
          1987,
          1987,
          1987,
          1987,
          1987,
          1987,
          1987,
          1987,
          1987,
          1987,
          1987,
          1987,
          1987,
          1987,
          1987,
          1987,
          1987,
          1987,
          1987,
          1987,
          1987,
          1987,
          1988,
          1990,
          1991,
          1992,
          1992,
          1994,
          1994,
          1994,
          1994,
          1995,
          1996,
          1999,
          1999,
          1999,
          1999,
          1999,
          1999,
          1999,
          1999,
          1999,
          1999,
          1999,
          1999,
          2000,
          2000,
          2001,
          2001,
          2001,
          2001,
          2002,
          2002,
          2003,
          2003,
          2003,
          2004,
          2004,
          2005,
          2006,
          2006,
          2006,
          2006,
          2006,
          2006,
          2006,
          2006,
          2007,
          2007,
          2007,
          2007,
          2007,
          2008,
          2008,
          2008,
          2008,
          2008,
          2008,
          2008,
          2008,
          2008,
          2008,
          2008,
          2008,
          2008,
          2008,
          2008,
          2008,
          2008,
          2008,
          2008,
          2008,
          2008,
          2008,
          2008,
          2008,
          2008,
          2008,
          2009,
          2009,
          2009,
          2009,
          2009,
          2011,
          2012,
          2012,
          2012,
          2012,
          2012,
          2012,
          2013,
          2013,
          2013,
          2014,
          2014,
          2014,
          2014,
          2014,
          2014,
          2015,
          2015,
          2015,
          2015,
          2015,
          2015,
          2015,
          2015,
          2015,
          2015,
          2015,
          2015,
          2015,
          2015,
          2015,
          2015,
          2016,
          2016,
          2017,
          2017,
          2017,
          2017,
          2017,
          2017,
          2017,
          2017,
          2017,
          2017,
          2017,
          2017,
          2018,
          2018,
          2018,
          2018,
          2018,
          2019,
          2019,
          2020,
          2020,
          2020,
          2020,
          2020
         ],
         "xaxis": "x",
         "y": [
          0.22141649855514967,
          0.6568745808182428,
          0.41733827052929645,
          0.03925650557620818,
          0.18754806952776495,
          0.21321370607436585,
          0.056638087815016884,
          0.3225936514918261,
          0.2605913221553821,
          0.09700741007951182,
          0.21222356765024536,
          0.6420529317151631,
          0.06870229007633587,
          0.11851382731686722,
          0.36593145571767893,
          0.24933474128827876,
          0.33366032306585575,
          0.30158123370981754,
          0.253555425676992,
          0.08650744094078469,
          0.16961005844705052,
          0.33676975945017185,
          0.27210716227571546,
          0.359375,
          0.15176120294266449,
          0.14109357331763342,
          0.12201751736635458,
          0.05636251675299743,
          0.19428713813256013,
          0.10749159272314737,
          0.10647896087734307,
          0.15998487140695916,
          0.27890690416381214,
          0.09220401286567621,
          0.25312783096246605,
          0.10055215253213699,
          0.38541299839574283,
          0.39317378455119656,
          0.03964425685860718,
          0.5712006382130036,
          0.5049129169653775,
          0.15394935435183635,
          0.697,
          0.4120991797166294,
          0.19715137918289105,
          0.36432687270822417,
          0.2799553208773355,
          0.028970071360102247,
          0.5138539042821159,
          0.1516864885942679,
          0.15867667879352676,
          0.05205668575141106,
          0.10444182903971055,
          0.16897695382260397,
          0.08513633767648192,
          0.10630178805058875,
          0.18332319751334547,
          0.35217816935878604,
          0.1858431347209461,
          0.37937608318890814,
          0.37648072367004093,
          0.3564901593252109,
          0.3597378277153558,
          0.5292412402319133,
          0.17362385321100918,
          0.09653465346534654,
          0.32729179149191134,
          0.2762836185819071,
          0.5150126995645864,
          0.32358369023991085,
          0.1461566006206732,
          0.5768938730214356,
          0.2288175538399025,
          0.13366302630675184,
          0.1664565779871293,
          0.23370184254606366,
          0.23421512325894403,
          0.12213611859838275,
          0.08639378065091395,
          0.338415528059579,
          0.1634718191538109,
          0.2953942346141263,
          0.538884866039102,
          0.23389332898385257,
          0.24761531834912678,
          0.1500510062134842,
          0.14853085899058063,
          0.15380691238362454,
          0.24639801891040072,
          0.11996991350131629,
          0.0751214650554379,
          0.027549717204889617,
          0.021317542561065876,
          0.03741701870850935,
          0.38322741715842035,
          0.04298951845663071,
          0.18411288851043123,
          0.28406833531982517,
          0.11274161542418971,
          0.16118443843968683,
          0.010134624111329602,
          0.08306129851287632,
          0.1866724326105311,
          0.2828536990929326,
          0.1408888955375709,
          0.04676007005253941,
          0.0771269773407439,
          0.23945257624507182,
          0.06190519351037795,
          0.29188021672279985,
          0.1932522123893805,
          0.1240532241555783,
          0.3211701323074912,
          0.4693045074444218,
          0.27029712339137013,
          0.2219074598677998,
          0.25989006735310055,
          0.12611764705882353,
          0.3248751248751249,
          0.3244558467208275,
          0.5006901991717609,
          0.1475370055811696,
          0.2393881453154876,
          0.31147481161165547,
          0.19963592233009708,
          0.40065439672801634,
          0.3348544078957147,
          0.32202277516915,
          0.5940828402366863,
          0.35652986276657433,
          0.2825709779179811,
          0.22581903276131046,
          0.36823978753953135,
          0.4501047796383643,
          0.03784415860529393,
          0.23642305407011285,
          0.19559965711613894,
          0.22574308440408336,
          0.3552855767093858,
          0.06012185308656168,
          0.20368198139309987,
          0.26586421708372926,
          0.41096894199875994,
          0.2353531740802791,
          0.28370355022398774,
          0.3274553310755577,
          0.22222285155973434,
          0.08913604555251045,
          0.22622184114116453,
          0.27498720479637345,
          0.1566607460035524,
          0.3066475351835836,
          0.11965460526315788,
          0.2174576741604219,
          0.15305772154381836,
          0.27163575844032334,
          0.31499698855651476,
          0.301408692051207,
          0.20958399691624144,
          0.22798720267074696,
          0.21422558922558924,
          0.36731714008700356,
          0.3273652001323189,
          0.33294298573585224,
          0.34940513462742645,
          0.20108289323929848,
          0.5303497206352974,
          0.1216960658839241,
          0.2667056805338015,
          0.5106662290777814,
          0.030120481927710843,
          0.42012999803033285,
          0.1816460630359728,
          0.21460898586634974,
          0.6847057650109715,
          0.3154996102666458
         ],
         "yaxis": "y"
        }
       ],
       "layout": {
        "legend": {
         "itemsizing": "constant",
         "title": {
          "text": "US_L3NAME"
         },
         "tracegroupgap": 0
        },
        "margin": {
         "t": 60
        },
        "template": {
         "data": {
          "bar": [
           {
            "error_x": {
             "color": "#2a3f5f"
            },
            "error_y": {
             "color": "#2a3f5f"
            },
            "marker": {
             "line": {
              "color": "#E5ECF6",
              "width": 0.5
             },
             "pattern": {
              "fillmode": "overlay",
              "size": 10,
              "solidity": 0.2
             }
            },
            "type": "bar"
           }
          ],
          "barpolar": [
           {
            "marker": {
             "line": {
              "color": "#E5ECF6",
              "width": 0.5
             },
             "pattern": {
              "fillmode": "overlay",
              "size": 10,
              "solidity": 0.2
             }
            },
            "type": "barpolar"
           }
          ],
          "carpet": [
           {
            "aaxis": {
             "endlinecolor": "#2a3f5f",
             "gridcolor": "white",
             "linecolor": "white",
             "minorgridcolor": "white",
             "startlinecolor": "#2a3f5f"
            },
            "baxis": {
             "endlinecolor": "#2a3f5f",
             "gridcolor": "white",
             "linecolor": "white",
             "minorgridcolor": "white",
             "startlinecolor": "#2a3f5f"
            },
            "type": "carpet"
           }
          ],
          "choropleth": [
           {
            "colorbar": {
             "outlinewidth": 0,
             "ticks": ""
            },
            "type": "choropleth"
           }
          ],
          "contour": [
           {
            "colorbar": {
             "outlinewidth": 0,
             "ticks": ""
            },
            "colorscale": [
             [
              0,
              "#0d0887"
             ],
             [
              0.1111111111111111,
              "#46039f"
             ],
             [
              0.2222222222222222,
              "#7201a8"
             ],
             [
              0.3333333333333333,
              "#9c179e"
             ],
             [
              0.4444444444444444,
              "#bd3786"
             ],
             [
              0.5555555555555556,
              "#d8576b"
             ],
             [
              0.6666666666666666,
              "#ed7953"
             ],
             [
              0.7777777777777778,
              "#fb9f3a"
             ],
             [
              0.8888888888888888,
              "#fdca26"
             ],
             [
              1,
              "#f0f921"
             ]
            ],
            "type": "contour"
           }
          ],
          "contourcarpet": [
           {
            "colorbar": {
             "outlinewidth": 0,
             "ticks": ""
            },
            "type": "contourcarpet"
           }
          ],
          "heatmap": [
           {
            "colorbar": {
             "outlinewidth": 0,
             "ticks": ""
            },
            "colorscale": [
             [
              0,
              "#0d0887"
             ],
             [
              0.1111111111111111,
              "#46039f"
             ],
             [
              0.2222222222222222,
              "#7201a8"
             ],
             [
              0.3333333333333333,
              "#9c179e"
             ],
             [
              0.4444444444444444,
              "#bd3786"
             ],
             [
              0.5555555555555556,
              "#d8576b"
             ],
             [
              0.6666666666666666,
              "#ed7953"
             ],
             [
              0.7777777777777778,
              "#fb9f3a"
             ],
             [
              0.8888888888888888,
              "#fdca26"
             ],
             [
              1,
              "#f0f921"
             ]
            ],
            "type": "heatmap"
           }
          ],
          "heatmapgl": [
           {
            "colorbar": {
             "outlinewidth": 0,
             "ticks": ""
            },
            "colorscale": [
             [
              0,
              "#0d0887"
             ],
             [
              0.1111111111111111,
              "#46039f"
             ],
             [
              0.2222222222222222,
              "#7201a8"
             ],
             [
              0.3333333333333333,
              "#9c179e"
             ],
             [
              0.4444444444444444,
              "#bd3786"
             ],
             [
              0.5555555555555556,
              "#d8576b"
             ],
             [
              0.6666666666666666,
              "#ed7953"
             ],
             [
              0.7777777777777778,
              "#fb9f3a"
             ],
             [
              0.8888888888888888,
              "#fdca26"
             ],
             [
              1,
              "#f0f921"
             ]
            ],
            "type": "heatmapgl"
           }
          ],
          "histogram": [
           {
            "marker": {
             "pattern": {
              "fillmode": "overlay",
              "size": 10,
              "solidity": 0.2
             }
            },
            "type": "histogram"
           }
          ],
          "histogram2d": [
           {
            "colorbar": {
             "outlinewidth": 0,
             "ticks": ""
            },
            "colorscale": [
             [
              0,
              "#0d0887"
             ],
             [
              0.1111111111111111,
              "#46039f"
             ],
             [
              0.2222222222222222,
              "#7201a8"
             ],
             [
              0.3333333333333333,
              "#9c179e"
             ],
             [
              0.4444444444444444,
              "#bd3786"
             ],
             [
              0.5555555555555556,
              "#d8576b"
             ],
             [
              0.6666666666666666,
              "#ed7953"
             ],
             [
              0.7777777777777778,
              "#fb9f3a"
             ],
             [
              0.8888888888888888,
              "#fdca26"
             ],
             [
              1,
              "#f0f921"
             ]
            ],
            "type": "histogram2d"
           }
          ],
          "histogram2dcontour": [
           {
            "colorbar": {
             "outlinewidth": 0,
             "ticks": ""
            },
            "colorscale": [
             [
              0,
              "#0d0887"
             ],
             [
              0.1111111111111111,
              "#46039f"
             ],
             [
              0.2222222222222222,
              "#7201a8"
             ],
             [
              0.3333333333333333,
              "#9c179e"
             ],
             [
              0.4444444444444444,
              "#bd3786"
             ],
             [
              0.5555555555555556,
              "#d8576b"
             ],
             [
              0.6666666666666666,
              "#ed7953"
             ],
             [
              0.7777777777777778,
              "#fb9f3a"
             ],
             [
              0.8888888888888888,
              "#fdca26"
             ],
             [
              1,
              "#f0f921"
             ]
            ],
            "type": "histogram2dcontour"
           }
          ],
          "mesh3d": [
           {
            "colorbar": {
             "outlinewidth": 0,
             "ticks": ""
            },
            "type": "mesh3d"
           }
          ],
          "parcoords": [
           {
            "line": {
             "colorbar": {
              "outlinewidth": 0,
              "ticks": ""
             }
            },
            "type": "parcoords"
           }
          ],
          "pie": [
           {
            "automargin": true,
            "type": "pie"
           }
          ],
          "scatter": [
           {
            "fillpattern": {
             "fillmode": "overlay",
             "size": 10,
             "solidity": 0.2
            },
            "type": "scatter"
           }
          ],
          "scatter3d": [
           {
            "line": {
             "colorbar": {
              "outlinewidth": 0,
              "ticks": ""
             }
            },
            "marker": {
             "colorbar": {
              "outlinewidth": 0,
              "ticks": ""
             }
            },
            "type": "scatter3d"
           }
          ],
          "scattercarpet": [
           {
            "marker": {
             "colorbar": {
              "outlinewidth": 0,
              "ticks": ""
             }
            },
            "type": "scattercarpet"
           }
          ],
          "scattergeo": [
           {
            "marker": {
             "colorbar": {
              "outlinewidth": 0,
              "ticks": ""
             }
            },
            "type": "scattergeo"
           }
          ],
          "scattergl": [
           {
            "marker": {
             "colorbar": {
              "outlinewidth": 0,
              "ticks": ""
             }
            },
            "type": "scattergl"
           }
          ],
          "scattermapbox": [
           {
            "marker": {
             "colorbar": {
              "outlinewidth": 0,
              "ticks": ""
             }
            },
            "type": "scattermapbox"
           }
          ],
          "scatterpolar": [
           {
            "marker": {
             "colorbar": {
              "outlinewidth": 0,
              "ticks": ""
             }
            },
            "type": "scatterpolar"
           }
          ],
          "scatterpolargl": [
           {
            "marker": {
             "colorbar": {
              "outlinewidth": 0,
              "ticks": ""
             }
            },
            "type": "scatterpolargl"
           }
          ],
          "scatterternary": [
           {
            "marker": {
             "colorbar": {
              "outlinewidth": 0,
              "ticks": ""
             }
            },
            "type": "scatterternary"
           }
          ],
          "surface": [
           {
            "colorbar": {
             "outlinewidth": 0,
             "ticks": ""
            },
            "colorscale": [
             [
              0,
              "#0d0887"
             ],
             [
              0.1111111111111111,
              "#46039f"
             ],
             [
              0.2222222222222222,
              "#7201a8"
             ],
             [
              0.3333333333333333,
              "#9c179e"
             ],
             [
              0.4444444444444444,
              "#bd3786"
             ],
             [
              0.5555555555555556,
              "#d8576b"
             ],
             [
              0.6666666666666666,
              "#ed7953"
             ],
             [
              0.7777777777777778,
              "#fb9f3a"
             ],
             [
              0.8888888888888888,
              "#fdca26"
             ],
             [
              1,
              "#f0f921"
             ]
            ],
            "type": "surface"
           }
          ],
          "table": [
           {
            "cells": {
             "fill": {
              "color": "#EBF0F8"
             },
             "line": {
              "color": "white"
             }
            },
            "header": {
             "fill": {
              "color": "#C8D4E3"
             },
             "line": {
              "color": "white"
             }
            },
            "type": "table"
           }
          ]
         },
         "layout": {
          "annotationdefaults": {
           "arrowcolor": "#2a3f5f",
           "arrowhead": 0,
           "arrowwidth": 1
          },
          "autotypenumbers": "strict",
          "coloraxis": {
           "colorbar": {
            "outlinewidth": 0,
            "ticks": ""
           }
          },
          "colorscale": {
           "diverging": [
            [
             0,
             "#8e0152"
            ],
            [
             0.1,
             "#c51b7d"
            ],
            [
             0.2,
             "#de77ae"
            ],
            [
             0.3,
             "#f1b6da"
            ],
            [
             0.4,
             "#fde0ef"
            ],
            [
             0.5,
             "#f7f7f7"
            ],
            [
             0.6,
             "#e6f5d0"
            ],
            [
             0.7,
             "#b8e186"
            ],
            [
             0.8,
             "#7fbc41"
            ],
            [
             0.9,
             "#4d9221"
            ],
            [
             1,
             "#276419"
            ]
           ],
           "sequential": [
            [
             0,
             "#0d0887"
            ],
            [
             0.1111111111111111,
             "#46039f"
            ],
            [
             0.2222222222222222,
             "#7201a8"
            ],
            [
             0.3333333333333333,
             "#9c179e"
            ],
            [
             0.4444444444444444,
             "#bd3786"
            ],
            [
             0.5555555555555556,
             "#d8576b"
            ],
            [
             0.6666666666666666,
             "#ed7953"
            ],
            [
             0.7777777777777778,
             "#fb9f3a"
            ],
            [
             0.8888888888888888,
             "#fdca26"
            ],
            [
             1,
             "#f0f921"
            ]
           ],
           "sequentialminus": [
            [
             0,
             "#0d0887"
            ],
            [
             0.1111111111111111,
             "#46039f"
            ],
            [
             0.2222222222222222,
             "#7201a8"
            ],
            [
             0.3333333333333333,
             "#9c179e"
            ],
            [
             0.4444444444444444,
             "#bd3786"
            ],
            [
             0.5555555555555556,
             "#d8576b"
            ],
            [
             0.6666666666666666,
             "#ed7953"
            ],
            [
             0.7777777777777778,
             "#fb9f3a"
            ],
            [
             0.8888888888888888,
             "#fdca26"
            ],
            [
             1,
             "#f0f921"
            ]
           ]
          },
          "colorway": [
           "#636efa",
           "#EF553B",
           "#00cc96",
           "#ab63fa",
           "#FFA15A",
           "#19d3f3",
           "#FF6692",
           "#B6E880",
           "#FF97FF",
           "#FECB52"
          ],
          "font": {
           "color": "#2a3f5f"
          },
          "geo": {
           "bgcolor": "white",
           "lakecolor": "white",
           "landcolor": "#E5ECF6",
           "showlakes": true,
           "showland": true,
           "subunitcolor": "white"
          },
          "hoverlabel": {
           "align": "left"
          },
          "hovermode": "closest",
          "mapbox": {
           "style": "light"
          },
          "paper_bgcolor": "white",
          "plot_bgcolor": "#E5ECF6",
          "polar": {
           "angularaxis": {
            "gridcolor": "white",
            "linecolor": "white",
            "ticks": ""
           },
           "bgcolor": "#E5ECF6",
           "radialaxis": {
            "gridcolor": "white",
            "linecolor": "white",
            "ticks": ""
           }
          },
          "scene": {
           "xaxis": {
            "backgroundcolor": "#E5ECF6",
            "gridcolor": "white",
            "gridwidth": 2,
            "linecolor": "white",
            "showbackground": true,
            "ticks": "",
            "zerolinecolor": "white"
           },
           "yaxis": {
            "backgroundcolor": "#E5ECF6",
            "gridcolor": "white",
            "gridwidth": 2,
            "linecolor": "white",
            "showbackground": true,
            "ticks": "",
            "zerolinecolor": "white"
           },
           "zaxis": {
            "backgroundcolor": "#E5ECF6",
            "gridcolor": "white",
            "gridwidth": 2,
            "linecolor": "white",
            "showbackground": true,
            "ticks": "",
            "zerolinecolor": "white"
           }
          },
          "shapedefaults": {
           "line": {
            "color": "#2a3f5f"
           }
          },
          "ternary": {
           "aaxis": {
            "gridcolor": "white",
            "linecolor": "white",
            "ticks": ""
           },
           "baxis": {
            "gridcolor": "white",
            "linecolor": "white",
            "ticks": ""
           },
           "bgcolor": "#E5ECF6",
           "caxis": {
            "gridcolor": "white",
            "linecolor": "white",
            "ticks": ""
           }
          },
          "title": {
           "x": 0.05
          },
          "xaxis": {
           "automargin": true,
           "gridcolor": "white",
           "linecolor": "white",
           "ticks": "",
           "title": {
            "standoff": 15
           },
           "zerolinecolor": "white",
           "zerolinewidth": 2
          },
          "yaxis": {
           "automargin": true,
           "gridcolor": "white",
           "linecolor": "white",
           "ticks": "",
           "title": {
            "standoff": 15
           },
           "zerolinecolor": "white",
           "zerolinewidth": 2
          }
         }
        },
        "xaxis": {
         "anchor": "y",
         "domain": [
          0,
          1
         ],
         "title": {
          "text": "Fire_Year"
         }
        },
        "yaxis": {
         "anchor": "x",
         "domain": [
          0,
          1
         ],
         "title": {
          "text": "% of Fire at High Severity"
         }
        }
       }
      }
     },
     "metadata": {},
     "output_type": "display_data"
    }
   ],
   "source": [
    "fig = px.scatter(single_region_fires, x='Fire_Year', y='% of Fire at High Severity', size_max=60,\n",
    "                    size='Total_area_burned(ha)', color='US_L3NAME')\n",
    "\n",
    "fig.show()"
   ]
  },
  {
   "cell_type": "code",
   "execution_count": null,
   "metadata": {},
   "outputs": [
    {
     "data": {
      "text/plain": [
       "array(['Southern California/Northern Baja Coast',\n",
       "       'Southern California Mountains', 'Mojave Basin and Range',\n",
       "       'Central California Foothills and Coastal Mountains',\n",
       "       'Central California Valley', 'Sierra Nevada', 'Cascades',\n",
       "       'Central Basin and Range', 'Eastern Cascades Slopes and Foothills',\n",
       "       'Northern Basin and Range', 'Sonoran Basin and Range',\n",
       "       'Coast Range',\n",
       "       'Klamath Mountains/California High North Coast Range'],\n",
       "      dtype=object)"
      ]
     },
     "execution_count": 155,
     "metadata": {},
     "output_type": "execute_result"
    }
   ],
   "source": [
    "single_region_fires['US_L3NAME'].unique()"
   ]
  },
  {
   "cell_type": "code",
   "execution_count": null,
   "metadata": {},
   "outputs": [
    {
     "data": {
      "text/plain": [
       "<AxesSubplot:ylabel='Count'>"
      ]
     },
     "execution_count": 163,
     "metadata": {},
     "output_type": "execute_result"
    },
    {
     "data": {
      "image/png": "[encoded data removed]",
      "text/plain": [
       "<Figure size 432x288 with 1 Axes>"
      ]
     },
     "metadata": {
      "needs_background": "light"
     },
     "output_type": "display_data"
    }
   ],
   "source": [
    "sns.histplot(single_region_fires[single_region_fires['US_L3NAME']=='Klamath Mountains/California High North Coast Range'][['Total_area_burned(ha)']])"
   ]
  },
  {
   "cell_type": "code",
   "execution_count": null,
   "metadata": {},
   "outputs": [
    {
     "data": {
      "text/plain": [
       "<AxesSubplot:ylabel='Count'>"
      ]
     },
     "execution_count": 164,
     "metadata": {},
     "output_type": "execute_result"
    },
    {
     "data": {
      "image/png": "[encoded data removed]",
      "text/plain": [
       "<Figure size 432x288 with 1 Axes>"
      ]
     },
     "metadata": {
      "needs_background": "light"
     },
     "output_type": "display_data"
    }
   ],
   "source": [
    "sns.histplot(single_region_fires[single_region_fires['US_L3NAME']=='Klamath Mountains/California High North Coast Range'][['% of Fire at High Severity']])"
   ]
  },
  {
   "cell_type": "code",
   "execution_count": null,
   "metadata": {},
   "outputs": [
    {
     "data": {
      "text/plain": [
       "<AxesSubplot:ylabel='Count'>"
      ]
     },
     "execution_count": 165,
     "metadata": {},
     "output_type": "execute_result"
    },
    {
     "data": {
      "image/png": "[encoded data removed]",
      "text/plain": [
       "<Figure size 432x288 with 1 Axes>"
      ]
     },
     "metadata": {
      "needs_background": "light"
     },
     "output_type": "display_data"
    }
   ],
   "source": [
    "sns.histplot(single_region_fires[single_region_fires['US_L3NAME']=='Klamath Mountains/California High North Coast Range'][['% of Fire at Low Severity']])"
   ]
  },
  {
   "cell_type": "code",
   "execution_count": null,
   "metadata": {},
   "outputs": [
    {
     "data": {
      "text/plain": [
       "<AxesSubplot:ylabel='Count'>"
      ]
     },
     "execution_count": 167,
     "metadata": {},
     "output_type": "execute_result"
    },
    {
     "data": {
      "image/png": "[encoded data removed]",
      "text/plain": [
       "<Figure size 432x288 with 1 Axes>"
      ]
     },
     "metadata": {
      "needs_background": "light"
     },
     "output_type": "display_data"
    }
   ],
   "source": [
    "sns.histplot(single_region_fires[single_region_fires['US_L3NAME']=='Klamath Mountains/California High North Coast Range'][['% of Fire at Moderate Severity']])"
   ]
  },
  {
   "cell_type": "code",
   "execution_count": null,
   "metadata": {},
   "outputs": [
    {
     "data": {
      "application/vnd.plotly.v1+json": {
       "config": {
        "plotlyServerURL": "https://plot.ly"
       },
       "data": [
        {
         "hovertemplate": "US_L3NAME=Mojave Basin and Range<br>Fire_Year=%{x}<br>% of Fire at High Severity=%{y}<br>Total_area_burned(ha)=%{marker.size}<extra></extra>",
         "legendgroup": "Mojave Basin and Range",
         "marker": {
          "color": "#636efa",
          "size": [
           1671.57,
           994.41,
           496.44,
           1908,
           1009.17,
           3338.37,
           590.22,
           2569.59,
           2207.97,
           427.95,
           433.89,
           621.27,
           5587.2,
           741.06,
           2420.73,
           424.44,
           572.58,
           28258.38,
           1000.53,
           422.46,
           1512.99,
           4114.89,
           3659.67,
           998.37,
           576.27,
           460.17,
           3752.55,
           714.24,
           834.75,
           540.72,
           746.1,
           1767.6,
           17861.22,
           422.46,
           3696.93
          ],
          "sizemode": "area",
          "sizeref": 7.849550000000001,
          "symbol": "circle"
         },
         "mode": "markers",
         "name": "Mojave Basin and Range",
         "orientation": "v",
         "showlegend": true,
         "type": "scatter",
         "x": [
          1984,
          1984,
          1986,
          1986,
          1993,
          1993,
          1994,
          1994,
          1995,
          1996,
          1996,
          1998,
          1999,
          1999,
          2000,
          2003,
          2004,
          2005,
          2005,
          2005,
          2005,
          2005,
          2005,
          2006,
          2006,
          2006,
          2006,
          2006,
          2007,
          2011,
          2011,
          2015,
          2020,
          2020,
          2020
         ],
         "xaxis": "x",
         "y": [
          0.033112582781456956,
          0.007874015748031496,
          0.19651921682378537,
          0,
          0.005261749754748952,
          0.0015636373439732564,
          0,
          0.00007005008581135511,
          0,
          0,
          0,
          0,
          0,
          0,
          0.0697475554894598,
          0.4535623409669211,
          0.007387613957874882,
          0.0013440260906676176,
          0,
          0,
          0,
          0.0010061022287351543,
          0,
          0,
          0,
          0.001564639155094856,
          0,
          0.010206653225806451,
          0,
          0.0692410119840213,
          0,
          0,
          0.000015116548589626016,
          0,
          0.00835017162889208
         ],
         "yaxis": "y"
        }
       ],
       "layout": {
        "legend": {
         "itemsizing": "constant",
         "title": {
          "text": "US_L3NAME"
         },
         "tracegroupgap": 0
        },
        "margin": {
         "t": 60
        },
        "template": {
         "data": {
          "bar": [
           {
            "error_x": {
             "color": "#2a3f5f"
            },
            "error_y": {
             "color": "#2a3f5f"
            },
            "marker": {
             "line": {
              "color": "#E5ECF6",
              "width": 0.5
             },
             "pattern": {
              "fillmode": "overlay",
              "size": 10,
              "solidity": 0.2
             }
            },
            "type": "bar"
           }
          ],
          "barpolar": [
           {
            "marker": {
             "line": {
              "color": "#E5ECF6",
              "width": 0.5
             },
             "pattern": {
              "fillmode": "overlay",
              "size": 10,
              "solidity": 0.2
             }
            },
            "type": "barpolar"
           }
          ],
          "carpet": [
           {
            "aaxis": {
             "endlinecolor": "#2a3f5f",
             "gridcolor": "white",
             "linecolor": "white",
             "minorgridcolor": "white",
             "startlinecolor": "#2a3f5f"
            },
            "baxis": {
             "endlinecolor": "#2a3f5f",
             "gridcolor": "white",
             "linecolor": "white",
             "minorgridcolor": "white",
             "startlinecolor": "#2a3f5f"
            },
            "type": "carpet"
           }
          ],
          "choropleth": [
           {
            "colorbar": {
             "outlinewidth": 0,
             "ticks": ""
            },
            "type": "choropleth"
           }
          ],
          "contour": [
           {
            "colorbar": {
             "outlinewidth": 0,
             "ticks": ""
            },
            "colorscale": [
             [
              0,
              "#0d0887"
             ],
             [
              0.1111111111111111,
              "#46039f"
             ],
             [
              0.2222222222222222,
              "#7201a8"
             ],
             [
              0.3333333333333333,
              "#9c179e"
             ],
             [
              0.4444444444444444,
              "#bd3786"
             ],
             [
              0.5555555555555556,
              "#d8576b"
             ],
             [
              0.6666666666666666,
              "#ed7953"
             ],
             [
              0.7777777777777778,
              "#fb9f3a"
             ],
             [
              0.8888888888888888,
              "#fdca26"
             ],
             [
              1,
              "#f0f921"
             ]
            ],
            "type": "contour"
           }
          ],
          "contourcarpet": [
           {
            "colorbar": {
             "outlinewidth": 0,
             "ticks": ""
            },
            "type": "contourcarpet"
           }
          ],
          "heatmap": [
           {
            "colorbar": {
             "outlinewidth": 0,
             "ticks": ""
            },
            "colorscale": [
             [
              0,
              "#0d0887"
             ],
             [
              0.1111111111111111,
              "#46039f"
             ],
             [
              0.2222222222222222,
              "#7201a8"
             ],
             [
              0.3333333333333333,
              "#9c179e"
             ],
             [
              0.4444444444444444,
              "#bd3786"
             ],
             [
              0.5555555555555556,
              "#d8576b"
             ],
             [
              0.6666666666666666,
              "#ed7953"
             ],
             [
              0.7777777777777778,
              "#fb9f3a"
             ],
             [
              0.8888888888888888,
              "#fdca26"
             ],
             [
              1,
              "#f0f921"
             ]
            ],
            "type": "heatmap"
           }
          ],
          "heatmapgl": [
           {
            "colorbar": {
             "outlinewidth": 0,
             "ticks": ""
            },
            "colorscale": [
             [
              0,
              "#0d0887"
             ],
             [
              0.1111111111111111,
              "#46039f"
             ],
             [
              0.2222222222222222,
              "#7201a8"
             ],
             [
              0.3333333333333333,
              "#9c179e"
             ],
             [
              0.4444444444444444,
              "#bd3786"
             ],
             [
              0.5555555555555556,
              "#d8576b"
             ],
             [
              0.6666666666666666,
              "#ed7953"
             ],
             [
              0.7777777777777778,
              "#fb9f3a"
             ],
             [
              0.8888888888888888,
              "#fdca26"
             ],
             [
              1,
              "#f0f921"
             ]
            ],
            "type": "heatmapgl"
           }
          ],
          "histogram": [
           {
            "marker": {
             "pattern": {
              "fillmode": "overlay",
              "size": 10,
              "solidity": 0.2
             }
            },
            "type": "histogram"
           }
          ],
          "histogram2d": [
           {
            "colorbar": {
             "outlinewidth": 0,
             "ticks": ""
            },
            "colorscale": [
             [
              0,
              "#0d0887"
             ],
             [
              0.1111111111111111,
              "#46039f"
             ],
             [
              0.2222222222222222,
              "#7201a8"
             ],
             [
              0.3333333333333333,
              "#9c179e"
             ],
             [
              0.4444444444444444,
              "#bd3786"
             ],
             [
              0.5555555555555556,
              "#d8576b"
             ],
             [
              0.6666666666666666,
              "#ed7953"
             ],
             [
              0.7777777777777778,
              "#fb9f3a"
             ],
             [
              0.8888888888888888,
              "#fdca26"
             ],
             [
              1,
              "#f0f921"
             ]
            ],
            "type": "histogram2d"
           }
          ],
          "histogram2dcontour": [
           {
            "colorbar": {
             "outlinewidth": 0,
             "ticks": ""
            },
            "colorscale": [
             [
              0,
              "#0d0887"
             ],
             [
              0.1111111111111111,
              "#46039f"
             ],
             [
              0.2222222222222222,
              "#7201a8"
             ],
             [
              0.3333333333333333,
              "#9c179e"
             ],
             [
              0.4444444444444444,
              "#bd3786"
             ],
             [
              0.5555555555555556,
              "#d8576b"
             ],
             [
              0.6666666666666666,
              "#ed7953"
             ],
             [
              0.7777777777777778,
              "#fb9f3a"
             ],
             [
              0.8888888888888888,
              "#fdca26"
             ],
             [
              1,
              "#f0f921"
             ]
            ],
            "type": "histogram2dcontour"
           }
          ],
          "mesh3d": [
           {
            "colorbar": {
             "outlinewidth": 0,
             "ticks": ""
            },
            "type": "mesh3d"
           }
          ],
          "parcoords": [
           {
            "line": {
             "colorbar": {
              "outlinewidth": 0,
              "ticks": ""
             }
            },
            "type": "parcoords"
           }
          ],
          "pie": [
           {
            "automargin": true,
            "type": "pie"
           }
          ],
          "scatter": [
           {
            "fillpattern": {
             "fillmode": "overlay",
             "size": 10,
             "solidity": 0.2
            },
            "type": "scatter"
           }
          ],
          "scatter3d": [
           {
            "line": {
             "colorbar": {
              "outlinewidth": 0,
              "ticks": ""
             }
            },
            "marker": {
             "colorbar": {
              "outlinewidth": 0,
              "ticks": ""
             }
            },
            "type": "scatter3d"
           }
          ],
          "scattercarpet": [
           {
            "marker": {
             "colorbar": {
              "outlinewidth": 0,
              "ticks": ""
             }
            },
            "type": "scattercarpet"
           }
          ],
          "scattergeo": [
           {
            "marker": {
             "colorbar": {
              "outlinewidth": 0,
              "ticks": ""
             }
            },
            "type": "scattergeo"
           }
          ],
          "scattergl": [
           {
            "marker": {
             "colorbar": {
              "outlinewidth": 0,
              "ticks": ""
             }
            },
            "type": "scattergl"
           }
          ],
          "scattermapbox": [
           {
            "marker": {
             "colorbar": {
              "outlinewidth": 0,
              "ticks": ""
             }
            },
            "type": "scattermapbox"
           }
          ],
          "scatterpolar": [
           {
            "marker": {
             "colorbar": {
              "outlinewidth": 0,
              "ticks": ""
             }
            },
            "type": "scatterpolar"
           }
          ],
          "scatterpolargl": [
           {
            "marker": {
             "colorbar": {
              "outlinewidth": 0,
              "ticks": ""
             }
            },
            "type": "scatterpolargl"
           }
          ],
          "scatterternary": [
           {
            "marker": {
             "colorbar": {
              "outlinewidth": 0,
              "ticks": ""
             }
            },
            "type": "scatterternary"
           }
          ],
          "surface": [
           {
            "colorbar": {
             "outlinewidth": 0,
             "ticks": ""
            },
            "colorscale": [
             [
              0,
              "#0d0887"
             ],
             [
              0.1111111111111111,
              "#46039f"
             ],
             [
              0.2222222222222222,
              "#7201a8"
             ],
             [
              0.3333333333333333,
              "#9c179e"
             ],
             [
              0.4444444444444444,
              "#bd3786"
             ],
             [
              0.5555555555555556,
              "#d8576b"
             ],
             [
              0.6666666666666666,
              "#ed7953"
             ],
             [
              0.7777777777777778,
              "#fb9f3a"
             ],
             [
              0.8888888888888888,
              "#fdca26"
             ],
             [
              1,
              "#f0f921"
             ]
            ],
            "type": "surface"
           }
          ],
          "table": [
           {
            "cells": {
             "fill": {
              "color": "#EBF0F8"
             },
             "line": {
              "color": "white"
             }
            },
            "header": {
             "fill": {
              "color": "#C8D4E3"
             },
             "line": {
              "color": "white"
             }
            },
            "type": "table"
           }
          ]
         },
         "layout": {
          "annotationdefaults": {
           "arrowcolor": "#2a3f5f",
           "arrowhead": 0,
           "arrowwidth": 1
          },
          "autotypenumbers": "strict",
          "coloraxis": {
           "colorbar": {
            "outlinewidth": 0,
            "ticks": ""
           }
          },
          "colorscale": {
           "diverging": [
            [
             0,
             "#8e0152"
            ],
            [
             0.1,
             "#c51b7d"
            ],
            [
             0.2,
             "#de77ae"
            ],
            [
             0.3,
             "#f1b6da"
            ],
            [
             0.4,
             "#fde0ef"
            ],
            [
             0.5,
             "#f7f7f7"
            ],
            [
             0.6,
             "#e6f5d0"
            ],
            [
             0.7,
             "#b8e186"
            ],
            [
             0.8,
             "#7fbc41"
            ],
            [
             0.9,
             "#4d9221"
            ],
            [
             1,
             "#276419"
            ]
           ],
           "sequential": [
            [
             0,
             "#0d0887"
            ],
            [
             0.1111111111111111,
             "#46039f"
            ],
            [
             0.2222222222222222,
             "#7201a8"
            ],
            [
             0.3333333333333333,
             "#9c179e"
            ],
            [
             0.4444444444444444,
             "#bd3786"
            ],
            [
             0.5555555555555556,
             "#d8576b"
            ],
            [
             0.6666666666666666,
             "#ed7953"
            ],
            [
             0.7777777777777778,
             "#fb9f3a"
            ],
            [
             0.8888888888888888,
             "#fdca26"
            ],
            [
             1,
             "#f0f921"
            ]
           ],
           "sequentialminus": [
            [
             0,
             "#0d0887"
            ],
            [
             0.1111111111111111,
             "#46039f"
            ],
            [
             0.2222222222222222,
             "#7201a8"
            ],
            [
             0.3333333333333333,
             "#9c179e"
            ],
            [
             0.4444444444444444,
             "#bd3786"
            ],
            [
             0.5555555555555556,
             "#d8576b"
            ],
            [
             0.6666666666666666,
             "#ed7953"
            ],
            [
             0.7777777777777778,
             "#fb9f3a"
            ],
            [
             0.8888888888888888,
             "#fdca26"
            ],
            [
             1,
             "#f0f921"
            ]
           ]
          },
          "colorway": [
           "#636efa",
           "#EF553B",
           "#00cc96",
           "#ab63fa",
           "#FFA15A",
           "#19d3f3",
           "#FF6692",
           "#B6E880",
           "#FF97FF",
           "#FECB52"
          ],
          "font": {
           "color": "#2a3f5f"
          },
          "geo": {
           "bgcolor": "white",
           "lakecolor": "white",
           "landcolor": "#E5ECF6",
           "showlakes": true,
           "showland": true,
           "subunitcolor": "white"
          },
          "hoverlabel": {
           "align": "left"
          },
          "hovermode": "closest",
          "mapbox": {
           "style": "light"
          },
          "paper_bgcolor": "white",
          "plot_bgcolor": "#E5ECF6",
          "polar": {
           "angularaxis": {
            "gridcolor": "white",
            "linecolor": "white",
            "ticks": ""
           },
           "bgcolor": "#E5ECF6",
           "radialaxis": {
            "gridcolor": "white",
            "linecolor": "white",
            "ticks": ""
           }
          },
          "scene": {
           "xaxis": {
            "backgroundcolor": "#E5ECF6",
            "gridcolor": "white",
            "gridwidth": 2,
            "linecolor": "white",
            "showbackground": true,
            "ticks": "",
            "zerolinecolor": "white"
           },
           "yaxis": {
            "backgroundcolor": "#E5ECF6",
            "gridcolor": "white",
            "gridwidth": 2,
            "linecolor": "white",
            "showbackground": true,
            "ticks": "",
            "zerolinecolor": "white"
           },
           "zaxis": {
            "backgroundcolor": "#E5ECF6",
            "gridcolor": "white",
            "gridwidth": 2,
            "linecolor": "white",
            "showbackground": true,
            "ticks": "",
            "zerolinecolor": "white"
           }
          },
          "shapedefaults": {
           "line": {
            "color": "#2a3f5f"
           }
          },
          "ternary": {
           "aaxis": {
            "gridcolor": "white",
            "linecolor": "white",
            "ticks": ""
           },
           "baxis": {
            "gridcolor": "white",
            "linecolor": "white",
            "ticks": ""
           },
           "bgcolor": "#E5ECF6",
           "caxis": {
            "gridcolor": "white",
            "linecolor": "white",
            "ticks": ""
           }
          },
          "title": {
           "x": 0.05
          },
          "xaxis": {
           "automargin": true,
           "gridcolor": "white",
           "linecolor": "white",
           "ticks": "",
           "title": {
            "standoff": 15
           },
           "zerolinecolor": "white",
           "zerolinewidth": 2
          },
          "yaxis": {
           "automargin": true,
           "gridcolor": "white",
           "linecolor": "white",
           "ticks": "",
           "title": {
            "standoff": 15
           },
           "zerolinecolor": "white",
           "zerolinewidth": 2
          }
         }
        },
        "xaxis": {
         "anchor": "y",
         "domain": [
          0,
          1
         ],
         "title": {
          "text": "Fire_Year"
         }
        },
        "yaxis": {
         "anchor": "x",
         "domain": [
          0,
          1
         ],
         "title": {
          "text": "% of Fire at High Severity"
         }
        }
       }
      }
     },
     "metadata": {},
     "output_type": "display_data"
    }
   ],
   "source": [
    "fig = px.scatter(single_region_fires[single_region_fires['US_L3NAME']=='Mojave Basin and Range'], x='Fire_Year', y='% of Fire at High Severity', size_max=60,\n",
    "                    size='Total_area_burned(ha)', color='US_L3NAME')\n",
    "\n",
    "fig.show()\n",
    "\n"
   ]
  },
  {
   "cell_type": "code",
   "execution_count": null,
   "metadata": {},
   "outputs": [
    {
     "data": {
      "application/vnd.plotly.v1+json": {
       "config": {
        "plotlyServerURL": "https://plot.ly"
       },
       "data": [
        {
         "hovertemplate": "variable=Total_area_burned(ha)<br>Fire_Year=%{x}<br>value=%{y}<extra></extra>",
         "legendgroup": "Total_area_burned(ha)",
         "line": {
          "color": "#636efa",
          "dash": "solid"
         },
         "marker": {
          "symbol": "circle"
         },
         "mode": "lines",
         "name": "Total_area_burned(ha)",
         "orientation": "v",
         "showlegend": true,
         "type": "scatter",
         "x": [
          1985,
          1987,
          1988,
          1990,
          1991,
          1992,
          1994,
          1995,
          1996,
          1999,
          2000,
          2001,
          2002,
          2003,
          2004,
          2005,
          2006,
          2007,
          2008,
          2009,
          2011,
          2012,
          2013,
          2014,
          2015,
          2016,
          2017,
          2018,
          2019,
          2020
         ],
         "xaxis": "x",
         "y": [
          2321.6400000000003,
          155550.78,
          3106.26,
          597.06,
          451.26,
          2670.84,
          14774.13,
          886.32,
          845.01,
          80714.79,
          1186.1100000000001,
          5235.3,
          1852.38,
          6077.07,
          7078.14,
          1310.31,
          71017.82999999999,
          9170.1,
          118183.95,
          4556.34,
          450.45,
          31028.940000000002,
          21293.1,
          86841.54,
          107011.8,
          15003.27,
          108643.40999999999,
          62711.009999999995,
          1295.46,
          108019.79999999999
         ],
         "yaxis": "y"
        }
       ],
       "layout": {
        "legend": {
         "title": {
          "text": "variable"
         },
         "tracegroupgap": 0
        },
        "margin": {
         "t": 60
        },
        "template": {
         "data": {
          "bar": [
           {
            "error_x": {
             "color": "#2a3f5f"
            },
            "error_y": {
             "color": "#2a3f5f"
            },
            "marker": {
             "line": {
              "color": "#E5ECF6",
              "width": 0.5
             },
             "pattern": {
              "fillmode": "overlay",
              "size": 10,
              "solidity": 0.2
             }
            },
            "type": "bar"
           }
          ],
          "barpolar": [
           {
            "marker": {
             "line": {
              "color": "#E5ECF6",
              "width": 0.5
             },
             "pattern": {
              "fillmode": "overlay",
              "size": 10,
              "solidity": 0.2
             }
            },
            "type": "barpolar"
           }
          ],
          "carpet": [
           {
            "aaxis": {
             "endlinecolor": "#2a3f5f",
             "gridcolor": "white",
             "linecolor": "white",
             "minorgridcolor": "white",
             "startlinecolor": "#2a3f5f"
            },
            "baxis": {
             "endlinecolor": "#2a3f5f",
             "gridcolor": "white",
             "linecolor": "white",
             "minorgridcolor": "white",
             "startlinecolor": "#2a3f5f"
            },
            "type": "carpet"
           }
          ],
          "choropleth": [
           {
            "colorbar": {
             "outlinewidth": 0,
             "ticks": ""
            },
            "type": "choropleth"
           }
          ],
          "contour": [
           {
            "colorbar": {
             "outlinewidth": 0,
             "ticks": ""
            },
            "colorscale": [
             [
              0,
              "#0d0887"
             ],
             [
              0.1111111111111111,
              "#46039f"
             ],
             [
              0.2222222222222222,
              "#7201a8"
             ],
             [
              0.3333333333333333,
              "#9c179e"
             ],
             [
              0.4444444444444444,
              "#bd3786"
             ],
             [
              0.5555555555555556,
              "#d8576b"
             ],
             [
              0.6666666666666666,
              "#ed7953"
             ],
             [
              0.7777777777777778,
              "#fb9f3a"
             ],
             [
              0.8888888888888888,
              "#fdca26"
             ],
             [
              1,
              "#f0f921"
             ]
            ],
            "type": "contour"
           }
          ],
          "contourcarpet": [
           {
            "colorbar": {
             "outlinewidth": 0,
             "ticks": ""
            },
            "type": "contourcarpet"
           }
          ],
          "heatmap": [
           {
            "colorbar": {
             "outlinewidth": 0,
             "ticks": ""
            },
            "colorscale": [
             [
              0,
              "#0d0887"
             ],
             [
              0.1111111111111111,
              "#46039f"
             ],
             [
              0.2222222222222222,
              "#7201a8"
             ],
             [
              0.3333333333333333,
              "#9c179e"
             ],
             [
              0.4444444444444444,
              "#bd3786"
             ],
             [
              0.5555555555555556,
              "#d8576b"
             ],
             [
              0.6666666666666666,
              "#ed7953"
             ],
             [
              0.7777777777777778,
              "#fb9f3a"
             ],
             [
              0.8888888888888888,
              "#fdca26"
             ],
             [
              1,
              "#f0f921"
             ]
            ],
            "type": "heatmap"
           }
          ],
          "heatmapgl": [
           {
            "colorbar": {
             "outlinewidth": 0,
             "ticks": ""
            },
            "colorscale": [
             [
              0,
              "#0d0887"
             ],
             [
              0.1111111111111111,
              "#46039f"
             ],
             [
              0.2222222222222222,
              "#7201a8"
             ],
             [
              0.3333333333333333,
              "#9c179e"
             ],
             [
              0.4444444444444444,
              "#bd3786"
             ],
             [
              0.5555555555555556,
              "#d8576b"
             ],
             [
              0.6666666666666666,
              "#ed7953"
             ],
             [
              0.7777777777777778,
              "#fb9f3a"
             ],
             [
              0.8888888888888888,
              "#fdca26"
             ],
             [
              1,
              "#f0f921"
             ]
            ],
            "type": "heatmapgl"
           }
          ],
          "histogram": [
           {
            "marker": {
             "pattern": {
              "fillmode": "overlay",
              "size": 10,
              "solidity": 0.2
             }
            },
            "type": "histogram"
           }
          ],
          "histogram2d": [
           {
            "colorbar": {
             "outlinewidth": 0,
             "ticks": ""
            },
            "colorscale": [
             [
              0,
              "#0d0887"
             ],
             [
              0.1111111111111111,
              "#46039f"
             ],
             [
              0.2222222222222222,
              "#7201a8"
             ],
             [
              0.3333333333333333,
              "#9c179e"
             ],
             [
              0.4444444444444444,
              "#bd3786"
             ],
             [
              0.5555555555555556,
              "#d8576b"
             ],
             [
              0.6666666666666666,
              "#ed7953"
             ],
             [
              0.7777777777777778,
              "#fb9f3a"
             ],
             [
              0.8888888888888888,
              "#fdca26"
             ],
             [
              1,
              "#f0f921"
             ]
            ],
            "type": "histogram2d"
           }
          ],
          "histogram2dcontour": [
           {
            "colorbar": {
             "outlinewidth": 0,
             "ticks": ""
            },
            "colorscale": [
             [
              0,
              "#0d0887"
             ],
             [
              0.1111111111111111,
              "#46039f"
             ],
             [
              0.2222222222222222,
              "#7201a8"
             ],
             [
              0.3333333333333333,
              "#9c179e"
             ],
             [
              0.4444444444444444,
              "#bd3786"
             ],
             [
              0.5555555555555556,
              "#d8576b"
             ],
             [
              0.6666666666666666,
              "#ed7953"
             ],
             [
              0.7777777777777778,
              "#fb9f3a"
             ],
             [
              0.8888888888888888,
              "#fdca26"
             ],
             [
              1,
              "#f0f921"
             ]
            ],
            "type": "histogram2dcontour"
           }
          ],
          "mesh3d": [
           {
            "colorbar": {
             "outlinewidth": 0,
             "ticks": ""
            },
            "type": "mesh3d"
           }
          ],
          "parcoords": [
           {
            "line": {
             "colorbar": {
              "outlinewidth": 0,
              "ticks": ""
             }
            },
            "type": "parcoords"
           }
          ],
          "pie": [
           {
            "automargin": true,
            "type": "pie"
           }
          ],
          "scatter": [
           {
            "fillpattern": {
             "fillmode": "overlay",
             "size": 10,
             "solidity": 0.2
            },
            "type": "scatter"
           }
          ],
          "scatter3d": [
           {
            "line": {
             "colorbar": {
              "outlinewidth": 0,
              "ticks": ""
             }
            },
            "marker": {
             "colorbar": {
              "outlinewidth": 0,
              "ticks": ""
             }
            },
            "type": "scatter3d"
           }
          ],
          "scattercarpet": [
           {
            "marker": {
             "colorbar": {
              "outlinewidth": 0,
              "ticks": ""
             }
            },
            "type": "scattercarpet"
           }
          ],
          "scattergeo": [
           {
            "marker": {
             "colorbar": {
              "outlinewidth": 0,
              "ticks": ""
             }
            },
            "type": "scattergeo"
           }
          ],
          "scattergl": [
           {
            "marker": {
             "colorbar": {
              "outlinewidth": 0,
              "ticks": ""
             }
            },
            "type": "scattergl"
           }
          ],
          "scattermapbox": [
           {
            "marker": {
             "colorbar": {
              "outlinewidth": 0,
              "ticks": ""
             }
            },
            "type": "scattermapbox"
           }
          ],
          "scatterpolar": [
           {
            "marker": {
             "colorbar": {
              "outlinewidth": 0,
              "ticks": ""
             }
            },
            "type": "scatterpolar"
           }
          ],
          "scatterpolargl": [
           {
            "marker": {
             "colorbar": {
              "outlinewidth": 0,
              "ticks": ""
             }
            },
            "type": "scatterpolargl"
           }
          ],
          "scatterternary": [
           {
            "marker": {
             "colorbar": {
              "outlinewidth": 0,
              "ticks": ""
             }
            },
            "type": "scatterternary"
           }
          ],
          "surface": [
           {
            "colorbar": {
             "outlinewidth": 0,
             "ticks": ""
            },
            "colorscale": [
             [
              0,
              "#0d0887"
             ],
             [
              0.1111111111111111,
              "#46039f"
             ],
             [
              0.2222222222222222,
              "#7201a8"
             ],
             [
              0.3333333333333333,
              "#9c179e"
             ],
             [
              0.4444444444444444,
              "#bd3786"
             ],
             [
              0.5555555555555556,
              "#d8576b"
             ],
             [
              0.6666666666666666,
              "#ed7953"
             ],
             [
              0.7777777777777778,
              "#fb9f3a"
             ],
             [
              0.8888888888888888,
              "#fdca26"
             ],
             [
              1,
              "#f0f921"
             ]
            ],
            "type": "surface"
           }
          ],
          "table": [
           {
            "cells": {
             "fill": {
              "color": "#EBF0F8"
             },
             "line": {
              "color": "white"
             }
            },
            "header": {
             "fill": {
              "color": "#C8D4E3"
             },
             "line": {
              "color": "white"
             }
            },
            "type": "table"
           }
          ]
         },
         "layout": {
          "annotationdefaults": {
           "arrowcolor": "#2a3f5f",
           "arrowhead": 0,
           "arrowwidth": 1
          },
          "autotypenumbers": "strict",
          "coloraxis": {
           "colorbar": {
            "outlinewidth": 0,
            "ticks": ""
           }
          },
          "colorscale": {
           "diverging": [
            [
             0,
             "#8e0152"
            ],
            [
             0.1,
             "#c51b7d"
            ],
            [
             0.2,
             "#de77ae"
            ],
            [
             0.3,
             "#f1b6da"
            ],
            [
             0.4,
             "#fde0ef"
            ],
            [
             0.5,
             "#f7f7f7"
            ],
            [
             0.6,
             "#e6f5d0"
            ],
            [
             0.7,
             "#b8e186"
            ],
            [
             0.8,
             "#7fbc41"
            ],
            [
             0.9,
             "#4d9221"
            ],
            [
             1,
             "#276419"
            ]
           ],
           "sequential": [
            [
             0,
             "#0d0887"
            ],
            [
             0.1111111111111111,
             "#46039f"
            ],
            [
             0.2222222222222222,
             "#7201a8"
            ],
            [
             0.3333333333333333,
             "#9c179e"
            ],
            [
             0.4444444444444444,
             "#bd3786"
            ],
            [
             0.5555555555555556,
             "#d8576b"
            ],
            [
             0.6666666666666666,
             "#ed7953"
            ],
            [
             0.7777777777777778,
             "#fb9f3a"
            ],
            [
             0.8888888888888888,
             "#fdca26"
            ],
            [
             1,
             "#f0f921"
            ]
           ],
           "sequentialminus": [
            [
             0,
             "#0d0887"
            ],
            [
             0.1111111111111111,
             "#46039f"
            ],
            [
             0.2222222222222222,
             "#7201a8"
            ],
            [
             0.3333333333333333,
             "#9c179e"
            ],
            [
             0.4444444444444444,
             "#bd3786"
            ],
            [
             0.5555555555555556,
             "#d8576b"
            ],
            [
             0.6666666666666666,
             "#ed7953"
            ],
            [
             0.7777777777777778,
             "#fb9f3a"
            ],
            [
             0.8888888888888888,
             "#fdca26"
            ],
            [
             1,
             "#f0f921"
            ]
           ]
          },
          "colorway": [
           "#636efa",
           "#EF553B",
           "#00cc96",
           "#ab63fa",
           "#FFA15A",
           "#19d3f3",
           "#FF6692",
           "#B6E880",
           "#FF97FF",
           "#FECB52"
          ],
          "font": {
           "color": "#2a3f5f"
          },
          "geo": {
           "bgcolor": "white",
           "lakecolor": "white",
           "landcolor": "#E5ECF6",
           "showlakes": true,
           "showland": true,
           "subunitcolor": "white"
          },
          "hoverlabel": {
           "align": "left"
          },
          "hovermode": "closest",
          "mapbox": {
           "style": "light"
          },
          "paper_bgcolor": "white",
          "plot_bgcolor": "#E5ECF6",
          "polar": {
           "angularaxis": {
            "gridcolor": "white",
            "linecolor": "white",
            "ticks": ""
           },
           "bgcolor": "#E5ECF6",
           "radialaxis": {
            "gridcolor": "white",
            "linecolor": "white",
            "ticks": ""
           }
          },
          "scene": {
           "xaxis": {
            "backgroundcolor": "#E5ECF6",
            "gridcolor": "white",
            "gridwidth": 2,
            "linecolor": "white",
            "showbackground": true,
            "ticks": "",
            "zerolinecolor": "white"
           },
           "yaxis": {
            "backgroundcolor": "#E5ECF6",
            "gridcolor": "white",
            "gridwidth": 2,
            "linecolor": "white",
            "showbackground": true,
            "ticks": "",
            "zerolinecolor": "white"
           },
           "zaxis": {
            "backgroundcolor": "#E5ECF6",
            "gridcolor": "white",
            "gridwidth": 2,
            "linecolor": "white",
            "showbackground": true,
            "ticks": "",
            "zerolinecolor": "white"
           }
          },
          "shapedefaults": {
           "line": {
            "color": "#2a3f5f"
           }
          },
          "ternary": {
           "aaxis": {
            "gridcolor": "white",
            "linecolor": "white",
            "ticks": ""
           },
           "baxis": {
            "gridcolor": "white",
            "linecolor": "white",
            "ticks": ""
           },
           "bgcolor": "#E5ECF6",
           "caxis": {
            "gridcolor": "white",
            "linecolor": "white",
            "ticks": ""
           }
          },
          "title": {
           "x": 0.05
          },
          "xaxis": {
           "automargin": true,
           "gridcolor": "white",
           "linecolor": "white",
           "ticks": "",
           "title": {
            "standoff": 15
           },
           "zerolinecolor": "white",
           "zerolinewidth": 2
          },
          "yaxis": {
           "automargin": true,
           "gridcolor": "white",
           "linecolor": "white",
           "ticks": "",
           "title": {
            "standoff": 15
           },
           "zerolinecolor": "white",
           "zerolinewidth": 2
          }
         }
        },
        "xaxis": {
         "anchor": "y",
         "domain": [
          0,
          1
         ],
         "title": {
          "text": "Fire_Year"
         }
        },
        "yaxis": {
         "anchor": "x",
         "domain": [
          0,
          1
         ],
         "title": {
          "text": "value"
         }
        }
       }
      }
     },
     "metadata": {},
     "output_type": "display_data"
    }
   ],
   "source": [
    "px.line(single_region_fires[single_region_fires['US_L3NAME']=='Klamath Mountains/California High North Coast Range'].groupby('Fire_Year').sum()[['Total_area_burned(ha)']])"
   ]
  },
  {
   "cell_type": "code",
   "execution_count": null,
   "metadata": {},
   "outputs": [
    {
     "data": {
      "application/vnd.plotly.v1+json": {
       "config": {
        "plotlyServerURL": "https://plot.ly"
       },
       "data": [
        {
         "hovertemplate": "US_L3NAME=Cascades<br>Fire_Year=%{x}<br>Event_ID=%{y}<extra></extra>",
         "legendgroup": "Cascades",
         "line": {
          "color": "#636efa",
          "dash": "solid"
         },
         "marker": {
          "symbol": "circle"
         },
         "mode": "lines",
         "name": "Cascades",
         "orientation": "v",
         "showlegend": true,
         "type": "scatter",
         "x": [
          1984,
          1987,
          1988,
          1990,
          2000,
          2002,
          2003,
          2008,
          2009,
          2012,
          2014
         ],
         "xaxis": "x",
         "y": [
          1,
          1,
          1,
          1,
          1,
          1,
          1,
          3,
          5,
          1,
          2
         ],
         "yaxis": "y"
        },
        {
         "hovertemplate": "US_L3NAME=Central Basin and Range<br>Fire_Year=%{x}<br>Event_ID=%{y}<extra></extra>",
         "legendgroup": "Central Basin and Range",
         "line": {
          "color": "#EF553B",
          "dash": "solid"
         },
         "marker": {
          "symbol": "circle"
         },
         "mode": "lines",
         "name": "Central Basin and Range",
         "orientation": "v",
         "showlegend": true,
         "type": "scatter",
         "x": [
          1984,
          1985,
          1994,
          1996,
          2000,
          2001,
          2003,
          2004,
          2006,
          2007,
          2008,
          2009,
          2010,
          2012,
          2013,
          2018,
          2019,
          2020
         ],
         "xaxis": "x",
         "y": [
          2,
          1,
          1,
          2,
          1,
          1,
          1,
          1,
          2,
          1,
          1,
          2,
          1,
          2,
          2,
          1,
          1,
          3
         ],
         "yaxis": "y"
        },
        {
         "hovertemplate": "US_L3NAME=Central California Foothills and Coastal Mountains<br>Fire_Year=%{x}<br>Event_ID=%{y}<extra></extra>",
         "legendgroup": "Central California Foothills and Coastal Mountains",
         "line": {
          "color": "#00cc96",
          "dash": "solid"
         },
         "marker": {
          "symbol": "circle"
         },
         "mode": "lines",
         "name": "Central California Foothills and Coastal Mountains",
         "orientation": "v",
         "showlegend": true,
         "type": "scatter",
         "x": [
          1984,
          1985,
          1986,
          1987,
          1988,
          1989,
          1990,
          1991,
          1992,
          1993,
          1994,
          1995,
          1996,
          1997,
          1998,
          1999,
          2000,
          2001,
          2002,
          2003,
          2004,
          2005,
          2006,
          2007,
          2008,
          2009,
          2010,
          2012,
          2013,
          2014,
          2015,
          2016,
          2017,
          2018,
          2019,
          2020
         ],
         "xaxis": "x",
         "y": [
          12,
          22,
          10,
          8,
          9,
          6,
          4,
          2,
          12,
          4,
          10,
          8,
          14,
          8,
          9,
          13,
          11,
          3,
          8,
          11,
          7,
          6,
          7,
          5,
          10,
          4,
          4,
          8,
          5,
          3,
          8,
          15,
          18,
          7,
          5,
          15
         ],
         "yaxis": "y"
        },
        {
         "hovertemplate": "US_L3NAME=Eastern Cascades Slopes and Foothills<br>Fire_Year=%{x}<br>Event_ID=%{y}<extra></extra>",
         "legendgroup": "Eastern Cascades Slopes and Foothills",
         "line": {
          "color": "#ab63fa",
          "dash": "solid"
         },
         "marker": {
          "symbol": "circle"
         },
         "mode": "lines",
         "name": "Eastern Cascades Slopes and Foothills",
         "orientation": "v",
         "showlegend": true,
         "type": "scatter",
         "x": [
          1984,
          1987,
          1988,
          1990,
          1994,
          1996,
          1998,
          1999,
          2001,
          2002,
          2003,
          2004,
          2006,
          2007,
          2008,
          2009,
          2011,
          2012,
          2014,
          2016,
          2017,
          2018,
          2019,
          2020
         ],
         "xaxis": "x",
         "y": [
          1,
          3,
          2,
          2,
          3,
          3,
          1,
          3,
          4,
          1,
          1,
          1,
          3,
          1,
          1,
          1,
          1,
          4,
          1,
          1,
          3,
          1,
          4,
          3
         ],
         "yaxis": "y"
        },
        {
         "hovertemplate": "US_L3NAME=Mojave Basin and Range<br>Fire_Year=%{x}<br>Event_ID=%{y}<extra></extra>",
         "legendgroup": "Mojave Basin and Range",
         "line": {
          "color": "#FFA15A",
          "dash": "solid"
         },
         "marker": {
          "symbol": "circle"
         },
         "mode": "lines",
         "name": "Mojave Basin and Range",
         "orientation": "v",
         "showlegend": true,
         "type": "scatter",
         "x": [
          1984,
          1986,
          1993,
          1994,
          1995,
          1996,
          1998,
          1999,
          2000,
          2003,
          2004,
          2005,
          2006,
          2007,
          2011,
          2015,
          2020
         ],
         "xaxis": "x",
         "y": [
          2,
          2,
          2,
          2,
          1,
          2,
          1,
          2,
          1,
          1,
          1,
          6,
          5,
          1,
          2,
          1,
          3
         ],
         "yaxis": "y"
        },
        {
         "hovertemplate": "US_L3NAME=Southern California Mountains<br>Fire_Year=%{x}<br>Event_ID=%{y}<extra></extra>",
         "legendgroup": "Southern California Mountains",
         "line": {
          "color": "#19d3f3",
          "dash": "solid"
         },
         "marker": {
          "symbol": "circle"
         },
         "mode": "lines",
         "name": "Southern California Mountains",
         "orientation": "v",
         "showlegend": true,
         "type": "scatter",
         "x": [
          1984,
          1985,
          1986,
          1987,
          1988,
          1989,
          1990,
          1991,
          1992,
          1993,
          1994,
          1995,
          1996,
          1997,
          1998,
          1999,
          2001,
          2002,
          2003,
          2004,
          2005,
          2006,
          2007,
          2009,
          2012,
          2013,
          2015,
          2016,
          2017,
          2018,
          2020
         ],
         "xaxis": "x",
         "y": [
          2,
          1,
          1,
          4,
          2,
          2,
          1,
          2,
          1,
          2,
          5,
          1,
          4,
          2,
          1,
          4,
          1,
          7,
          3,
          3,
          2,
          2,
          6,
          1,
          2,
          2,
          2,
          2,
          1,
          3,
          1
         ],
         "yaxis": "y"
        },
        {
         "hovertemplate": "US_L3NAME=Southern California/Northern Baja Coast<br>Fire_Year=%{x}<br>Event_ID=%{y}<extra></extra>",
         "legendgroup": "Southern California/Northern Baja Coast",
         "line": {
          "color": "#FF6692",
          "dash": "solid"
         },
         "marker": {
          "symbol": "circle"
         },
         "mode": "lines",
         "name": "Southern California/Northern Baja Coast",
         "orientation": "v",
         "showlegend": true,
         "type": "scatter",
         "x": [
          1984,
          1985,
          1986,
          1987,
          1988,
          1989,
          1990,
          1991,
          1992,
          1993,
          1994,
          1995,
          1996,
          1997,
          1998,
          1999,
          2000,
          2001,
          2002,
          2003,
          2004,
          2005,
          2006,
          2007,
          2008,
          2009,
          2010,
          2011,
          2012,
          2013,
          2014,
          2015,
          2016,
          2017,
          2018,
          2019,
          2020
         ],
         "xaxis": "x",
         "y": [
          4,
          12,
          5,
          5,
          8,
          8,
          3,
          1,
          3,
          11,
          3,
          9,
          9,
          7,
          8,
          5,
          2,
          3,
          5,
          8,
          3,
          8,
          3,
          9,
          5,
          1,
          3,
          1,
          3,
          3,
          5,
          5,
          3,
          8,
          5,
          4,
          7
         ],
         "yaxis": "y"
        },
        {
         "hovertemplate": "US_L3NAME=Klamath Mountains/California High North Coast Range<br>Fire_Year=%{x}<br>Event_ID=%{y}<extra></extra>",
         "legendgroup": "Klamath Mountains/California High North Coast Range",
         "line": {
          "color": "#B6E880",
          "dash": "solid"
         },
         "marker": {
          "symbol": "circle"
         },
         "mode": "lines",
         "name": "Klamath Mountains/California High North Coast Range",
         "orientation": "v",
         "showlegend": true,
         "type": "scatter",
         "x": [
          1985,
          1987,
          1988,
          1990,
          1991,
          1992,
          1994,
          1995,
          1996,
          1999,
          2000,
          2001,
          2002,
          2003,
          2004,
          2005,
          2006,
          2007,
          2008,
          2009,
          2011,
          2012,
          2013,
          2014,
          2015,
          2016,
          2017,
          2018,
          2019,
          2020
         ],
         "xaxis": "x",
         "y": [
          2,
          35,
          1,
          1,
          1,
          2,
          4,
          1,
          1,
          12,
          2,
          4,
          2,
          3,
          2,
          1,
          8,
          5,
          26,
          5,
          1,
          6,
          3,
          6,
          16,
          2,
          12,
          5,
          2,
          5
         ],
         "yaxis": "y"
        },
        {
         "hovertemplate": "US_L3NAME=Sierra Nevada<br>Fire_Year=%{x}<br>Event_ID=%{y}<extra></extra>",
         "legendgroup": "Sierra Nevada",
         "line": {
          "color": "#FF97FF",
          "dash": "solid"
         },
         "marker": {
          "symbol": "circle"
         },
         "mode": "lines",
         "name": "Sierra Nevada",
         "orientation": "v",
         "showlegend": true,
         "type": "scatter",
         "x": [
          1985,
          1986,
          1987,
          1988,
          1989,
          1990,
          1991,
          1992,
          1994,
          1995,
          1996,
          1997,
          1998,
          1999,
          2000,
          2001,
          2002,
          2003,
          2004,
          2005,
          2006,
          2007,
          2008,
          2009,
          2010,
          2011,
          2012,
          2013,
          2014,
          2015,
          2016,
          2017,
          2018,
          2019,
          2020
         ],
         "xaxis": "x",
         "y": [
          4,
          2,
          8,
          8,
          3,
          6,
          2,
          3,
          6,
          1,
          4,
          4,
          1,
          9,
          2,
          7,
          2,
          7,
          5,
          1,
          5,
          5,
          13,
          9,
          8,
          4,
          7,
          5,
          5,
          2,
          7,
          9,
          6,
          4,
          6
         ],
         "yaxis": "y"
        },
        {
         "hovertemplate": "US_L3NAME=Sonoran Basin and Range<br>Fire_Year=%{x}<br>Event_ID=%{y}<extra></extra>",
         "legendgroup": "Sonoran Basin and Range",
         "line": {
          "color": "#FECB52",
          "dash": "solid"
         },
         "marker": {
          "symbol": "circle"
         },
         "mode": "lines",
         "name": "Sonoran Basin and Range",
         "orientation": "v",
         "showlegend": true,
         "type": "scatter",
         "x": [
          1986,
          1987,
          1989,
          1993,
          1995,
          2003,
          2006,
          2007,
          2011,
          2013
         ],
         "xaxis": "x",
         "y": [
          1,
          1,
          2,
          1,
          1,
          1,
          1,
          1,
          1,
          1
         ],
         "yaxis": "y"
        },
        {
         "hovertemplate": "US_L3NAME=Coast Range<br>Fire_Year=%{x}<br>Event_ID=%{y}<extra></extra>",
         "legendgroup": "Coast Range",
         "line": {
          "color": "#636efa",
          "dash": "solid"
         },
         "marker": {
          "symbol": "circle"
         },
         "mode": "lines",
         "name": "Coast Range",
         "orientation": "v",
         "showlegend": true,
         "type": "scatter",
         "x": [
          1988,
          1990,
          1998,
          2003,
          2006,
          2008,
          2009
         ],
         "xaxis": "x",
         "y": [
          1,
          3,
          1,
          2,
          1,
          9,
          1
         ],
         "yaxis": "y"
        },
        {
         "hovertemplate": "US_L3NAME=Central California Valley<br>Fire_Year=%{x}<br>Event_ID=%{y}<extra></extra>",
         "legendgroup": "Central California Valley",
         "line": {
          "color": "#EF553B",
          "dash": "solid"
         },
         "marker": {
          "symbol": "circle"
         },
         "mode": "lines",
         "name": "Central California Valley",
         "orientation": "v",
         "showlegend": true,
         "type": "scatter",
         "x": [
          1992,
          1993,
          1994,
          1995,
          1996,
          1997,
          1998,
          2001,
          2004,
          2005,
          2006,
          2007,
          2008,
          2010,
          2017,
          2018,
          2019
         ],
         "xaxis": "x",
         "y": [
          2,
          2,
          1,
          4,
          3,
          2,
          2,
          1,
          1,
          1,
          1,
          2,
          2,
          2,
          2,
          1,
          1
         ],
         "yaxis": "y"
        },
        {
         "hovertemplate": "US_L3NAME=Northern Basin and Range<br>Fire_Year=%{x}<br>Event_ID=%{y}<extra></extra>",
         "legendgroup": "Northern Basin and Range",
         "line": {
          "color": "#00cc96",
          "dash": "solid"
         },
         "marker": {
          "symbol": "circle"
         },
         "mode": "lines",
         "name": "Northern Basin and Range",
         "orientation": "v",
         "showlegend": true,
         "type": "scatter",
         "x": [
          1999,
          2002,
          2003,
          2015,
          2017
         ],
         "xaxis": "x",
         "y": [
          1,
          1,
          2,
          1,
          1
         ],
         "yaxis": "y"
        }
       ],
       "layout": {
        "height": 800,
        "legend": {
         "title": {
          "text": "US_L3NAME"
         },
         "tracegroupgap": 0
        },
        "margin": {
         "t": 60
        },
        "template": {
         "data": {
          "bar": [
           {
            "error_x": {
             "color": "#2a3f5f"
            },
            "error_y": {
             "color": "#2a3f5f"
            },
            "marker": {
             "line": {
              "color": "#E5ECF6",
              "width": 0.5
             },
             "pattern": {
              "fillmode": "overlay",
              "size": 10,
              "solidity": 0.2
             }
            },
            "type": "bar"
           }
          ],
          "barpolar": [
           {
            "marker": {
             "line": {
              "color": "#E5ECF6",
              "width": 0.5
             },
             "pattern": {
              "fillmode": "overlay",
              "size": 10,
              "solidity": 0.2
             }
            },
            "type": "barpolar"
           }
          ],
          "carpet": [
           {
            "aaxis": {
             "endlinecolor": "#2a3f5f",
             "gridcolor": "white",
             "linecolor": "white",
             "minorgridcolor": "white",
             "startlinecolor": "#2a3f5f"
            },
            "baxis": {
             "endlinecolor": "#2a3f5f",
             "gridcolor": "white",
             "linecolor": "white",
             "minorgridcolor": "white",
             "startlinecolor": "#2a3f5f"
            },
            "type": "carpet"
           }
          ],
          "choropleth": [
           {
            "colorbar": {
             "outlinewidth": 0,
             "ticks": ""
            },
            "type": "choropleth"
           }
          ],
          "contour": [
           {
            "colorbar": {
             "outlinewidth": 0,
             "ticks": ""
            },
            "colorscale": [
             [
              0,
              "#0d0887"
             ],
             [
              0.1111111111111111,
              "#46039f"
             ],
             [
              0.2222222222222222,
              "#7201a8"
             ],
             [
              0.3333333333333333,
              "#9c179e"
             ],
             [
              0.4444444444444444,
              "#bd3786"
             ],
             [
              0.5555555555555556,
              "#d8576b"
             ],
             [
              0.6666666666666666,
              "#ed7953"
             ],
             [
              0.7777777777777778,
              "#fb9f3a"
             ],
             [
              0.8888888888888888,
              "#fdca26"
             ],
             [
              1,
              "#f0f921"
             ]
            ],
            "type": "contour"
           }
          ],
          "contourcarpet": [
           {
            "colorbar": {
             "outlinewidth": 0,
             "ticks": ""
            },
            "type": "contourcarpet"
           }
          ],
          "heatmap": [
           {
            "colorbar": {
             "outlinewidth": 0,
             "ticks": ""
            },
            "colorscale": [
             [
              0,
              "#0d0887"
             ],
             [
              0.1111111111111111,
              "#46039f"
             ],
             [
              0.2222222222222222,
              "#7201a8"
             ],
             [
              0.3333333333333333,
              "#9c179e"
             ],
             [
              0.4444444444444444,
              "#bd3786"
             ],
             [
              0.5555555555555556,
              "#d8576b"
             ],
             [
              0.6666666666666666,
              "#ed7953"
             ],
             [
              0.7777777777777778,
              "#fb9f3a"
             ],
             [
              0.8888888888888888,
              "#fdca26"
             ],
             [
              1,
              "#f0f921"
             ]
            ],
            "type": "heatmap"
           }
          ],
          "heatmapgl": [
           {
            "colorbar": {
             "outlinewidth": 0,
             "ticks": ""
            },
            "colorscale": [
             [
              0,
              "#0d0887"
             ],
             [
              0.1111111111111111,
              "#46039f"
             ],
             [
              0.2222222222222222,
              "#7201a8"
             ],
             [
              0.3333333333333333,
              "#9c179e"
             ],
             [
              0.4444444444444444,
              "#bd3786"
             ],
             [
              0.5555555555555556,
              "#d8576b"
             ],
             [
              0.6666666666666666,
              "#ed7953"
             ],
             [
              0.7777777777777778,
              "#fb9f3a"
             ],
             [
              0.8888888888888888,
              "#fdca26"
             ],
             [
              1,
              "#f0f921"
             ]
            ],
            "type": "heatmapgl"
           }
          ],
          "histogram": [
           {
            "marker": {
             "pattern": {
              "fillmode": "overlay",
              "size": 10,
              "solidity": 0.2
             }
            },
            "type": "histogram"
           }
          ],
          "histogram2d": [
           {
            "colorbar": {
             "outlinewidth": 0,
             "ticks": ""
            },
            "colorscale": [
             [
              0,
              "#0d0887"
             ],
             [
              0.1111111111111111,
              "#46039f"
             ],
             [
              0.2222222222222222,
              "#7201a8"
             ],
             [
              0.3333333333333333,
              "#9c179e"
             ],
             [
              0.4444444444444444,
              "#bd3786"
             ],
             [
              0.5555555555555556,
              "#d8576b"
             ],
             [
              0.6666666666666666,
              "#ed7953"
             ],
             [
              0.7777777777777778,
              "#fb9f3a"
             ],
             [
              0.8888888888888888,
              "#fdca26"
             ],
             [
              1,
              "#f0f921"
             ]
            ],
            "type": "histogram2d"
           }
          ],
          "histogram2dcontour": [
           {
            "colorbar": {
             "outlinewidth": 0,
             "ticks": ""
            },
            "colorscale": [
             [
              0,
              "#0d0887"
             ],
             [
              0.1111111111111111,
              "#46039f"
             ],
             [
              0.2222222222222222,
              "#7201a8"
             ],
             [
              0.3333333333333333,
              "#9c179e"
             ],
             [
              0.4444444444444444,
              "#bd3786"
             ],
             [
              0.5555555555555556,
              "#d8576b"
             ],
             [
              0.6666666666666666,
              "#ed7953"
             ],
             [
              0.7777777777777778,
              "#fb9f3a"
             ],
             [
              0.8888888888888888,
              "#fdca26"
             ],
             [
              1,
              "#f0f921"
             ]
            ],
            "type": "histogram2dcontour"
           }
          ],
          "mesh3d": [
           {
            "colorbar": {
             "outlinewidth": 0,
             "ticks": ""
            },
            "type": "mesh3d"
           }
          ],
          "parcoords": [
           {
            "line": {
             "colorbar": {
              "outlinewidth": 0,
              "ticks": ""
             }
            },
            "type": "parcoords"
           }
          ],
          "pie": [
           {
            "automargin": true,
            "type": "pie"
           }
          ],
          "scatter": [
           {
            "fillpattern": {
             "fillmode": "overlay",
             "size": 10,
             "solidity": 0.2
            },
            "type": "scatter"
           }
          ],
          "scatter3d": [
           {
            "line": {
             "colorbar": {
              "outlinewidth": 0,
              "ticks": ""
             }
            },
            "marker": {
             "colorbar": {
              "outlinewidth": 0,
              "ticks": ""
             }
            },
            "type": "scatter3d"
           }
          ],
          "scattercarpet": [
           {
            "marker": {
             "colorbar": {
              "outlinewidth": 0,
              "ticks": ""
             }
            },
            "type": "scattercarpet"
           }
          ],
          "scattergeo": [
           {
            "marker": {
             "colorbar": {
              "outlinewidth": 0,
              "ticks": ""
             }
            },
            "type": "scattergeo"
           }
          ],
          "scattergl": [
           {
            "marker": {
             "colorbar": {
              "outlinewidth": 0,
              "ticks": ""
             }
            },
            "type": "scattergl"
           }
          ],
          "scattermapbox": [
           {
            "marker": {
             "colorbar": {
              "outlinewidth": 0,
              "ticks": ""
             }
            },
            "type": "scattermapbox"
           }
          ],
          "scatterpolar": [
           {
            "marker": {
             "colorbar": {
              "outlinewidth": 0,
              "ticks": ""
             }
            },
            "type": "scatterpolar"
           }
          ],
          "scatterpolargl": [
           {
            "marker": {
             "colorbar": {
              "outlinewidth": 0,
              "ticks": ""
             }
            },
            "type": "scatterpolargl"
           }
          ],
          "scatterternary": [
           {
            "marker": {
             "colorbar": {
              "outlinewidth": 0,
              "ticks": ""
             }
            },
            "type": "scatterternary"
           }
          ],
          "surface": [
           {
            "colorbar": {
             "outlinewidth": 0,
             "ticks": ""
            },
            "colorscale": [
             [
              0,
              "#0d0887"
             ],
             [
              0.1111111111111111,
              "#46039f"
             ],
             [
              0.2222222222222222,
              "#7201a8"
             ],
             [
              0.3333333333333333,
              "#9c179e"
             ],
             [
              0.4444444444444444,
              "#bd3786"
             ],
             [
              0.5555555555555556,
              "#d8576b"
             ],
             [
              0.6666666666666666,
              "#ed7953"
             ],
             [
              0.7777777777777778,
              "#fb9f3a"
             ],
             [
              0.8888888888888888,
              "#fdca26"
             ],
             [
              1,
              "#f0f921"
             ]
            ],
            "type": "surface"
           }
          ],
          "table": [
           {
            "cells": {
             "fill": {
              "color": "#EBF0F8"
             },
             "line": {
              "color": "white"
             }
            },
            "header": {
             "fill": {
              "color": "#C8D4E3"
             },
             "line": {
              "color": "white"
             }
            },
            "type": "table"
           }
          ]
         },
         "layout": {
          "annotationdefaults": {
           "arrowcolor": "#2a3f5f",
           "arrowhead": 0,
           "arrowwidth": 1
          },
          "autotypenumbers": "strict",
          "coloraxis": {
           "colorbar": {
            "outlinewidth": 0,
            "ticks": ""
           }
          },
          "colorscale": {
           "diverging": [
            [
             0,
             "#8e0152"
            ],
            [
             0.1,
             "#c51b7d"
            ],
            [
             0.2,
             "#de77ae"
            ],
            [
             0.3,
             "#f1b6da"
            ],
            [
             0.4,
             "#fde0ef"
            ],
            [
             0.5,
             "#f7f7f7"
            ],
            [
             0.6,
             "#e6f5d0"
            ],
            [
             0.7,
             "#b8e186"
            ],
            [
             0.8,
             "#7fbc41"
            ],
            [
             0.9,
             "#4d9221"
            ],
            [
             1,
             "#276419"
            ]
           ],
           "sequential": [
            [
             0,
             "#0d0887"
            ],
            [
             0.1111111111111111,
             "#46039f"
            ],
            [
             0.2222222222222222,
             "#7201a8"
            ],
            [
             0.3333333333333333,
             "#9c179e"
            ],
            [
             0.4444444444444444,
             "#bd3786"
            ],
            [
             0.5555555555555556,
             "#d8576b"
            ],
            [
             0.6666666666666666,
             "#ed7953"
            ],
            [
             0.7777777777777778,
             "#fb9f3a"
            ],
            [
             0.8888888888888888,
             "#fdca26"
            ],
            [
             1,
             "#f0f921"
            ]
           ],
           "sequentialminus": [
            [
             0,
             "#0d0887"
            ],
            [
             0.1111111111111111,
             "#46039f"
            ],
            [
             0.2222222222222222,
             "#7201a8"
            ],
            [
             0.3333333333333333,
             "#9c179e"
            ],
            [
             0.4444444444444444,
             "#bd3786"
            ],
            [
             0.5555555555555556,
             "#d8576b"
            ],
            [
             0.6666666666666666,
             "#ed7953"
            ],
            [
             0.7777777777777778,
             "#fb9f3a"
            ],
            [
             0.8888888888888888,
             "#fdca26"
            ],
            [
             1,
             "#f0f921"
            ]
           ]
          },
          "colorway": [
           "#636efa",
           "#EF553B",
           "#00cc96",
           "#ab63fa",
           "#FFA15A",
           "#19d3f3",
           "#FF6692",
           "#B6E880",
           "#FF97FF",
           "#FECB52"
          ],
          "font": {
           "color": "#2a3f5f"
          },
          "geo": {
           "bgcolor": "white",
           "lakecolor": "white",
           "landcolor": "#E5ECF6",
           "showlakes": true,
           "showland": true,
           "subunitcolor": "white"
          },
          "hoverlabel": {
           "align": "left"
          },
          "hovermode": "closest",
          "mapbox": {
           "style": "light"
          },
          "paper_bgcolor": "white",
          "plot_bgcolor": "#E5ECF6",
          "polar": {
           "angularaxis": {
            "gridcolor": "white",
            "linecolor": "white",
            "ticks": ""
           },
           "bgcolor": "#E5ECF6",
           "radialaxis": {
            "gridcolor": "white",
            "linecolor": "white",
            "ticks": ""
           }
          },
          "scene": {
           "xaxis": {
            "backgroundcolor": "#E5ECF6",
            "gridcolor": "white",
            "gridwidth": 2,
            "linecolor": "white",
            "showbackground": true,
            "ticks": "",
            "zerolinecolor": "white"
           },
           "yaxis": {
            "backgroundcolor": "#E5ECF6",
            "gridcolor": "white",
            "gridwidth": 2,
            "linecolor": "white",
            "showbackground": true,
            "ticks": "",
            "zerolinecolor": "white"
           },
           "zaxis": {
            "backgroundcolor": "#E5ECF6",
            "gridcolor": "white",
            "gridwidth": 2,
            "linecolor": "white",
            "showbackground": true,
            "ticks": "",
            "zerolinecolor": "white"
           }
          },
          "shapedefaults": {
           "line": {
            "color": "#2a3f5f"
           }
          },
          "ternary": {
           "aaxis": {
            "gridcolor": "white",
            "linecolor": "white",
            "ticks": ""
           },
           "baxis": {
            "gridcolor": "white",
            "linecolor": "white",
            "ticks": ""
           },
           "bgcolor": "#E5ECF6",
           "caxis": {
            "gridcolor": "white",
            "linecolor": "white",
            "ticks": ""
           }
          },
          "title": {
           "x": 0.05
          },
          "xaxis": {
           "automargin": true,
           "gridcolor": "white",
           "linecolor": "white",
           "ticks": "",
           "title": {
            "standoff": 15
           },
           "zerolinecolor": "white",
           "zerolinewidth": 2
          },
          "yaxis": {
           "automargin": true,
           "gridcolor": "white",
           "linecolor": "white",
           "ticks": "",
           "title": {
            "standoff": 15
           },
           "zerolinecolor": "white",
           "zerolinewidth": 2
          }
         }
        },
        "width": 1600,
        "xaxis": {
         "anchor": "y",
         "domain": [
          0,
          1
         ],
         "title": {
          "text": "Fire_Year"
         }
        },
        "yaxis": {
         "anchor": "x",
         "domain": [
          0,
          1
         ],
         "title": {
          "text": "Event_ID"
         }
        }
       }
      }
     },
     "metadata": {},
     "output_type": "display_data"
    }
   ],
   "source": [
    "px.line(single_region_fires.groupby(['Fire_Year','US_L3NAME']).count()[['Event_ID']].reset_index(),\n",
    "         x='Fire_Year', y='Event_ID', color='US_L3NAME',\n",
    "         width=1600, height=800)"
   ]
  },
  {
   "cell_type": "code",
   "execution_count": null,
   "metadata": {},
   "outputs": [
    {
     "data": {
      "application/vnd.plotly.v1+json": {
       "config": {
        "plotlyServerURL": "https://plot.ly"
       },
       "data": [
        {
         "hovertemplate": "US_L3NAME=Cascades<br>Fire_Year=%{x}<br>Total_area_burned(ha)=%{y}<extra></extra>",
         "legendgroup": "Cascades",
         "line": {
          "color": "#636efa",
          "dash": "solid"
         },
         "marker": {
          "symbol": "circle"
         },
         "mode": "lines",
         "name": "Cascades",
         "orientation": "v",
         "showlegend": true,
         "type": "scatter",
         "x": [
          1984,
          1987,
          1988,
          1990,
          2000,
          2002,
          2003,
          2008,
          2009,
          2012,
          2014
         ],
         "xaxis": "x",
         "y": [
          449.73,
          9549.45,
          1228.23,
          1943.82,
          493.38,
          724.05,
          500.58,
          9789.93,
          9551.970000000001,
          10780.02,
          14800.05
         ],
         "yaxis": "y"
        },
        {
         "hovertemplate": "US_L3NAME=Central Basin and Range<br>Fire_Year=%{x}<br>Total_area_burned(ha)=%{y}<extra></extra>",
         "legendgroup": "Central Basin and Range",
         "line": {
          "color": "#EF553B",
          "dash": "solid"
         },
         "marker": {
          "symbol": "circle"
         },
         "mode": "lines",
         "name": "Central Basin and Range",
         "orientation": "v",
         "showlegend": true,
         "type": "scatter",
         "x": [
          1984,
          1985,
          1994,
          1996,
          2000,
          2001,
          2003,
          2004,
          2006,
          2007,
          2008,
          2009,
          2010,
          2012,
          2013,
          2018,
          2019,
          2020
         ],
         "xaxis": "x",
         "y": [
          1735.11,
          961.2,
          460.35,
          1527.3,
          504,
          3839.85,
          466.56,
          1236.33,
          473.30999999999995,
          491.76,
          138.06,
          939.51,
          526.14,
          5574.24,
          2024.46,
          921.78,
          225.45,
          6609.870000000001
         ],
         "yaxis": "y"
        },
        {
         "hovertemplate": "US_L3NAME=Central California Foothills and Coastal Mountains<br>Fire_Year=%{x}<br>Total_area_burned(ha)=%{y}<extra></extra>",
         "legendgroup": "Central California Foothills and Coastal Mountains",
         "line": {
          "color": "#00cc96",
          "dash": "solid"
         },
         "marker": {
          "symbol": "circle"
         },
         "mode": "lines",
         "name": "Central California Foothills and Coastal Mountains",
         "orientation": "v",
         "showlegend": true,
         "type": "scatter",
         "x": [
          1984,
          1985,
          1986,
          1987,
          1988,
          1989,
          1990,
          1991,
          1992,
          1993,
          1994,
          1995,
          1996,
          1997,
          1998,
          1999,
          2000,
          2001,
          2002,
          2003,
          2004,
          2005,
          2006,
          2007,
          2008,
          2009,
          2010,
          2012,
          2013,
          2014,
          2015,
          2016,
          2017,
          2018,
          2019,
          2020
         ],
         "xaxis": "x",
         "y": [
          16554.6,
          98488.08,
          8943.93,
          7353.36,
          10749.599999999999,
          8688.06,
          3142.98,
          2764.17,
          11305.439999999999,
          3800.07,
          26329.41,
          7604.82,
          69583.23,
          5131.9800000000005,
          13055.85,
          64697.579999999994,
          17741.61,
          2027.3400000000001,
          8309.25,
          18386.370000000003,
          25156.71,
          18786.06,
          23005.079999999998,
          23219.01,
          112854.51,
          5500.35,
          2341.62,
          16855.65,
          11779.74,
          6916.41,
          75069.81,
          95198.04,
          92573.91,
          24289.469999999998,
          4486.59,
          121537.61999999998
         ],
         "yaxis": "y"
        },
        {
         "hovertemplate": "US_L3NAME=Eastern Cascades Slopes and Foothills<br>Fire_Year=%{x}<br>Total_area_burned(ha)=%{y}<extra></extra>",
         "legendgroup": "Eastern Cascades Slopes and Foothills",
         "line": {
          "color": "#ab63fa",
          "dash": "solid"
         },
         "marker": {
          "symbol": "circle"
         },
         "mode": "lines",
         "name": "Eastern Cascades Slopes and Foothills",
         "orientation": "v",
         "showlegend": true,
         "type": "scatter",
         "x": [
          1984,
          1987,
          1988,
          1990,
          1994,
          1996,
          1998,
          1999,
          2001,
          2002,
          2003,
          2004,
          2006,
          2007,
          2008,
          2009,
          2011,
          2012,
          2014,
          2016,
          2017,
          2018,
          2019,
          2020
         ],
         "xaxis": "x",
         "y": [
          1224.81,
          3682.8900000000003,
          2133.18,
          1961.19,
          2817.27,
          11985.3,
          1047.51,
          13716.630000000001,
          16339.77,
          686.34,
          4137.39,
          946.44,
          3954.33,
          2680.92,
          2454.21,
          603.27,
          1120.5,
          23082.39,
          560.07,
          1133.19,
          33081.39,
          15966.45,
          9894.330000000002,
          10080.99
         ],
         "yaxis": "y"
        },
        {
         "hovertemplate": "US_L3NAME=Mojave Basin and Range<br>Fire_Year=%{x}<br>Total_area_burned(ha)=%{y}<extra></extra>",
         "legendgroup": "Mojave Basin and Range",
         "line": {
          "color": "#FFA15A",
          "dash": "solid"
         },
         "marker": {
          "symbol": "circle"
         },
         "mode": "lines",
         "name": "Mojave Basin and Range",
         "orientation": "v",
         "showlegend": true,
         "type": "scatter",
         "x": [
          1984,
          1986,
          1993,
          1994,
          1995,
          1996,
          1998,
          1999,
          2000,
          2003,
          2004,
          2005,
          2006,
          2007,
          2011,
          2015,
          2020
         ],
         "xaxis": "x",
         "y": [
          2665.98,
          2404.44,
          4347.54,
          3159.8100000000004,
          2207.97,
          861.8399999999999,
          621.27,
          6328.26,
          2420.73,
          424.44,
          572.58,
          38968.92,
          6501.6,
          834.75,
          1286.8200000000002,
          1767.6,
          21980.61
         ],
         "yaxis": "y"
        },
        {
         "hovertemplate": "US_L3NAME=Southern California Mountains<br>Fire_Year=%{x}<br>Total_area_burned(ha)=%{y}<extra></extra>",
         "legendgroup": "Southern California Mountains",
         "line": {
          "color": "#19d3f3",
          "dash": "solid"
         },
         "marker": {
          "symbol": "circle"
         },
         "mode": "lines",
         "name": "Southern California Mountains",
         "orientation": "v",
         "showlegend": true,
         "type": "scatter",
         "x": [
          1984,
          1985,
          1986,
          1987,
          1988,
          1989,
          1990,
          1991,
          1992,
          1993,
          1994,
          1995,
          1996,
          1997,
          1998,
          1999,
          2001,
          2002,
          2003,
          2004,
          2005,
          2006,
          2007,
          2009,
          2012,
          2013,
          2015,
          2016,
          2017,
          2018,
          2020
         ],
         "xaxis": "x",
         "y": [
          1789.29,
          1060.92,
          1653.57,
          6742.62,
          1206.0900000000001,
          2685.69,
          1909.44,
          1323.54,
          534.15,
          1445.49,
          10847.61,
          1082.43,
          2260.8,
          1028.88,
          1637.55,
          7910.1,
          446.94,
          21346.65,
          2441.88,
          6056.1,
          1422.81,
          1912.77,
          14749.289999999999,
          1048.95,
          2534.4,
          3394.08,
          12926.52,
          1461.6,
          612.09,
          6470.549999999999,
          609.39
         ],
         "yaxis": "y"
        },
        {
         "hovertemplate": "US_L3NAME=Southern California/Northern Baja Coast<br>Fire_Year=%{x}<br>Total_area_burned(ha)=%{y}<extra></extra>",
         "legendgroup": "Southern California/Northern Baja Coast",
         "line": {
          "color": "#FF6692",
          "dash": "solid"
         },
         "marker": {
          "symbol": "circle"
         },
         "mode": "lines",
         "name": "Southern California/Northern Baja Coast",
         "orientation": "v",
         "showlegend": true,
         "type": "scatter",
         "x": [
          1984,
          1985,
          1986,
          1987,
          1988,
          1989,
          1990,
          1991,
          1992,
          1993,
          1994,
          1995,
          1996,
          1997,
          1998,
          1999,
          2000,
          2001,
          2002,
          2003,
          2004,
          2005,
          2006,
          2007,
          2008,
          2009,
          2010,
          2011,
          2012,
          2013,
          2014,
          2015,
          2016,
          2017,
          2018,
          2019,
          2020
         ],
         "xaxis": "x",
         "y": [
          7443.63,
          16141.950000000003,
          12570.21,
          6123.24,
          7457.94,
          13342.14,
          4986.36,
          510.57,
          2323.8,
          56382.48,
          2680.2,
          13148.640000000001,
          15598.62,
          8504.099999999999,
          7937.459999999999,
          4597.02,
          1053.3600000000001,
          2858.67,
          5334.03,
          29070.54,
          8461.619999999999,
          16968.06,
          8354.970000000001,
          31327.560000000005,
          33732.45,
          7831.53,
          2219.85,
          429.93,
          1553.49,
          11078.279999999999,
          10263.240000000002,
          3538.7999999999997,
          4110.84,
          11937.42,
          52382.7,
          6051.78,
          15848.19
         ],
         "yaxis": "y"
        },
        {
         "hovertemplate": "US_L3NAME=Klamath Mountains/California High North Coast Range<br>Fire_Year=%{x}<br>Total_area_burned(ha)=%{y}<extra></extra>",
         "legendgroup": "Klamath Mountains/California High North Coast Range",
         "line": {
          "color": "#B6E880",
          "dash": "solid"
         },
         "marker": {
          "symbol": "circle"
         },
         "mode": "lines",
         "name": "Klamath Mountains/California High North Coast Range",
         "orientation": "v",
         "showlegend": true,
         "type": "scatter",
         "x": [
          1985,
          1987,
          1988,
          1990,
          1991,
          1992,
          1994,
          1995,
          1996,
          1999,
          2000,
          2001,
          2002,
          2003,
          2004,
          2005,
          2006,
          2007,
          2008,
          2009,
          2011,
          2012,
          2013,
          2014,
          2015,
          2016,
          2017,
          2018,
          2019,
          2020
         ],
         "xaxis": "x",
         "y": [
          2321.6400000000003,
          155550.78,
          3106.26,
          597.06,
          451.26,
          2670.84,
          14774.13,
          886.32,
          845.01,
          80714.79,
          1186.1100000000001,
          5235.3,
          1852.38,
          6077.07,
          7078.14,
          1310.31,
          71017.82999999999,
          9170.1,
          118183.95,
          4556.34,
          450.45,
          31028.940000000002,
          21293.1,
          86841.54,
          107011.8,
          15003.27,
          108643.40999999999,
          62711.009999999995,
          1295.46,
          108019.79999999999
         ],
         "yaxis": "y"
        },
        {
         "hovertemplate": "US_L3NAME=Sierra Nevada<br>Fire_Year=%{x}<br>Total_area_burned(ha)=%{y}<extra></extra>",
         "legendgroup": "Sierra Nevada",
         "line": {
          "color": "#FF97FF",
          "dash": "solid"
         },
         "marker": {
          "symbol": "circle"
         },
         "mode": "lines",
         "name": "Sierra Nevada",
         "orientation": "v",
         "showlegend": true,
         "type": "scatter",
         "x": [
          1985,
          1986,
          1987,
          1988,
          1989,
          1990,
          1991,
          1992,
          1994,
          1995,
          1996,
          1997,
          1998,
          1999,
          2000,
          2001,
          2002,
          2003,
          2004,
          2005,
          2006,
          2007,
          2008,
          2009,
          2010,
          2011,
          2012,
          2013,
          2014,
          2015,
          2016,
          2017,
          2018,
          2019,
          2020
         ],
         "xaxis": "x",
         "y": [
          2622.15,
          5271.03,
          8778.869999999999,
          10640.34,
          3973.2299999999996,
          12672.27,
          2455.1099999999997,
          13595.4,
          8529.21,
          460.08,
          25163.28,
          5278.5,
          1218.69,
          23700.69,
          32086.350000000002,
          19386.27,
          2133.63,
          8156.159999999999,
          12246.48,
          417.06,
          7702.38,
          38055.78,
          36674.189999999995,
          12611.34,
          8251.47,
          10177.650000000001,
          9052.29,
          22886.55,
          10852.92,
          3991.95,
          8381.79,
          31855.77,
          24269.94,
          28142.730000000003,
          11273.76
         ],
         "yaxis": "y"
        },
        {
         "hovertemplate": "US_L3NAME=Sonoran Basin and Range<br>Fire_Year=%{x}<br>Total_area_burned(ha)=%{y}<extra></extra>",
         "legendgroup": "Sonoran Basin and Range",
         "line": {
          "color": "#FECB52",
          "dash": "solid"
         },
         "marker": {
          "symbol": "circle"
         },
         "mode": "lines",
         "name": "Sonoran Basin and Range",
         "orientation": "v",
         "showlegend": true,
         "type": "scatter",
         "x": [
          1986,
          1987,
          1989,
          1993,
          1995,
          2003,
          2006,
          2007,
          2011,
          2013
         ],
         "xaxis": "x",
         "y": [
          567.63,
          475.2,
          1234.08,
          663.3,
          864.09,
          54.81,
          640.35,
          456.12,
          803.97,
          232.83
         ],
         "yaxis": "y"
        },
        {
         "hovertemplate": "US_L3NAME=Coast Range<br>Fire_Year=%{x}<br>Total_area_burned(ha)=%{y}<extra></extra>",
         "legendgroup": "Coast Range",
         "line": {
          "color": "#636efa",
          "dash": "solid"
         },
         "marker": {
          "symbol": "circle"
         },
         "mode": "lines",
         "name": "Coast Range",
         "orientation": "v",
         "showlegend": true,
         "type": "scatter",
         "x": [
          1988,
          1990,
          1998,
          2003,
          2006,
          2008,
          2009
         ],
         "xaxis": "x",
         "y": [
          2122.56,
          4159.35,
          738.09,
          9527.85,
          500.85,
          12984.75,
          3353.04
         ],
         "yaxis": "y"
        },
        {
         "hovertemplate": "US_L3NAME=Central California Valley<br>Fire_Year=%{x}<br>Total_area_burned(ha)=%{y}<extra></extra>",
         "legendgroup": "Central California Valley",
         "line": {
          "color": "#EF553B",
          "dash": "solid"
         },
         "marker": {
          "symbol": "circle"
         },
         "mode": "lines",
         "name": "Central California Valley",
         "orientation": "v",
         "showlegend": true,
         "type": "scatter",
         "x": [
          1992,
          1993,
          1994,
          1995,
          1996,
          1997,
          1998,
          2001,
          2004,
          2005,
          2006,
          2007,
          2008,
          2010,
          2017,
          2018,
          2019
         ],
         "xaxis": "x",
         "y": [
          1372.0500000000002,
          1295.1,
          704.16,
          3723.84,
          3585.7799999999997,
          1499.94,
          1541.3400000000001,
          726.03,
          589.77,
          532.35,
          607.86,
          973.17,
          843.66,
          1027.35,
          1317.78,
          414.81,
          1379.61
         ],
         "yaxis": "y"
        },
        {
         "hovertemplate": "US_L3NAME=Northern Basin and Range<br>Fire_Year=%{x}<br>Total_area_burned(ha)=%{y}<extra></extra>",
         "legendgroup": "Northern Basin and Range",
         "line": {
          "color": "#00cc96",
          "dash": "solid"
         },
         "marker": {
          "symbol": "circle"
         },
         "mode": "lines",
         "name": "Northern Basin and Range",
         "orientation": "v",
         "showlegend": true,
         "type": "scatter",
         "x": [
          1999,
          2002,
          2003,
          2015,
          2017
         ],
         "xaxis": "x",
         "y": [
          1212.21,
          2101.14,
          2451.15,
          4445.37,
          239.22
         ],
         "yaxis": "y"
        }
       ],
       "layout": {
        "height": 800,
        "legend": {
         "title": {
          "text": "US_L3NAME"
         },
         "tracegroupgap": 0
        },
        "margin": {
         "t": 60
        },
        "template": {
         "data": {
          "bar": [
           {
            "error_x": {
             "color": "#2a3f5f"
            },
            "error_y": {
             "color": "#2a3f5f"
            },
            "marker": {
             "line": {
              "color": "#E5ECF6",
              "width": 0.5
             },
             "pattern": {
              "fillmode": "overlay",
              "size": 10,
              "solidity": 0.2
             }
            },
            "type": "bar"
           }
          ],
          "barpolar": [
           {
            "marker": {
             "line": {
              "color": "#E5ECF6",
              "width": 0.5
             },
             "pattern": {
              "fillmode": "overlay",
              "size": 10,
              "solidity": 0.2
             }
            },
            "type": "barpolar"
           }
          ],
          "carpet": [
           {
            "aaxis": {
             "endlinecolor": "#2a3f5f",
             "gridcolor": "white",
             "linecolor": "white",
             "minorgridcolor": "white",
             "startlinecolor": "#2a3f5f"
            },
            "baxis": {
             "endlinecolor": "#2a3f5f",
             "gridcolor": "white",
             "linecolor": "white",
             "minorgridcolor": "white",
             "startlinecolor": "#2a3f5f"
            },
            "type": "carpet"
           }
          ],
          "choropleth": [
           {
            "colorbar": {
             "outlinewidth": 0,
             "ticks": ""
            },
            "type": "choropleth"
           }
          ],
          "contour": [
           {
            "colorbar": {
             "outlinewidth": 0,
             "ticks": ""
            },
            "colorscale": [
             [
              0,
              "#0d0887"
             ],
             [
              0.1111111111111111,
              "#46039f"
             ],
             [
              0.2222222222222222,
              "#7201a8"
             ],
             [
              0.3333333333333333,
              "#9c179e"
             ],
             [
              0.4444444444444444,
              "#bd3786"
             ],
             [
              0.5555555555555556,
              "#d8576b"
             ],
             [
              0.6666666666666666,
              "#ed7953"
             ],
             [
              0.7777777777777778,
              "#fb9f3a"
             ],
             [
              0.8888888888888888,
              "#fdca26"
             ],
             [
              1,
              "#f0f921"
             ]
            ],
            "type": "contour"
           }
          ],
          "contourcarpet": [
           {
            "colorbar": {
             "outlinewidth": 0,
             "ticks": ""
            },
            "type": "contourcarpet"
           }
          ],
          "heatmap": [
           {
            "colorbar": {
             "outlinewidth": 0,
             "ticks": ""
            },
            "colorscale": [
             [
              0,
              "#0d0887"
             ],
             [
              0.1111111111111111,
              "#46039f"
             ],
             [
              0.2222222222222222,
              "#7201a8"
             ],
             [
              0.3333333333333333,
              "#9c179e"
             ],
             [
              0.4444444444444444,
              "#bd3786"
             ],
             [
              0.5555555555555556,
              "#d8576b"
             ],
             [
              0.6666666666666666,
              "#ed7953"
             ],
             [
              0.7777777777777778,
              "#fb9f3a"
             ],
             [
              0.8888888888888888,
              "#fdca26"
             ],
             [
              1,
              "#f0f921"
             ]
            ],
            "type": "heatmap"
           }
          ],
          "heatmapgl": [
           {
            "colorbar": {
             "outlinewidth": 0,
             "ticks": ""
            },
            "colorscale": [
             [
              0,
              "#0d0887"
             ],
             [
              0.1111111111111111,
              "#46039f"
             ],
             [
              0.2222222222222222,
              "#7201a8"
             ],
             [
              0.3333333333333333,
              "#9c179e"
             ],
             [
              0.4444444444444444,
              "#bd3786"
             ],
             [
              0.5555555555555556,
              "#d8576b"
             ],
             [
              0.6666666666666666,
              "#ed7953"
             ],
             [
              0.7777777777777778,
              "#fb9f3a"
             ],
             [
              0.8888888888888888,
              "#fdca26"
             ],
             [
              1,
              "#f0f921"
             ]
            ],
            "type": "heatmapgl"
           }
          ],
          "histogram": [
           {
            "marker": {
             "pattern": {
              "fillmode": "overlay",
              "size": 10,
              "solidity": 0.2
             }
            },
            "type": "histogram"
           }
          ],
          "histogram2d": [
           {
            "colorbar": {
             "outlinewidth": 0,
             "ticks": ""
            },
            "colorscale": [
             [
              0,
              "#0d0887"
             ],
             [
              0.1111111111111111,
              "#46039f"
             ],
             [
              0.2222222222222222,
              "#7201a8"
             ],
             [
              0.3333333333333333,
              "#9c179e"
             ],
             [
              0.4444444444444444,
              "#bd3786"
             ],
             [
              0.5555555555555556,
              "#d8576b"
             ],
             [
              0.6666666666666666,
              "#ed7953"
             ],
             [
              0.7777777777777778,
              "#fb9f3a"
             ],
             [
              0.8888888888888888,
              "#fdca26"
             ],
             [
              1,
              "#f0f921"
             ]
            ],
            "type": "histogram2d"
           }
          ],
          "histogram2dcontour": [
           {
            "colorbar": {
             "outlinewidth": 0,
             "ticks": ""
            },
            "colorscale": [
             [
              0,
              "#0d0887"
             ],
             [
              0.1111111111111111,
              "#46039f"
             ],
             [
              0.2222222222222222,
              "#7201a8"
             ],
             [
              0.3333333333333333,
              "#9c179e"
             ],
             [
              0.4444444444444444,
              "#bd3786"
             ],
             [
              0.5555555555555556,
              "#d8576b"
             ],
             [
              0.6666666666666666,
              "#ed7953"
             ],
             [
              0.7777777777777778,
              "#fb9f3a"
             ],
             [
              0.8888888888888888,
              "#fdca26"
             ],
             [
              1,
              "#f0f921"
             ]
            ],
            "type": "histogram2dcontour"
           }
          ],
          "mesh3d": [
           {
            "colorbar": {
             "outlinewidth": 0,
             "ticks": ""
            },
            "type": "mesh3d"
           }
          ],
          "parcoords": [
           {
            "line": {
             "colorbar": {
              "outlinewidth": 0,
              "ticks": ""
             }
            },
            "type": "parcoords"
           }
          ],
          "pie": [
           {
            "automargin": true,
            "type": "pie"
           }
          ],
          "scatter": [
           {
            "fillpattern": {
             "fillmode": "overlay",
             "size": 10,
             "solidity": 0.2
            },
            "type": "scatter"
           }
          ],
          "scatter3d": [
           {
            "line": {
             "colorbar": {
              "outlinewidth": 0,
              "ticks": ""
             }
            },
            "marker": {
             "colorbar": {
              "outlinewidth": 0,
              "ticks": ""
             }
            },
            "type": "scatter3d"
           }
          ],
          "scattercarpet": [
           {
            "marker": {
             "colorbar": {
              "outlinewidth": 0,
              "ticks": ""
             }
            },
            "type": "scattercarpet"
           }
          ],
          "scattergeo": [
           {
            "marker": {
             "colorbar": {
              "outlinewidth": 0,
              "ticks": ""
             }
            },
            "type": "scattergeo"
           }
          ],
          "scattergl": [
           {
            "marker": {
             "colorbar": {
              "outlinewidth": 0,
              "ticks": ""
             }
            },
            "type": "scattergl"
           }
          ],
          "scattermapbox": [
           {
            "marker": {
             "colorbar": {
              "outlinewidth": 0,
              "ticks": ""
             }
            },
            "type": "scattermapbox"
           }
          ],
          "scatterpolar": [
           {
            "marker": {
             "colorbar": {
              "outlinewidth": 0,
              "ticks": ""
             }
            },
            "type": "scatterpolar"
           }
          ],
          "scatterpolargl": [
           {
            "marker": {
             "colorbar": {
              "outlinewidth": 0,
              "ticks": ""
             }
            },
            "type": "scatterpolargl"
           }
          ],
          "scatterternary": [
           {
            "marker": {
             "colorbar": {
              "outlinewidth": 0,
              "ticks": ""
             }
            },
            "type": "scatterternary"
           }
          ],
          "surface": [
           {
            "colorbar": {
             "outlinewidth": 0,
             "ticks": ""
            },
            "colorscale": [
             [
              0,
              "#0d0887"
             ],
             [
              0.1111111111111111,
              "#46039f"
             ],
             [
              0.2222222222222222,
              "#7201a8"
             ],
             [
              0.3333333333333333,
              "#9c179e"
             ],
             [
              0.4444444444444444,
              "#bd3786"
             ],
             [
              0.5555555555555556,
              "#d8576b"
             ],
             [
              0.6666666666666666,
              "#ed7953"
             ],
             [
              0.7777777777777778,
              "#fb9f3a"
             ],
             [
              0.8888888888888888,
              "#fdca26"
             ],
             [
              1,
              "#f0f921"
             ]
            ],
            "type": "surface"
           }
          ],
          "table": [
           {
            "cells": {
             "fill": {
              "color": "#EBF0F8"
             },
             "line": {
              "color": "white"
             }
            },
            "header": {
             "fill": {
              "color": "#C8D4E3"
             },
             "line": {
              "color": "white"
             }
            },
            "type": "table"
           }
          ]
         },
         "layout": {
          "annotationdefaults": {
           "arrowcolor": "#2a3f5f",
           "arrowhead": 0,
           "arrowwidth": 1
          },
          "autotypenumbers": "strict",
          "coloraxis": {
           "colorbar": {
            "outlinewidth": 0,
            "ticks": ""
           }
          },
          "colorscale": {
           "diverging": [
            [
             0,
             "#8e0152"
            ],
            [
             0.1,
             "#c51b7d"
            ],
            [
             0.2,
             "#de77ae"
            ],
            [
             0.3,
             "#f1b6da"
            ],
            [
             0.4,
             "#fde0ef"
            ],
            [
             0.5,
             "#f7f7f7"
            ],
            [
             0.6,
             "#e6f5d0"
            ],
            [
             0.7,
             "#b8e186"
            ],
            [
             0.8,
             "#7fbc41"
            ],
            [
             0.9,
             "#4d9221"
            ],
            [
             1,
             "#276419"
            ]
           ],
           "sequential": [
            [
             0,
             "#0d0887"
            ],
            [
             0.1111111111111111,
             "#46039f"
            ],
            [
             0.2222222222222222,
             "#7201a8"
            ],
            [
             0.3333333333333333,
             "#9c179e"
            ],
            [
             0.4444444444444444,
             "#bd3786"
            ],
            [
             0.5555555555555556,
             "#d8576b"
            ],
            [
             0.6666666666666666,
             "#ed7953"
            ],
            [
             0.7777777777777778,
             "#fb9f3a"
            ],
            [
             0.8888888888888888,
             "#fdca26"
            ],
            [
             1,
             "#f0f921"
            ]
           ],
           "sequentialminus": [
            [
             0,
             "#0d0887"
            ],
            [
             0.1111111111111111,
             "#46039f"
            ],
            [
             0.2222222222222222,
             "#7201a8"
            ],
            [
             0.3333333333333333,
             "#9c179e"
            ],
            [
             0.4444444444444444,
             "#bd3786"
            ],
            [
             0.5555555555555556,
             "#d8576b"
            ],
            [
             0.6666666666666666,
             "#ed7953"
            ],
            [
             0.7777777777777778,
             "#fb9f3a"
            ],
            [
             0.8888888888888888,
             "#fdca26"
            ],
            [
             1,
             "#f0f921"
            ]
           ]
          },
          "colorway": [
           "#636efa",
           "#EF553B",
           "#00cc96",
           "#ab63fa",
           "#FFA15A",
           "#19d3f3",
           "#FF6692",
           "#B6E880",
           "#FF97FF",
           "#FECB52"
          ],
          "font": {
           "color": "#2a3f5f"
          },
          "geo": {
           "bgcolor": "white",
           "lakecolor": "white",
           "landcolor": "#E5ECF6",
           "showlakes": true,
           "showland": true,
           "subunitcolor": "white"
          },
          "hoverlabel": {
           "align": "left"
          },
          "hovermode": "closest",
          "mapbox": {
           "style": "light"
          },
          "paper_bgcolor": "white",
          "plot_bgcolor": "#E5ECF6",
          "polar": {
           "angularaxis": {
            "gridcolor": "white",
            "linecolor": "white",
            "ticks": ""
           },
           "bgcolor": "#E5ECF6",
           "radialaxis": {
            "gridcolor": "white",
            "linecolor": "white",
            "ticks": ""
           }
          },
          "scene": {
           "xaxis": {
            "backgroundcolor": "#E5ECF6",
            "gridcolor": "white",
            "gridwidth": 2,
            "linecolor": "white",
            "showbackground": true,
            "ticks": "",
            "zerolinecolor": "white"
           },
           "yaxis": {
            "backgroundcolor": "#E5ECF6",
            "gridcolor": "white",
            "gridwidth": 2,
            "linecolor": "white",
            "showbackground": true,
            "ticks": "",
            "zerolinecolor": "white"
           },
           "zaxis": {
            "backgroundcolor": "#E5ECF6",
            "gridcolor": "white",
            "gridwidth": 2,
            "linecolor": "white",
            "showbackground": true,
            "ticks": "",
            "zerolinecolor": "white"
           }
          },
          "shapedefaults": {
           "line": {
            "color": "#2a3f5f"
           }
          },
          "ternary": {
           "aaxis": {
            "gridcolor": "white",
            "linecolor": "white",
            "ticks": ""
           },
           "baxis": {
            "gridcolor": "white",
            "linecolor": "white",
            "ticks": ""
           },
           "bgcolor": "#E5ECF6",
           "caxis": {
            "gridcolor": "white",
            "linecolor": "white",
            "ticks": ""
           }
          },
          "title": {
           "x": 0.05
          },
          "xaxis": {
           "automargin": true,
           "gridcolor": "white",
           "linecolor": "white",
           "ticks": "",
           "title": {
            "standoff": 15
           },
           "zerolinecolor": "white",
           "zerolinewidth": 2
          },
          "yaxis": {
           "automargin": true,
           "gridcolor": "white",
           "linecolor": "white",
           "ticks": "",
           "title": {
            "standoff": 15
           },
           "zerolinecolor": "white",
           "zerolinewidth": 2
          }
         }
        },
        "width": 1600,
        "xaxis": {
         "anchor": "y",
         "domain": [
          0,
          1
         ],
         "title": {
          "text": "Fire_Year"
         }
        },
        "yaxis": {
         "anchor": "x",
         "domain": [
          0,
          1
         ],
         "title": {
          "text": "Total_area_burned(ha)"
         }
        }
       }
      }
     },
     "metadata": {},
     "output_type": "display_data"
    }
   ],
   "source": [
    "px.line(single_region_fires.groupby(['Fire_Year','US_L3NAME']).sum()[['Total_area_burned(ha)']].reset_index(),\n",
    "         x='Fire_Year', y='Total_area_burned(ha)', color='US_L3NAME',\n",
    "         width=1600, height=800)"
   ]
  },
  {
   "cell_type": "code",
   "execution_count": null,
   "metadata": {},
   "outputs": [
    {
     "data": {
      "text/html": [
       "<div>\n",
       "<style scoped>\n",
       "    .dataframe tbody tr th:only-of-type {\n",
       "        vertical-align: middle;\n",
       "    }\n",
       "\n",
       "    .dataframe tbody tr th {\n",
       "        vertical-align: top;\n",
       "    }\n",
       "\n",
       "    .dataframe thead th {\n",
       "        text-align: right;\n",
       "    }\n",
       "</style>\n",
       "<table border=\"1\" class=\"dataframe\">\n",
       "  <thead>\n",
       "    <tr style=\"text-align: right;\">\n",
       "      <th></th>\n",
       "      <th></th>\n",
       "      <th>Total_area_burned(ha)</th>\n",
       "    </tr>\n",
       "    <tr>\n",
       "      <th>Fire_Year</th>\n",
       "      <th>US_L3NAME</th>\n",
       "      <th></th>\n",
       "    </tr>\n",
       "  </thead>\n",
       "  <tbody>\n",
       "    <tr>\n",
       "      <th>1987</th>\n",
       "      <th>Klamath Mountains/California High North Coast Range</th>\n",
       "      <td>155550.78</td>\n",
       "    </tr>\n",
       "    <tr>\n",
       "      <th>2020</th>\n",
       "      <th>Central California Foothills and Coastal Mountains</th>\n",
       "      <td>121537.62</td>\n",
       "    </tr>\n",
       "    <tr>\n",
       "      <th rowspan=\"2\" valign=\"top\">2008</th>\n",
       "      <th>Klamath Mountains/California High North Coast Range</th>\n",
       "      <td>118183.95</td>\n",
       "    </tr>\n",
       "    <tr>\n",
       "      <th>Central California Foothills and Coastal Mountains</th>\n",
       "      <td>112854.51</td>\n",
       "    </tr>\n",
       "    <tr>\n",
       "      <th rowspan=\"3\" valign=\"top\">2017</th>\n",
       "      <th>Klamath Mountains/California High North Coast Range</th>\n",
       "      <td>108643.41</td>\n",
       "    </tr>\n",
       "    <tr>\n",
       "      <th>...</th>\n",
       "      <td>...</td>\n",
       "    </tr>\n",
       "    <tr>\n",
       "      <th>Northern Basin and Range</th>\n",
       "      <td>239.22</td>\n",
       "    </tr>\n",
       "    <tr>\n",
       "      <th>2013</th>\n",
       "      <th>Sonoran Basin and Range</th>\n",
       "      <td>232.83</td>\n",
       "    </tr>\n",
       "    <tr>\n",
       "      <th>2019</th>\n",
       "      <th>Central Basin and Range</th>\n",
       "      <td>225.45</td>\n",
       "    </tr>\n",
       "    <tr>\n",
       "      <th>2008</th>\n",
       "      <th>Central Basin and Range</th>\n",
       "      <td>138.06</td>\n",
       "    </tr>\n",
       "    <tr>\n",
       "      <th>2003</th>\n",
       "      <th>Sonoran Basin and Range</th>\n",
       "      <td>54.81</td>\n",
       "    </tr>\n",
       "  </tbody>\n",
       "</table>\n",
       "<p>278 rows × 1 columns</p>\n",
       "</div>"
      ],
      "text/plain": [
       "                                                              Total_area_burned(ha)\n",
       "Fire_Year US_L3NAME                                                                \n",
       "1987      Klamath Mountains/California High North Coast R...              155550.78\n",
       "2020      Central California Foothills and Coastal Mountains              121537.62\n",
       "2008      Klamath Mountains/California High North Coast R...              118183.95\n",
       "          Central California Foothills and Coastal Mountains              112854.51\n",
       "2017      Klamath Mountains/California High North Coast R...              108643.41\n",
       "...                                                                             ...\n",
       "          Northern Basin and Range                                           239.22\n",
       "2013      Sonoran Basin and Range                                            232.83\n",
       "2019      Central Basin and Range                                            225.45\n",
       "2008      Central Basin and Range                                            138.06\n",
       "2003      Sonoran Basin and Range                                             54.81\n",
       "\n",
       "[278 rows x 1 columns]"
      ]
     },
     "execution_count": 191,
     "metadata": {},
     "output_type": "execute_result"
    }
   ],
   "source": [
    "single_region_fires.groupby(['Fire_Year','US_L3NAME']).sum()[['Total_area_burned(ha)']].sort_values('Total_area_burned(ha)', ascending=False)"
   ]
  },
  {
   "attachments": {},
   "cell_type": "markdown",
   "metadata": {},
   "source": [
    "### Largest fires are in these regions: Klamath Mountains/California High North Coast Range, Central California Foothills and Coastal Mountains"
   ]
  },
  {
   "attachments": {},
   "cell_type": "markdown",
   "metadata": {},
   "source": [
    "#### Klamath Mountains/California High North Coast Range"
   ]
  },
  {
   "cell_type": "code",
   "execution_count": null,
   "metadata": {},
   "outputs": [],
   "source": [
    "temp = single_region_fires[single_region_fires['US_L3NAME']=='Klamath Mountains/California High North Coast Range']"
   ]
  },
  {
   "cell_type": "code",
   "execution_count": null,
   "metadata": {},
   "outputs": [
    {
     "data": {
      "application/vnd.plotly.v1+json": {
       "config": {
        "plotlyServerURL": "https://plot.ly"
       },
       "data": [
        {
         "hovertemplate": "variable=Event_ID<br>Fire_Year=%{x}<br>value=%{y}<extra></extra>",
         "legendgroup": "Event_ID",
         "line": {
          "color": "#636efa",
          "dash": "solid"
         },
         "marker": {
          "symbol": "circle"
         },
         "mode": "lines",
         "name": "Event_ID",
         "orientation": "v",
         "showlegend": true,
         "type": "scatter",
         "x": [
          1985,
          1987,
          1988,
          1990,
          1991,
          1992,
          1994,
          1995,
          1996,
          1999,
          2000,
          2001,
          2002,
          2003,
          2004,
          2005,
          2006,
          2007,
          2008,
          2009,
          2011,
          2012,
          2013,
          2014,
          2015,
          2016,
          2017,
          2018,
          2019,
          2020
         ],
         "xaxis": "x",
         "y": [
          2,
          35,
          1,
          1,
          1,
          2,
          4,
          1,
          1,
          12,
          2,
          4,
          2,
          3,
          2,
          1,
          8,
          5,
          26,
          5,
          1,
          6,
          3,
          6,
          16,
          2,
          12,
          5,
          2,
          5
         ],
         "yaxis": "y"
        }
       ],
       "layout": {
        "legend": {
         "title": {
          "text": "variable"
         },
         "tracegroupgap": 0
        },
        "template": {
         "data": {
          "bar": [
           {
            "error_x": {
             "color": "#2a3f5f"
            },
            "error_y": {
             "color": "#2a3f5f"
            },
            "marker": {
             "line": {
              "color": "#E5ECF6",
              "width": 0.5
             },
             "pattern": {
              "fillmode": "overlay",
              "size": 10,
              "solidity": 0.2
             }
            },
            "type": "bar"
           }
          ],
          "barpolar": [
           {
            "marker": {
             "line": {
              "color": "#E5ECF6",
              "width": 0.5
             },
             "pattern": {
              "fillmode": "overlay",
              "size": 10,
              "solidity": 0.2
             }
            },
            "type": "barpolar"
           }
          ],
          "carpet": [
           {
            "aaxis": {
             "endlinecolor": "#2a3f5f",
             "gridcolor": "white",
             "linecolor": "white",
             "minorgridcolor": "white",
             "startlinecolor": "#2a3f5f"
            },
            "baxis": {
             "endlinecolor": "#2a3f5f",
             "gridcolor": "white",
             "linecolor": "white",
             "minorgridcolor": "white",
             "startlinecolor": "#2a3f5f"
            },
            "type": "carpet"
           }
          ],
          "choropleth": [
           {
            "colorbar": {
             "outlinewidth": 0,
             "ticks": ""
            },
            "type": "choropleth"
           }
          ],
          "contour": [
           {
            "colorbar": {
             "outlinewidth": 0,
             "ticks": ""
            },
            "colorscale": [
             [
              0,
              "#0d0887"
             ],
             [
              0.1111111111111111,
              "#46039f"
             ],
             [
              0.2222222222222222,
              "#7201a8"
             ],
             [
              0.3333333333333333,
              "#9c179e"
             ],
             [
              0.4444444444444444,
              "#bd3786"
             ],
             [
              0.5555555555555556,
              "#d8576b"
             ],
             [
              0.6666666666666666,
              "#ed7953"
             ],
             [
              0.7777777777777778,
              "#fb9f3a"
             ],
             [
              0.8888888888888888,
              "#fdca26"
             ],
             [
              1,
              "#f0f921"
             ]
            ],
            "type": "contour"
           }
          ],
          "contourcarpet": [
           {
            "colorbar": {
             "outlinewidth": 0,
             "ticks": ""
            },
            "type": "contourcarpet"
           }
          ],
          "heatmap": [
           {
            "colorbar": {
             "outlinewidth": 0,
             "ticks": ""
            },
            "colorscale": [
             [
              0,
              "#0d0887"
             ],
             [
              0.1111111111111111,
              "#46039f"
             ],
             [
              0.2222222222222222,
              "#7201a8"
             ],
             [
              0.3333333333333333,
              "#9c179e"
             ],
             [
              0.4444444444444444,
              "#bd3786"
             ],
             [
              0.5555555555555556,
              "#d8576b"
             ],
             [
              0.6666666666666666,
              "#ed7953"
             ],
             [
              0.7777777777777778,
              "#fb9f3a"
             ],
             [
              0.8888888888888888,
              "#fdca26"
             ],
             [
              1,
              "#f0f921"
             ]
            ],
            "type": "heatmap"
           }
          ],
          "heatmapgl": [
           {
            "colorbar": {
             "outlinewidth": 0,
             "ticks": ""
            },
            "colorscale": [
             [
              0,
              "#0d0887"
             ],
             [
              0.1111111111111111,
              "#46039f"
             ],
             [
              0.2222222222222222,
              "#7201a8"
             ],
             [
              0.3333333333333333,
              "#9c179e"
             ],
             [
              0.4444444444444444,
              "#bd3786"
             ],
             [
              0.5555555555555556,
              "#d8576b"
             ],
             [
              0.6666666666666666,
              "#ed7953"
             ],
             [
              0.7777777777777778,
              "#fb9f3a"
             ],
             [
              0.8888888888888888,
              "#fdca26"
             ],
             [
              1,
              "#f0f921"
             ]
            ],
            "type": "heatmapgl"
           }
          ],
          "histogram": [
           {
            "marker": {
             "pattern": {
              "fillmode": "overlay",
              "size": 10,
              "solidity": 0.2
             }
            },
            "type": "histogram"
           }
          ],
          "histogram2d": [
           {
            "colorbar": {
             "outlinewidth": 0,
             "ticks": ""
            },
            "colorscale": [
             [
              0,
              "#0d0887"
             ],
             [
              0.1111111111111111,
              "#46039f"
             ],
             [
              0.2222222222222222,
              "#7201a8"
             ],
             [
              0.3333333333333333,
              "#9c179e"
             ],
             [
              0.4444444444444444,
              "#bd3786"
             ],
             [
              0.5555555555555556,
              "#d8576b"
             ],
             [
              0.6666666666666666,
              "#ed7953"
             ],
             [
              0.7777777777777778,
              "#fb9f3a"
             ],
             [
              0.8888888888888888,
              "#fdca26"
             ],
             [
              1,
              "#f0f921"
             ]
            ],
            "type": "histogram2d"
           }
          ],
          "histogram2dcontour": [
           {
            "colorbar": {
             "outlinewidth": 0,
             "ticks": ""
            },
            "colorscale": [
             [
              0,
              "#0d0887"
             ],
             [
              0.1111111111111111,
              "#46039f"
             ],
             [
              0.2222222222222222,
              "#7201a8"
             ],
             [
              0.3333333333333333,
              "#9c179e"
             ],
             [
              0.4444444444444444,
              "#bd3786"
             ],
             [
              0.5555555555555556,
              "#d8576b"
             ],
             [
              0.6666666666666666,
              "#ed7953"
             ],
             [
              0.7777777777777778,
              "#fb9f3a"
             ],
             [
              0.8888888888888888,
              "#fdca26"
             ],
             [
              1,
              "#f0f921"
             ]
            ],
            "type": "histogram2dcontour"
           }
          ],
          "mesh3d": [
           {
            "colorbar": {
             "outlinewidth": 0,
             "ticks": ""
            },
            "type": "mesh3d"
           }
          ],
          "parcoords": [
           {
            "line": {
             "colorbar": {
              "outlinewidth": 0,
              "ticks": ""
             }
            },
            "type": "parcoords"
           }
          ],
          "pie": [
           {
            "automargin": true,
            "type": "pie"
           }
          ],
          "scatter": [
           {
            "fillpattern": {
             "fillmode": "overlay",
             "size": 10,
             "solidity": 0.2
            },
            "type": "scatter"
           }
          ],
          "scatter3d": [
           {
            "line": {
             "colorbar": {
              "outlinewidth": 0,
              "ticks": ""
             }
            },
            "marker": {
             "colorbar": {
              "outlinewidth": 0,
              "ticks": ""
             }
            },
            "type": "scatter3d"
           }
          ],
          "scattercarpet": [
           {
            "marker": {
             "colorbar": {
              "outlinewidth": 0,
              "ticks": ""
             }
            },
            "type": "scattercarpet"
           }
          ],
          "scattergeo": [
           {
            "marker": {
             "colorbar": {
              "outlinewidth": 0,
              "ticks": ""
             }
            },
            "type": "scattergeo"
           }
          ],
          "scattergl": [
           {
            "marker": {
             "colorbar": {
              "outlinewidth": 0,
              "ticks": ""
             }
            },
            "type": "scattergl"
           }
          ],
          "scattermapbox": [
           {
            "marker": {
             "colorbar": {
              "outlinewidth": 0,
              "ticks": ""
             }
            },
            "type": "scattermapbox"
           }
          ],
          "scatterpolar": [
           {
            "marker": {
             "colorbar": {
              "outlinewidth": 0,
              "ticks": ""
             }
            },
            "type": "scatterpolar"
           }
          ],
          "scatterpolargl": [
           {
            "marker": {
             "colorbar": {
              "outlinewidth": 0,
              "ticks": ""
             }
            },
            "type": "scatterpolargl"
           }
          ],
          "scatterternary": [
           {
            "marker": {
             "colorbar": {
              "outlinewidth": 0,
              "ticks": ""
             }
            },
            "type": "scatterternary"
           }
          ],
          "surface": [
           {
            "colorbar": {
             "outlinewidth": 0,
             "ticks": ""
            },
            "colorscale": [
             [
              0,
              "#0d0887"
             ],
             [
              0.1111111111111111,
              "#46039f"
             ],
             [
              0.2222222222222222,
              "#7201a8"
             ],
             [
              0.3333333333333333,
              "#9c179e"
             ],
             [
              0.4444444444444444,
              "#bd3786"
             ],
             [
              0.5555555555555556,
              "#d8576b"
             ],
             [
              0.6666666666666666,
              "#ed7953"
             ],
             [
              0.7777777777777778,
              "#fb9f3a"
             ],
             [
              0.8888888888888888,
              "#fdca26"
             ],
             [
              1,
              "#f0f921"
             ]
            ],
            "type": "surface"
           }
          ],
          "table": [
           {
            "cells": {
             "fill": {
              "color": "#EBF0F8"
             },
             "line": {
              "color": "white"
             }
            },
            "header": {
             "fill": {
              "color": "#C8D4E3"
             },
             "line": {
              "color": "white"
             }
            },
            "type": "table"
           }
          ]
         },
         "layout": {
          "annotationdefaults": {
           "arrowcolor": "#2a3f5f",
           "arrowhead": 0,
           "arrowwidth": 1
          },
          "autotypenumbers": "strict",
          "coloraxis": {
           "colorbar": {
            "outlinewidth": 0,
            "ticks": ""
           }
          },
          "colorscale": {
           "diverging": [
            [
             0,
             "#8e0152"
            ],
            [
             0.1,
             "#c51b7d"
            ],
            [
             0.2,
             "#de77ae"
            ],
            [
             0.3,
             "#f1b6da"
            ],
            [
             0.4,
             "#fde0ef"
            ],
            [
             0.5,
             "#f7f7f7"
            ],
            [
             0.6,
             "#e6f5d0"
            ],
            [
             0.7,
             "#b8e186"
            ],
            [
             0.8,
             "#7fbc41"
            ],
            [
             0.9,
             "#4d9221"
            ],
            [
             1,
             "#276419"
            ]
           ],
           "sequential": [
            [
             0,
             "#0d0887"
            ],
            [
             0.1111111111111111,
             "#46039f"
            ],
            [
             0.2222222222222222,
             "#7201a8"
            ],
            [
             0.3333333333333333,
             "#9c179e"
            ],
            [
             0.4444444444444444,
             "#bd3786"
            ],
            [
             0.5555555555555556,
             "#d8576b"
            ],
            [
             0.6666666666666666,
             "#ed7953"
            ],
            [
             0.7777777777777778,
             "#fb9f3a"
            ],
            [
             0.8888888888888888,
             "#fdca26"
            ],
            [
             1,
             "#f0f921"
            ]
           ],
           "sequentialminus": [
            [
             0,
             "#0d0887"
            ],
            [
             0.1111111111111111,
             "#46039f"
            ],
            [
             0.2222222222222222,
             "#7201a8"
            ],
            [
             0.3333333333333333,
             "#9c179e"
            ],
            [
             0.4444444444444444,
             "#bd3786"
            ],
            [
             0.5555555555555556,
             "#d8576b"
            ],
            [
             0.6666666666666666,
             "#ed7953"
            ],
            [
             0.7777777777777778,
             "#fb9f3a"
            ],
            [
             0.8888888888888888,
             "#fdca26"
            ],
            [
             1,
             "#f0f921"
            ]
           ]
          },
          "colorway": [
           "#636efa",
           "#EF553B",
           "#00cc96",
           "#ab63fa",
           "#FFA15A",
           "#19d3f3",
           "#FF6692",
           "#B6E880",
           "#FF97FF",
           "#FECB52"
          ],
          "font": {
           "color": "#2a3f5f"
          },
          "geo": {
           "bgcolor": "white",
           "lakecolor": "white",
           "landcolor": "#E5ECF6",
           "showlakes": true,
           "showland": true,
           "subunitcolor": "white"
          },
          "hoverlabel": {
           "align": "left"
          },
          "hovermode": "closest",
          "mapbox": {
           "style": "light"
          },
          "paper_bgcolor": "white",
          "plot_bgcolor": "#E5ECF6",
          "polar": {
           "angularaxis": {
            "gridcolor": "white",
            "linecolor": "white",
            "ticks": ""
           },
           "bgcolor": "#E5ECF6",
           "radialaxis": {
            "gridcolor": "white",
            "linecolor": "white",
            "ticks": ""
           }
          },
          "scene": {
           "xaxis": {
            "backgroundcolor": "#E5ECF6",
            "gridcolor": "white",
            "gridwidth": 2,
            "linecolor": "white",
            "showbackground": true,
            "ticks": "",
            "zerolinecolor": "white"
           },
           "yaxis": {
            "backgroundcolor": "#E5ECF6",
            "gridcolor": "white",
            "gridwidth": 2,
            "linecolor": "white",
            "showbackground": true,
            "ticks": "",
            "zerolinecolor": "white"
           },
           "zaxis": {
            "backgroundcolor": "#E5ECF6",
            "gridcolor": "white",
            "gridwidth": 2,
            "linecolor": "white",
            "showbackground": true,
            "ticks": "",
            "zerolinecolor": "white"
           }
          },
          "shapedefaults": {
           "line": {
            "color": "#2a3f5f"
           }
          },
          "ternary": {
           "aaxis": {
            "gridcolor": "white",
            "linecolor": "white",
            "ticks": ""
           },
           "baxis": {
            "gridcolor": "white",
            "linecolor": "white",
            "ticks": ""
           },
           "bgcolor": "#E5ECF6",
           "caxis": {
            "gridcolor": "white",
            "linecolor": "white",
            "ticks": ""
           }
          },
          "title": {
           "x": 0.05
          },
          "xaxis": {
           "automargin": true,
           "gridcolor": "white",
           "linecolor": "white",
           "ticks": "",
           "title": {
            "standoff": 15
           },
           "zerolinecolor": "white",
           "zerolinewidth": 2
          },
          "yaxis": {
           "automargin": true,
           "gridcolor": "white",
           "linecolor": "white",
           "ticks": "",
           "title": {
            "standoff": 15
           },
           "zerolinecolor": "white",
           "zerolinewidth": 2
          }
         }
        },
        "title": {
         "text": "Fire events by year"
        },
        "width": 800,
        "xaxis": {
         "anchor": "y",
         "domain": [
          0,
          1
         ],
         "title": {
          "text": "Fire_Year"
         }
        },
        "yaxis": {
         "anchor": "x",
         "domain": [
          0,
          1
         ],
         "title": {
          "text": "value"
         }
        }
       }
      }
     },
     "metadata": {},
     "output_type": "display_data"
    }
   ],
   "source": [
    "fig = px.line(single_region_fires[single_region_fires['US_L3NAME']=='Klamath Mountains/California High North Coast Range'].groupby('Fire_Year').count()['Event_ID'],\n",
    "        width=800, title='Fire events by year'\n",
    "        )\n",
    "\n",
    "fig.update_layout()\n"
   ]
  },
  {
   "cell_type": "code",
   "execution_count": null,
   "metadata": {},
   "outputs": [
    {
     "data": {
      "application/vnd.plotly.v1+json": {
       "config": {
        "plotlyServerURL": "https://plot.ly"
       },
       "data": [
        {
         "alignmentgroup": "True",
         "hovertemplate": "variable=% of Fire at High Severity<br>Event_ID=%{x}<br>value=%{y}<extra></extra>",
         "legendgroup": "% of Fire at High Severity",
         "marker": {
          "color": "#636efa",
          "pattern": {
           "shape": ""
          }
         },
         "name": "% of Fire at High Severity",
         "offsetgroup": "% of Fire at High Severity",
         "orientation": "v",
         "showlegend": true,
         "textposition": "auto",
         "type": "bar",
         "x": [
          "CA4080812321419850726",
          "CA4095612245219850718",
          "CA3941712307519870929",
          "CA4009112291519870902",
          "CA4009212322519870831",
          "CA4040412333919870830",
          "CA4044812339819870830",
          "CA4048312320019870830",
          "CA4050112330719870830",
          "CA4052712339819870830",
          "CA4057812346719870830",
          "CA4058812355519870830",
          "CA4060612338819870830",
          "CA4065412339719870830",
          "CA4065812346619870830",
          "CA4083712302219870830",
          "CA4090212304019870830",
          "CA4099312310719870901",
          "CA4105412315719870830",
          "CA4110812319119870830",
          "CA4119312328919870830",
          "CA4119812272519870831",
          "CA4123912321119870830",
          "CA4135112309619870831",
          "CA4141212331619870830",
          "CA4163812338919870830",
          "CA4165612314419870830",
          "CA4174812318019870901",
          "CA4175612352619870830",
          "CA4175812328419870830",
          "CA4179312283119870830",
          "CA4181712327419870830",
          "CA4183412334819870830",
          "CA4184912355119870830",
          "CA4189812322019870830",
          "CA4193012339419870830",
          "CA4199712363419870830",
          "CA4018412304519880928",
          "CA4003612349819900923",
          "CA4050512315819910918",
          "CA4061012305619920820",
          "CA4125912377919920919",
          "CA4072112286319940712",
          "CA4136312315119940919",
          "CA4162312361019940722",
          "CA4172412354619940721",
          "CA4163012357719950801",
          "CA4018912300919960814",
          "CA4069312281619990702",
          "CA4078612244619990823",
          "CA4083812250819990908",
          "CA4084112245519990823",
          "CA4087512243119990823",
          "CA4088012247819990823",
          "CA4088312338819990823",
          "CA4091212248019990823",
          "CA4096712232419990823",
          "CA4097312250819990823",
          "CA4104812343519990823",
          "CA4175212334019990724",
          "CA4033312336620001007",
          "CA4186612288320000721",
          "CA4057812322220010831",
          "CA4074312296820010828",
          "CA4162512353920010915",
          "CA4186812276120010509",
          "CA4127312332120020609",
          "CA4166912331420020722",
          "CA3950412282120030903",
          "CA3963412282820030928",
          "CA4078912330120030914",
          "CA4070212354420040728",
          "CA4074012270320040814",
          "CA4148912327020050920",
          "CA3966212292720060724",
          "CA4074212300420060729",
          "CA4095112320220060902",
          "CA4109112300620060724",
          "CA4133612346520060724",
          "CA4141412317720060723",
          "CA4142612330620060724",
          "CA4160912335520060723",
          "CA4049212334320070829",
          "CA4161712327920070710",
          "CA4168112341420070710",
          "CA4180412341220070710",
          "CA4184212270320070710",
          "CA3937012297720080621",
          "CA3941612307620080621",
          "CA3947712308520080621",
          "CA3954412296820080621",
          "CA3971012317320080704",
          "CA4001712322720080705",
          "CA4012112329420080621",
          "CA4018512311920080621",
          "CA4021212322720080621",
          "CA4042112309620080620",
          "CA4048812292220080621",
          "CA4049512341220080620",
          "CA4063712326820080621",
          "CA4063812276420080621",
          "CA4065912351320080621",
          "CA4071412316220080621",
          "CA4074912336120080621",
          "CA4076312356020080620",
          "CA4078712209120080621",
          "CA4082312342420080621",
          "CA4083712326320080621",
          "CA4086912347920080621",
          "CA4105912302720080621",
          "CA4107312329420080621",
          "CA4150512318420080628",
          "CA4154112338120080722",
          "CA4068412283520090812",
          "CA4107012343620090702",
          "CA4115812340520090705",
          "CA4120212362120091007",
          "CA4156612316620090821",
          "CA4024312331620110923",
          "CA3986612313320120818",
          "CA4054612309020120905",
          "CA4079212335020120711",
          "CA4083812232620120801",
          "CA4188812325320120805",
          "CA4196012323320120805",
          "CA4103512348820130810",
          "CA4130012313520130731",
          "CA4133312337620130731",
          "CA4114112280520140802",
          "CA4126812300220140731",
          "CA4152312316420140813",
          "CA4154812306220140731",
          "CA4179612337420140814",
          "CA4192412288020140730",
          "CA4016812363920150730",
          "CA4034312338320150731",
          "CA4035712344220150731",
          "CA4035812356120150806",
          "CA4038712317320150730",
          "CA4045612355620150806",
          "CA4046512305420150731",
          "CA4049212319820150803",
          "CA4060412308120150731",
          "CA4064212358620150731",
          "CA4068012335620150731",
          "CA4069112352420150610",
          "CA4091312343720150731",
          "CA4146912375220150801",
          "CA4155612377620150802",
          "CA4180012381520150801",
          "CA4162312355820160607",
          "CA4185312311520160828",
          "CA4011512332020170808",
          "CA4018412336320170808",
          "CA4022812303620170913",
          "CA4077112312420170831",
          "CA4083912297820170808",
          "CA4143512316220170626",
          "CA4145212338020170811",
          "CA4154912328620170726",
          "CA4159712349220170725",
          "CA4178612347520170812",
          "CA4194712334920170808",
          "CA4198012316420170811",
          "CA4061612352420180904",
          "CA4089112222820180809",
          "CA4094312242720180905",
          "CA4114012366020180816",
          "CA4195612355120180715",
          "CA4088712301420190905",
          "CA4186612267020190905",
          "CA20200907_20200928_UCM22_OAK_CF00010700",
          "CA20200914_20200928_UCM240_FOX_CF00007241",
          "CA20200909_NA_UCM253_DEVIL_CF00007084",
          "CA20200908_20201212_UCM265_SLATER_CF00007035",
          "CA20200727_20201119_UCM305_RED_SALMON_COMPLEX_CF00000643"
         ],
         "xaxis": "x",
         "y": [
          0.22141649855514967,
          0.6568745808182428,
          0.41733827052929645,
          0.03925650557620818,
          0.18754806952776495,
          0.21321370607436585,
          0.056638087815016884,
          0.3225936514918261,
          0.2605913221553821,
          0.09700741007951182,
          0.21222356765024536,
          0.6420529317151631,
          0.06870229007633587,
          0.11851382731686722,
          0.36593145571767893,
          0.24933474128827876,
          0.33366032306585575,
          0.30158123370981754,
          0.253555425676992,
          0.08650744094078469,
          0.16961005844705052,
          0.33676975945017185,
          0.27210716227571546,
          0.359375,
          0.15176120294266449,
          0.14109357331763342,
          0.12201751736635458,
          0.05636251675299743,
          0.19428713813256013,
          0.10749159272314737,
          0.10647896087734307,
          0.15998487140695916,
          0.27890690416381214,
          0.09220401286567621,
          0.25312783096246605,
          0.10055215253213699,
          0.38541299839574283,
          0.39317378455119656,
          0.03964425685860718,
          0.5712006382130036,
          0.5049129169653775,
          0.15394935435183635,
          0.697,
          0.4120991797166294,
          0.19715137918289105,
          0.36432687270822417,
          0.2799553208773355,
          0.028970071360102247,
          0.5138539042821159,
          0.1516864885942679,
          0.15867667879352676,
          0.05205668575141106,
          0.10444182903971055,
          0.16897695382260397,
          0.08513633767648192,
          0.10630178805058875,
          0.18332319751334547,
          0.35217816935878604,
          0.1858431347209461,
          0.37937608318890814,
          0.37648072367004093,
          0.3564901593252109,
          0.3597378277153558,
          0.5292412402319133,
          0.17362385321100918,
          0.09653465346534654,
          0.32729179149191134,
          0.2762836185819071,
          0.5150126995645864,
          0.32358369023991085,
          0.1461566006206732,
          0.5768938730214356,
          0.2288175538399025,
          0.13366302630675184,
          0.1664565779871293,
          0.23370184254606366,
          0.23421512325894403,
          0.12213611859838275,
          0.08639378065091395,
          0.338415528059579,
          0.1634718191538109,
          0.2953942346141263,
          0.538884866039102,
          0.23389332898385257,
          0.24761531834912678,
          0.1500510062134842,
          0.14853085899058063,
          0.15380691238362454,
          0.24639801891040072,
          0.11996991350131629,
          0.0751214650554379,
          0.027549717204889617,
          0.021317542561065876,
          0.03741701870850935,
          0.38322741715842035,
          0.04298951845663071,
          0.18411288851043123,
          0.28406833531982517,
          0.11274161542418971,
          0.16118443843968683,
          0.010134624111329602,
          0.08306129851287632,
          0.1866724326105311,
          0.2828536990929326,
          0.1408888955375709,
          0.04676007005253941,
          0.0771269773407439,
          0.23945257624507182,
          0.06190519351037795,
          0.29188021672279985,
          0.1932522123893805,
          0.1240532241555783,
          0.3211701323074912,
          0.4693045074444218,
          0.27029712339137013,
          0.2219074598677998,
          0.25989006735310055,
          0.12611764705882353,
          0.3248751248751249,
          0.3244558467208275,
          0.5006901991717609,
          0.1475370055811696,
          0.2393881453154876,
          0.31147481161165547,
          0.19963592233009708,
          0.40065439672801634,
          0.3348544078957147,
          0.32202277516915,
          0.5940828402366863,
          0.35652986276657433,
          0.2825709779179811,
          0.22581903276131046,
          0.36823978753953135,
          0.4501047796383643,
          0.03784415860529393,
          0.23642305407011285,
          0.19559965711613894,
          0.22574308440408336,
          0.3552855767093858,
          0.06012185308656168,
          0.20368198139309987,
          0.26586421708372926,
          0.41096894199875994,
          0.2353531740802791,
          0.28370355022398774,
          0.3274553310755577,
          0.22222285155973434,
          0.08913604555251045,
          0.22622184114116453,
          0.27498720479637345,
          0.1566607460035524,
          0.3066475351835836,
          0.11965460526315788,
          0.2174576741604219,
          0.15305772154381836,
          0.27163575844032334,
          0.31499698855651476,
          0.301408692051207,
          0.20958399691624144,
          0.22798720267074696,
          0.21422558922558924,
          0.36731714008700356,
          0.3273652001323189,
          0.33294298573585224,
          0.34940513462742645,
          0.20108289323929848,
          0.5303497206352974,
          0.1216960658839241,
          0.2667056805338015,
          0.5106662290777814,
          0.030120481927710843,
          0.42012999803033285,
          0.1816460630359728,
          0.21460898586634974,
          0.6847057650109715,
          0.3154996102666458
         ],
         "yaxis": "y"
        },
        {
         "alignmentgroup": "True",
         "hovertemplate": "variable=% of Fire at Moderate Severity<br>Event_ID=%{x}<br>value=%{y}<extra></extra>",
         "legendgroup": "% of Fire at Moderate Severity",
         "marker": {
          "color": "#EF553B",
          "pattern": {
           "shape": ""
          }
         },
         "name": "% of Fire at Moderate Severity",
         "offsetgroup": "% of Fire at Moderate Severity",
         "orientation": "v",
         "showlegend": true,
         "textposition": "auto",
         "type": "bar",
         "x": [
          "CA4080812321419850726",
          "CA4095612245219850718",
          "CA3941712307519870929",
          "CA4009112291519870902",
          "CA4009212322519870831",
          "CA4040412333919870830",
          "CA4044812339819870830",
          "CA4048312320019870830",
          "CA4050112330719870830",
          "CA4052712339819870830",
          "CA4057812346719870830",
          "CA4058812355519870830",
          "CA4060612338819870830",
          "CA4065412339719870830",
          "CA4065812346619870830",
          "CA4083712302219870830",
          "CA4090212304019870830",
          "CA4099312310719870901",
          "CA4105412315719870830",
          "CA4110812319119870830",
          "CA4119312328919870830",
          "CA4119812272519870831",
          "CA4123912321119870830",
          "CA4135112309619870831",
          "CA4141212331619870830",
          "CA4163812338919870830",
          "CA4165612314419870830",
          "CA4174812318019870901",
          "CA4175612352619870830",
          "CA4175812328419870830",
          "CA4179312283119870830",
          "CA4181712327419870830",
          "CA4183412334819870830",
          "CA4184912355119870830",
          "CA4189812322019870830",
          "CA4193012339419870830",
          "CA4199712363419870830",
          "CA4018412304519880928",
          "CA4003612349819900923",
          "CA4050512315819910918",
          "CA4061012305619920820",
          "CA4125912377919920919",
          "CA4072112286319940712",
          "CA4136312315119940919",
          "CA4162312361019940722",
          "CA4172412354619940721",
          "CA4163012357719950801",
          "CA4018912300919960814",
          "CA4069312281619990702",
          "CA4078612244619990823",
          "CA4083812250819990908",
          "CA4084112245519990823",
          "CA4087512243119990823",
          "CA4088012247819990823",
          "CA4088312338819990823",
          "CA4091212248019990823",
          "CA4096712232419990823",
          "CA4097312250819990823",
          "CA4104812343519990823",
          "CA4175212334019990724",
          "CA4033312336620001007",
          "CA4186612288320000721",
          "CA4057812322220010831",
          "CA4074312296820010828",
          "CA4162512353920010915",
          "CA4186812276120010509",
          "CA4127312332120020609",
          "CA4166912331420020722",
          "CA3950412282120030903",
          "CA3963412282820030928",
          "CA4078912330120030914",
          "CA4070212354420040728",
          "CA4074012270320040814",
          "CA4148912327020050920",
          "CA3966212292720060724",
          "CA4074212300420060729",
          "CA4095112320220060902",
          "CA4109112300620060724",
          "CA4133612346520060724",
          "CA4141412317720060723",
          "CA4142612330620060724",
          "CA4160912335520060723",
          "CA4049212334320070829",
          "CA4161712327920070710",
          "CA4168112341420070710",
          "CA4180412341220070710",
          "CA4184212270320070710",
          "CA3937012297720080621",
          "CA3941612307620080621",
          "CA3947712308520080621",
          "CA3954412296820080621",
          "CA3971012317320080704",
          "CA4001712322720080705",
          "CA4012112329420080621",
          "CA4018512311920080621",
          "CA4021212322720080621",
          "CA4042112309620080620",
          "CA4048812292220080621",
          "CA4049512341220080620",
          "CA4063712326820080621",
          "CA4063812276420080621",
          "CA4065912351320080621",
          "CA4071412316220080621",
          "CA4074912336120080621",
          "CA4076312356020080620",
          "CA4078712209120080621",
          "CA4082312342420080621",
          "CA4083712326320080621",
          "CA4086912347920080621",
          "CA4105912302720080621",
          "CA4107312329420080621",
          "CA4150512318420080628",
          "CA4154112338120080722",
          "CA4068412283520090812",
          "CA4107012343620090702",
          "CA4115812340520090705",
          "CA4120212362120091007",
          "CA4156612316620090821",
          "CA4024312331620110923",
          "CA3986612313320120818",
          "CA4054612309020120905",
          "CA4079212335020120711",
          "CA4083812232620120801",
          "CA4188812325320120805",
          "CA4196012323320120805",
          "CA4103512348820130810",
          "CA4130012313520130731",
          "CA4133312337620130731",
          "CA4114112280520140802",
          "CA4126812300220140731",
          "CA4152312316420140813",
          "CA4154812306220140731",
          "CA4179612337420140814",
          "CA4192412288020140730",
          "CA4016812363920150730",
          "CA4034312338320150731",
          "CA4035712344220150731",
          "CA4035812356120150806",
          "CA4038712317320150730",
          "CA4045612355620150806",
          "CA4046512305420150731",
          "CA4049212319820150803",
          "CA4060412308120150731",
          "CA4064212358620150731",
          "CA4068012335620150731",
          "CA4069112352420150610",
          "CA4091312343720150731",
          "CA4146912375220150801",
          "CA4155612377620150802",
          "CA4180012381520150801",
          "CA4162312355820160607",
          "CA4185312311520160828",
          "CA4011512332020170808",
          "CA4018412336320170808",
          "CA4022812303620170913",
          "CA4077112312420170831",
          "CA4083912297820170808",
          "CA4143512316220170626",
          "CA4145212338020170811",
          "CA4154912328620170726",
          "CA4159712349220170725",
          "CA4178612347520170812",
          "CA4194712334920170808",
          "CA4198012316420170811",
          "CA4061612352420180904",
          "CA4089112222820180809",
          "CA4094312242720180905",
          "CA4114012366020180816",
          "CA4195612355120180715",
          "CA4088712301420190905",
          "CA4186612267020190905",
          "CA20200907_20200928_UCM22_OAK_CF00010700",
          "CA20200914_20200928_UCM240_FOX_CF00007241",
          "CA20200909_NA_UCM253_DEVIL_CF00007084",
          "CA20200908_20201212_UCM265_SLATER_CF00007035",
          "CA20200727_20201119_UCM305_RED_SALMON_COMPLEX_CF00000643"
         ],
         "xaxis": "x",
         "y": [
          0.25134943569052937,
          0.1983903420523139,
          0.3794380309300806,
          0.2875836431226766,
          0.3661359790801415,
          0.38818680817696083,
          0.25110418290465053,
          0.42526207756029616,
          0.382247536157686,
          0.2981767897671762,
          0.41667197756675795,
          0.22576400058488086,
          0.31729173581148357,
          0.4390120329322356,
          0.36080760095011877,
          0.29786694825765575,
          0.27028971290301484,
          0.3332406602953953,
          0.385593220338983,
          0.3830523467582475,
          0.3193380208793567,
          0.3062940857297884,
          0.2998533603545714,
          0.24569954128440363,
          0.26875036285674003,
          0.3135402356855159,
          0.46723044397463,
          0.2492966759638256,
          0.47611335115299236,
          0.3814472671285604,
          0.4613829042544917,
          0.36217851739788204,
          0.4228134277232245,
          0.49854495328534226,
          0.3987709032147492,
          0.36787162453627814,
          0.3626795007238721,
          0.3141333951439995,
          0.15722037986132048,
          0.2716394096529717,
          0.33593387593303253,
          0.32366258594667113,
          0.172625,
          0.27299279144916727,
          0.3635214935918925,
          0.30866946045049765,
          0.28391551584077984,
          0.24241133241026733,
          0.2610051577305985,
          0.4146227334763112,
          0.3360275273750426,
          0.31668493929427055,
          0.41964168955145803,
          0.3041074921336848,
          0.23722622889854034,
          0.3356955952900131,
          0.47469423609703354,
          0.37053352912383747,
          0.29104565820724043,
          0.3386481802426344,
          0.32263622657764374,
          0.431701030927835,
          0.34363295880149813,
          0.2667002772876229,
          0.30912334352701326,
          0.5562234794908062,
          0.3419712402636309,
          0.39091039838918457,
          0.3453828011611031,
          0.3480274382812772,
          0.2843160658868465,
          0.26604754395187197,
          0.49757009345794395,
          0.25372621745999036,
          0.36331188217342264,
          0.40167504187604686,
          0.34359848710137175,
          0.4268867924528302,
          0.25959930896121264,
          0.34885357415117574,
          0.3398407667634031,
          0.3288378348903995,
          0.3272990586531499,
          0.3757951394552276,
          0.3937035006656746,
          0.3632569785773903,
          0.3494306199915648,
          0.48922331335288866,
          0.4285231877532643,
          0.3139651498056914,
          0.31306839416967736,
          0.22067141032658275,
          0.22235381199111767,
          0.1611345805672903,
          0.3504312301407172,
          0.31642108461187907,
          0.46694240009731763,
          0.3569725864123957,
          0.3745478004524037,
          0.36368911522206054,
          0.20450763878384512,
          0.34802321363801236,
          0.41661690107974164,
          0.3687303696013654,
          0.34587939623318925,
          0.33047285464098075,
          0.24807182556648139,
          0.33168683252518844,
          0.3094353303725188,
          0.4225545467857666,
          0.43423672566371685,
          0.25649948822927326,
          0.36268001257403587,
          0.29451356312461763,
          0.45363361090083265,
          0.4749763928234183,
          0.31408221723310364,
          0.37568627450980396,
          0.2117882117882118,
          0.3510323132368212,
          0.3219286136856636,
          0.35404028148507644,
          0.4275334608030593,
          0.4114255478314814,
          0.3545711974110033,
          0.26728834355828224,
          0.39218455044071526,
          0.37258291122860204,
          0.27236338322311177,
          0.31138457573609946,
          0.35226077812828605,
          0.4485736572320036,
          0.3708504987753493,
          0.3626737947097637,
          0.19528011055596897,
          0.2887700534759358,
          0.2888796529599709,
          0.330918107751264,
          0.31543077264982594,
          0.21600183929187267,
          0.4370472514975958,
          0.4715095202900081,
          0.2945718956090412,
          0.27367304808337883,
          0.3590949036531083,
          0.29335513254700457,
          0.33648348225032215,
          0.2164542479312455,
          0.3056980279055265,
          0.30821817650069455,
          0.4417051509769094,
          0.3145884110386037,
          0.2308799342105263,
          0.2650568970302526,
          0.29635623559413465,
          0.3790656205420827,
          0.3787726694773473,
          0.3727107861686861,
          0.41768697822095535,
          0.35554319098622894,
          0.46464646464646464,
          0.3483958269878655,
          0.30726926893814094,
          0.3094939119883742,
          0.37420162805259866,
          0.4085326653745601,
          0.32134444045047345,
          0.2549106894441044,
          0.45651388147816657,
          0.19445356087955365,
          0.4795180722891566,
          0.27654126452629507,
          0.5267847199019935,
          0.4452479077646583,
          0.1431418312387792,
          0.3739007272439886
         ],
         "yaxis": "y"
        },
        {
         "alignmentgroup": "True",
         "hovertemplate": "variable=% of Fire at Low Severity<br>Event_ID=%{x}<br>value=%{y}<extra></extra>",
         "legendgroup": "% of Fire at Low Severity",
         "marker": {
          "color": "#00cc96",
          "pattern": {
           "shape": ""
          }
         },
         "name": "% of Fire at Low Severity",
         "offsetgroup": "% of Fire at Low Severity",
         "orientation": "v",
         "showlegend": true,
         "textposition": "auto",
         "type": "bar",
         "x": [
          "CA4080812321419850726",
          "CA4095612245219850718",
          "CA3941712307519870929",
          "CA4009112291519870902",
          "CA4009212322519870831",
          "CA4040412333919870830",
          "CA4044812339819870830",
          "CA4048312320019870830",
          "CA4050112330719870830",
          "CA4052712339819870830",
          "CA4057812346719870830",
          "CA4058812355519870830",
          "CA4060612338819870830",
          "CA4065412339719870830",
          "CA4065812346619870830",
          "CA4083712302219870830",
          "CA4090212304019870830",
          "CA4099312310719870901",
          "CA4105412315719870830",
          "CA4110812319119870830",
          "CA4119312328919870830",
          "CA4119812272519870831",
          "CA4123912321119870830",
          "CA4135112309619870831",
          "CA4141212331619870830",
          "CA4163812338919870830",
          "CA4165612314419870830",
          "CA4174812318019870901",
          "CA4175612352619870830",
          "CA4175812328419870830",
          "CA4179312283119870830",
          "CA4181712327419870830",
          "CA4183412334819870830",
          "CA4184912355119870830",
          "CA4189812322019870830",
          "CA4193012339419870830",
          "CA4199712363419870830",
          "CA4018412304519880928",
          "CA4003612349819900923",
          "CA4050512315819910918",
          "CA4061012305619920820",
          "CA4125912377919920919",
          "CA4072112286319940712",
          "CA4136312315119940919",
          "CA4162312361019940722",
          "CA4172412354619940721",
          "CA4163012357719950801",
          "CA4018912300919960814",
          "CA4069312281619990702",
          "CA4078612244619990823",
          "CA4083812250819990908",
          "CA4084112245519990823",
          "CA4087512243119990823",
          "CA4088012247819990823",
          "CA4088312338819990823",
          "CA4091212248019990823",
          "CA4096712232419990823",
          "CA4097312250819990823",
          "CA4104812343519990823",
          "CA4175212334019990724",
          "CA4033312336620001007",
          "CA4186612288320000721",
          "CA4057812322220010831",
          "CA4074312296820010828",
          "CA4162512353920010915",
          "CA4186812276120010509",
          "CA4127312332120020609",
          "CA4166912331420020722",
          "CA3950412282120030903",
          "CA3963412282820030928",
          "CA4078912330120030914",
          "CA4070212354420040728",
          "CA4074012270320040814",
          "CA4148912327020050920",
          "CA3966212292720060724",
          "CA4074212300420060729",
          "CA4095112320220060902",
          "CA4109112300620060724",
          "CA4133612346520060724",
          "CA4141412317720060723",
          "CA4142612330620060724",
          "CA4160912335520060723",
          "CA4049212334320070829",
          "CA4161712327920070710",
          "CA4168112341420070710",
          "CA4180412341220070710",
          "CA4184212270320070710",
          "CA3937012297720080621",
          "CA3941612307620080621",
          "CA3947712308520080621",
          "CA3954412296820080621",
          "CA3971012317320080704",
          "CA4001712322720080705",
          "CA4012112329420080621",
          "CA4018512311920080621",
          "CA4021212322720080621",
          "CA4042112309620080620",
          "CA4048812292220080621",
          "CA4049512341220080620",
          "CA4063712326820080621",
          "CA4063812276420080621",
          "CA4065912351320080621",
          "CA4071412316220080621",
          "CA4074912336120080621",
          "CA4076312356020080620",
          "CA4078712209120080621",
          "CA4082312342420080621",
          "CA4083712326320080621",
          "CA4086912347920080621",
          "CA4105912302720080621",
          "CA4107312329420080621",
          "CA4150512318420080628",
          "CA4154112338120080722",
          "CA4068412283520090812",
          "CA4107012343620090702",
          "CA4115812340520090705",
          "CA4120212362120091007",
          "CA4156612316620090821",
          "CA4024312331620110923",
          "CA3986612313320120818",
          "CA4054612309020120905",
          "CA4079212335020120711",
          "CA4083812232620120801",
          "CA4188812325320120805",
          "CA4196012323320120805",
          "CA4103512348820130810",
          "CA4130012313520130731",
          "CA4133312337620130731",
          "CA4114112280520140802",
          "CA4126812300220140731",
          "CA4152312316420140813",
          "CA4154812306220140731",
          "CA4179612337420140814",
          "CA4192412288020140730",
          "CA4016812363920150730",
          "CA4034312338320150731",
          "CA4035712344220150731",
          "CA4035812356120150806",
          "CA4038712317320150730",
          "CA4045612355620150806",
          "CA4046512305420150731",
          "CA4049212319820150803",
          "CA4060412308120150731",
          "CA4064212358620150731",
          "CA4068012335620150731",
          "CA4069112352420150610",
          "CA4091312343720150731",
          "CA4146912375220150801",
          "CA4155612377620150802",
          "CA4180012381520150801",
          "CA4162312355820160607",
          "CA4185312311520160828",
          "CA4011512332020170808",
          "CA4018412336320170808",
          "CA4022812303620170913",
          "CA4077112312420170831",
          "CA4083912297820170808",
          "CA4143512316220170626",
          "CA4145212338020170811",
          "CA4154912328620170726",
          "CA4159712349220170725",
          "CA4178612347520170812",
          "CA4194712334920170808",
          "CA4198012316420170811",
          "CA4061612352420180904",
          "CA4089112222820180809",
          "CA4094312242720180905",
          "CA4114012366020180816",
          "CA4195612355120180715",
          "CA4088712301420190905",
          "CA4186612267020190905",
          "CA20200907_20200928_UCM22_OAK_CF00010700",
          "CA20200914_20200928_UCM240_FOX_CF00007241",
          "CA20200909_NA_UCM253_DEVIL_CF00007084",
          "CA20200908_20201212_UCM265_SLATER_CF00007035",
          "CA20200727_20201119_UCM305_RED_SALMON_COMPLEX_CF00000643"
         ],
         "xaxis": "x",
         "y": [
          0.5267978845210185,
          0.1385647216633132,
          0.11206708778043999,
          0.6728624535315985,
          0.4134363944008614,
          0.3967758994839251,
          0.6878409976617302,
          0.24866212154534123,
          0.35594521950595165,
          0.602080233274714,
          0.36109871901089796,
          0.11156601842374617,
          0.6126783936276136,
          0.42592358032510025,
          0.2600610790634543,
          0.4521647307286167,
          0.3955267804590936,
          0.36253692441355345,
          0.3608513539840249,
          0.5282027266104694,
          0.5072648547660225,
          0.35386145776813166,
          0.4231459970672071,
          0.39478211009174313,
          0.5752295328063962,
          0.5402574909429602,
          0.41045001510117785,
          0.6921070742927519,
          0.3293390114619671,
          0.5096633037559256,
          0.4302714474605273,
          0.47738275340393344,
          0.2977468219532618,
          0.4063409404196661,
          0.3473912298313052,
          0.5228625657837978,
          0.251907500880385,
          0.2922292403082807,
          0.7969550798914682,
          0.1533705624252094,
          0.1355796398599924,
          0.519201744088546,
          0.12887500000000002,
          0.314845886154611,
          0.4390004899559039,
          0.32700366684127813,
          0.4361291632818846,
          0.7279795505378635,
          0.21866378793330932,
          0.38081497367907974,
          0.47676481657377373,
          0.6239493239127787,
          0.46737282594481494,
          0.5249596054086233,
          0.6769202162277032,
          0.5576755342346271,
          0.3414419893236029,
          0.2726382770435634,
          0.5210482270822465,
          0.28041594454072793,
          0.30088304975231533,
          0.21134020618556704,
          0.29644194756554304,
          0.20405848248046385,
          0.5164373088685015,
          0.3442362093352192,
          0.30107849011384064,
          0.32705307061699984,
          0.1396044992743106,
          0.3268567847069884,
          0.5683934113153497,
          0.15413819286256641,
          0.26099959366111336,
          0.6086956521739131,
          0.46034631460226894,
          0.358391959798995,
          0.4213206803197617,
          0.4505980458221024,
          0.6526554837271511,
          0.3105025508708145,
          0.4950168015885138,
          0.37514995092515174,
          0.1335264301230992,
          0.3901484260316425,
          0.3531208395332446,
          0.4866920152091255,
          0.4985941234359624,
          0.35696977426348675,
          0.2592300765420982,
          0.5626802055910743,
          0.6098168680702629,
          0.7431125706987776,
          0.7444855662472243,
          0.4156105411386039,
          0.26634135270086245,
          0.6405893969314901,
          0.3445045921780913,
          0.3575685339690107,
          0.5067819724474715,
          0.47178341301184784,
          0.7516260777492059,
          0.5672832789263692,
          0.3953240940947125,
          0.34721061383211776,
          0.5025057220219308,
          0.5921190893169878,
          0.6700128259940146,
          0.4275992809776288,
          0.6209553158705701,
          0.28424732757358323,
          0.3712942477876106,
          0.6188331627430911,
          0.31248657783919553,
          0.235977972669794,
          0.27138531415594247,
          0.30311614730878184,
          0.42602771541379575,
          0.4949019607843137,
          0.2201798201798202,
          0.31695783193859056,
          0.17723328732005522,
          0.4953894685755885,
          0.33307839388145316,
          0.2762238400204353,
          0.44559061488673146,
          0.3303067484662576,
          0.27033012768107967,
          0.30314822346286097,
          0.13317090149669336,
          0.3301526963468849,
          0.36273659305993694,
          0.32549587697793625,
          0.25902534698435636,
          0.18402288932285757,
          0.7578399064526417,
          0.4713408595761537,
          0.5142478634698807,
          0.4314666323167918,
          0.32550559300688936,
          0.7227267502011726,
          0.35670985592636034,
          0.25625593918276846,
          0.2893861676342934,
          0.48691401715515564,
          0.35010681394368515,
          0.3786056288683872,
          0.43869104090851163,
          0.6944097065162441,
          0.46765920960324264,
          0.4162279739709,
          0.4014920071047957,
          0.37688366485834834,
          0.3895970394736842,
          0.22300860394116015,
          0.5501283245876449,
          0.3437589158345221,
          0.30408887104329785,
          0.32466317766084296,
          0.37241456264391715,
          0.41382667964946446,
          0.31555134680134683,
          0.2839731502428522,
          0.36534485610320877,
          0.35750666647854734,
          0.2756418284283031,
          0.3898034696394642,
          0.1447601232624772,
          0.6233932446719714,
          0.27554691130656295,
          0.2948802100426649,
          0.48831325301204814,
          0.3029348040181209,
          0.29145784608531017,
          0.3399155520720083,
          0.1709634949132256,
          0.308507654425062
         ],
         "yaxis": "y"
        }
       ],
       "layout": {
        "barmode": "relative",
        "legend": {
         "title": {
          "text": "variable"
         },
         "tracegroupgap": 0
        },
        "template": {
         "data": {
          "bar": [
           {
            "error_x": {
             "color": "#2a3f5f"
            },
            "error_y": {
             "color": "#2a3f5f"
            },
            "marker": {
             "line": {
              "color": "#E5ECF6",
              "width": 0.5
             },
             "pattern": {
              "fillmode": "overlay",
              "size": 10,
              "solidity": 0.2
             }
            },
            "type": "bar"
           }
          ],
          "barpolar": [
           {
            "marker": {
             "line": {
              "color": "#E5ECF6",
              "width": 0.5
             },
             "pattern": {
              "fillmode": "overlay",
              "size": 10,
              "solidity": 0.2
             }
            },
            "type": "barpolar"
           }
          ],
          "carpet": [
           {
            "aaxis": {
             "endlinecolor": "#2a3f5f",
             "gridcolor": "white",
             "linecolor": "white",
             "minorgridcolor": "white",
             "startlinecolor": "#2a3f5f"
            },
            "baxis": {
             "endlinecolor": "#2a3f5f",
             "gridcolor": "white",
             "linecolor": "white",
             "minorgridcolor": "white",
             "startlinecolor": "#2a3f5f"
            },
            "type": "carpet"
           }
          ],
          "choropleth": [
           {
            "colorbar": {
             "outlinewidth": 0,
             "ticks": ""
            },
            "type": "choropleth"
           }
          ],
          "contour": [
           {
            "colorbar": {
             "outlinewidth": 0,
             "ticks": ""
            },
            "colorscale": [
             [
              0,
              "#0d0887"
             ],
             [
              0.1111111111111111,
              "#46039f"
             ],
             [
              0.2222222222222222,
              "#7201a8"
             ],
             [
              0.3333333333333333,
              "#9c179e"
             ],
             [
              0.4444444444444444,
              "#bd3786"
             ],
             [
              0.5555555555555556,
              "#d8576b"
             ],
             [
              0.6666666666666666,
              "#ed7953"
             ],
             [
              0.7777777777777778,
              "#fb9f3a"
             ],
             [
              0.8888888888888888,
              "#fdca26"
             ],
             [
              1,
              "#f0f921"
             ]
            ],
            "type": "contour"
           }
          ],
          "contourcarpet": [
           {
            "colorbar": {
             "outlinewidth": 0,
             "ticks": ""
            },
            "type": "contourcarpet"
           }
          ],
          "heatmap": [
           {
            "colorbar": {
             "outlinewidth": 0,
             "ticks": ""
            },
            "colorscale": [
             [
              0,
              "#0d0887"
             ],
             [
              0.1111111111111111,
              "#46039f"
             ],
             [
              0.2222222222222222,
              "#7201a8"
             ],
             [
              0.3333333333333333,
              "#9c179e"
             ],
             [
              0.4444444444444444,
              "#bd3786"
             ],
             [
              0.5555555555555556,
              "#d8576b"
             ],
             [
              0.6666666666666666,
              "#ed7953"
             ],
             [
              0.7777777777777778,
              "#fb9f3a"
             ],
             [
              0.8888888888888888,
              "#fdca26"
             ],
             [
              1,
              "#f0f921"
             ]
            ],
            "type": "heatmap"
           }
          ],
          "heatmapgl": [
           {
            "colorbar": {
             "outlinewidth": 0,
             "ticks": ""
            },
            "colorscale": [
             [
              0,
              "#0d0887"
             ],
             [
              0.1111111111111111,
              "#46039f"
             ],
             [
              0.2222222222222222,
              "#7201a8"
             ],
             [
              0.3333333333333333,
              "#9c179e"
             ],
             [
              0.4444444444444444,
              "#bd3786"
             ],
             [
              0.5555555555555556,
              "#d8576b"
             ],
             [
              0.6666666666666666,
              "#ed7953"
             ],
             [
              0.7777777777777778,
              "#fb9f3a"
             ],
             [
              0.8888888888888888,
              "#fdca26"
             ],
             [
              1,
              "#f0f921"
             ]
            ],
            "type": "heatmapgl"
           }
          ],
          "histogram": [
           {
            "marker": {
             "pattern": {
              "fillmode": "overlay",
              "size": 10,
              "solidity": 0.2
             }
            },
            "type": "histogram"
           }
          ],
          "histogram2d": [
           {
            "colorbar": {
             "outlinewidth": 0,
             "ticks": ""
            },
            "colorscale": [
             [
              0,
              "#0d0887"
             ],
             [
              0.1111111111111111,
              "#46039f"
             ],
             [
              0.2222222222222222,
              "#7201a8"
             ],
             [
              0.3333333333333333,
              "#9c179e"
             ],
             [
              0.4444444444444444,
              "#bd3786"
             ],
             [
              0.5555555555555556,
              "#d8576b"
             ],
             [
              0.6666666666666666,
              "#ed7953"
             ],
             [
              0.7777777777777778,
              "#fb9f3a"
             ],
             [
              0.8888888888888888,
              "#fdca26"
             ],
             [
              1,
              "#f0f921"
             ]
            ],
            "type": "histogram2d"
           }
          ],
          "histogram2dcontour": [
           {
            "colorbar": {
             "outlinewidth": 0,
             "ticks": ""
            },
            "colorscale": [
             [
              0,
              "#0d0887"
             ],
             [
              0.1111111111111111,
              "#46039f"
             ],
             [
              0.2222222222222222,
              "#7201a8"
             ],
             [
              0.3333333333333333,
              "#9c179e"
             ],
             [
              0.4444444444444444,
              "#bd3786"
             ],
             [
              0.5555555555555556,
              "#d8576b"
             ],
             [
              0.6666666666666666,
              "#ed7953"
             ],
             [
              0.7777777777777778,
              "#fb9f3a"
             ],
             [
              0.8888888888888888,
              "#fdca26"
             ],
             [
              1,
              "#f0f921"
             ]
            ],
            "type": "histogram2dcontour"
           }
          ],
          "mesh3d": [
           {
            "colorbar": {
             "outlinewidth": 0,
             "ticks": ""
            },
            "type": "mesh3d"
           }
          ],
          "parcoords": [
           {
            "line": {
             "colorbar": {
              "outlinewidth": 0,
              "ticks": ""
             }
            },
            "type": "parcoords"
           }
          ],
          "pie": [
           {
            "automargin": true,
            "type": "pie"
           }
          ],
          "scatter": [
           {
            "fillpattern": {
             "fillmode": "overlay",
             "size": 10,
             "solidity": 0.2
            },
            "type": "scatter"
           }
          ],
          "scatter3d": [
           {
            "line": {
             "colorbar": {
              "outlinewidth": 0,
              "ticks": ""
             }
            },
            "marker": {
             "colorbar": {
              "outlinewidth": 0,
              "ticks": ""
             }
            },
            "type": "scatter3d"
           }
          ],
          "scattercarpet": [
           {
            "marker": {
             "colorbar": {
              "outlinewidth": 0,
              "ticks": ""
             }
            },
            "type": "scattercarpet"
           }
          ],
          "scattergeo": [
           {
            "marker": {
             "colorbar": {
              "outlinewidth": 0,
              "ticks": ""
             }
            },
            "type": "scattergeo"
           }
          ],
          "scattergl": [
           {
            "marker": {
             "colorbar": {
              "outlinewidth": 0,
              "ticks": ""
             }
            },
            "type": "scattergl"
           }
          ],
          "scattermapbox": [
           {
            "marker": {
             "colorbar": {
              "outlinewidth": 0,
              "ticks": ""
             }
            },
            "type": "scattermapbox"
           }
          ],
          "scatterpolar": [
           {
            "marker": {
             "colorbar": {
              "outlinewidth": 0,
              "ticks": ""
             }
            },
            "type": "scatterpolar"
           }
          ],
          "scatterpolargl": [
           {
            "marker": {
             "colorbar": {
              "outlinewidth": 0,
              "ticks": ""
             }
            },
            "type": "scatterpolargl"
           }
          ],
          "scatterternary": [
           {
            "marker": {
             "colorbar": {
              "outlinewidth": 0,
              "ticks": ""
             }
            },
            "type": "scatterternary"
           }
          ],
          "surface": [
           {
            "colorbar": {
             "outlinewidth": 0,
             "ticks": ""
            },
            "colorscale": [
             [
              0,
              "#0d0887"
             ],
             [
              0.1111111111111111,
              "#46039f"
             ],
             [
              0.2222222222222222,
              "#7201a8"
             ],
             [
              0.3333333333333333,
              "#9c179e"
             ],
             [
              0.4444444444444444,
              "#bd3786"
             ],
             [
              0.5555555555555556,
              "#d8576b"
             ],
             [
              0.6666666666666666,
              "#ed7953"
             ],
             [
              0.7777777777777778,
              "#fb9f3a"
             ],
             [
              0.8888888888888888,
              "#fdca26"
             ],
             [
              1,
              "#f0f921"
             ]
            ],
            "type": "surface"
           }
          ],
          "table": [
           {
            "cells": {
             "fill": {
              "color": "#EBF0F8"
             },
             "line": {
              "color": "white"
             }
            },
            "header": {
             "fill": {
              "color": "#C8D4E3"
             },
             "line": {
              "color": "white"
             }
            },
            "type": "table"
           }
          ]
         },
         "layout": {
          "annotationdefaults": {
           "arrowcolor": "#2a3f5f",
           "arrowhead": 0,
           "arrowwidth": 1
          },
          "autotypenumbers": "strict",
          "coloraxis": {
           "colorbar": {
            "outlinewidth": 0,
            "ticks": ""
           }
          },
          "colorscale": {
           "diverging": [
            [
             0,
             "#8e0152"
            ],
            [
             0.1,
             "#c51b7d"
            ],
            [
             0.2,
             "#de77ae"
            ],
            [
             0.3,
             "#f1b6da"
            ],
            [
             0.4,
             "#fde0ef"
            ],
            [
             0.5,
             "#f7f7f7"
            ],
            [
             0.6,
             "#e6f5d0"
            ],
            [
             0.7,
             "#b8e186"
            ],
            [
             0.8,
             "#7fbc41"
            ],
            [
             0.9,
             "#4d9221"
            ],
            [
             1,
             "#276419"
            ]
           ],
           "sequential": [
            [
             0,
             "#0d0887"
            ],
            [
             0.1111111111111111,
             "#46039f"
            ],
            [
             0.2222222222222222,
             "#7201a8"
            ],
            [
             0.3333333333333333,
             "#9c179e"
            ],
            [
             0.4444444444444444,
             "#bd3786"
            ],
            [
             0.5555555555555556,
             "#d8576b"
            ],
            [
             0.6666666666666666,
             "#ed7953"
            ],
            [
             0.7777777777777778,
             "#fb9f3a"
            ],
            [
             0.8888888888888888,
             "#fdca26"
            ],
            [
             1,
             "#f0f921"
            ]
           ],
           "sequentialminus": [
            [
             0,
             "#0d0887"
            ],
            [
             0.1111111111111111,
             "#46039f"
            ],
            [
             0.2222222222222222,
             "#7201a8"
            ],
            [
             0.3333333333333333,
             "#9c179e"
            ],
            [
             0.4444444444444444,
             "#bd3786"
            ],
            [
             0.5555555555555556,
             "#d8576b"
            ],
            [
             0.6666666666666666,
             "#ed7953"
            ],
            [
             0.7777777777777778,
             "#fb9f3a"
            ],
            [
             0.8888888888888888,
             "#fdca26"
            ],
            [
             1,
             "#f0f921"
            ]
           ]
          },
          "colorway": [
           "#636efa",
           "#EF553B",
           "#00cc96",
           "#ab63fa",
           "#FFA15A",
           "#19d3f3",
           "#FF6692",
           "#B6E880",
           "#FF97FF",
           "#FECB52"
          ],
          "font": {
           "color": "#2a3f5f"
          },
          "geo": {
           "bgcolor": "white",
           "lakecolor": "white",
           "landcolor": "#E5ECF6",
           "showlakes": true,
           "showland": true,
           "subunitcolor": "white"
          },
          "hoverlabel": {
           "align": "left"
          },
          "hovermode": "closest",
          "mapbox": {
           "style": "light"
          },
          "paper_bgcolor": "white",
          "plot_bgcolor": "#E5ECF6",
          "polar": {
           "angularaxis": {
            "gridcolor": "white",
            "linecolor": "white",
            "ticks": ""
           },
           "bgcolor": "#E5ECF6",
           "radialaxis": {
            "gridcolor": "white",
            "linecolor": "white",
            "ticks": ""
           }
          },
          "scene": {
           "xaxis": {
            "backgroundcolor": "#E5ECF6",
            "gridcolor": "white",
            "gridwidth": 2,
            "linecolor": "white",
            "showbackground": true,
            "ticks": "",
            "zerolinecolor": "white"
           },
           "yaxis": {
            "backgroundcolor": "#E5ECF6",
            "gridcolor": "white",
            "gridwidth": 2,
            "linecolor": "white",
            "showbackground": true,
            "ticks": "",
            "zerolinecolor": "white"
           },
           "zaxis": {
            "backgroundcolor": "#E5ECF6",
            "gridcolor": "white",
            "gridwidth": 2,
            "linecolor": "white",
            "showbackground": true,
            "ticks": "",
            "zerolinecolor": "white"
           }
          },
          "shapedefaults": {
           "line": {
            "color": "#2a3f5f"
           }
          },
          "ternary": {
           "aaxis": {
            "gridcolor": "white",
            "linecolor": "white",
            "ticks": ""
           },
           "baxis": {
            "gridcolor": "white",
            "linecolor": "white",
            "ticks": ""
           },
           "bgcolor": "#E5ECF6",
           "caxis": {
            "gridcolor": "white",
            "linecolor": "white",
            "ticks": ""
           }
          },
          "title": {
           "x": 0.05
          },
          "xaxis": {
           "automargin": true,
           "gridcolor": "white",
           "linecolor": "white",
           "ticks": "",
           "title": {
            "standoff": 15
           },
           "zerolinecolor": "white",
           "zerolinewidth": 2
          },
          "yaxis": {
           "automargin": true,
           "gridcolor": "white",
           "linecolor": "white",
           "ticks": "",
           "title": {
            "standoff": 15
           },
           "zerolinecolor": "white",
           "zerolinewidth": 2
          }
         }
        },
        "title": {
         "text": "Klamath Mountains/California High North Coast Range"
        },
        "xaxis": {
         "anchor": "y",
         "domain": [
          0,
          1
         ],
         "title": {
          "text": "Event_ID"
         }
        },
        "yaxis": {
         "anchor": "x",
         "domain": [
          0,
          1
         ],
         "title": {
          "text": "value"
         }
        }
       }
      }
     },
     "metadata": {},
     "output_type": "display_data"
    }
   ],
   "source": [
    "fig = px.bar(single_region_fires[single_region_fires['US_L3NAME']=='Klamath Mountains/California High North Coast Range'], x=\"Event_ID\", y=[ '% of Fire at High Severity',\n",
    "       '% of Fire at Moderate Severity', '% of Fire at Low Severity',], title='Klamath Mountains/California High North Coast Range')\n",
    "fig.show()"
   ]
  },
  {
   "cell_type": "code",
   "execution_count": null,
   "metadata": {},
   "outputs": [
    {
     "data": {
      "text/plain": [
       "array([1985, 1987, 1988, 1990, 1991, 1992, 1994, 1995, 1996, 1999, 2000,\n",
       "       2001, 2002, 2003, 2004, 2005, 2006, 2007, 2008, 2009, 2011, 2012,\n",
       "       2013, 2014, 2015, 2016, 2017, 2018, 2019, 2020])"
      ]
     },
     "execution_count": 217,
     "metadata": {},
     "output_type": "execute_result"
    }
   ],
   "source": [
    "len(temp['Fire_Year'].unique())\n",
    "temp['Fire_Year'].unique()"
   ]
  },
  {
   "cell_type": "code",
   "execution_count": null,
   "metadata": {},
   "outputs": [
    {
     "data": {
      "image/png": "[encoded data removed]",
      "text/plain": [
       "<Figure size 864x864 with 30 Axes>"
      ]
     },
     "metadata": {
      "needs_background": "light"
     },
     "output_type": "display_data"
    }
   ],
   "source": [
    "rows = 6\n",
    "cols = 5\n",
    "fig, ax = plt.subplots(rows, cols, figsize=[12,12])\n",
    "\n",
    "k = 0\n",
    "years = temp['Fire_Year'].unique()\n",
    "for i in range(rows):\n",
    "    for j in range(cols):\n",
    "        year = years[k]\n",
    "        _ = temp[temp['Fire_Year']==year]\n",
    "        _[[ '% of Fire at High Severity',\n",
    "       '% of Fire at Moderate Severity', '% of Fire at Low Severity', 'id']].plot(kind='bar', stacked=True, ax=ax[i,j], legend=False, title=year)\n",
    "        k += 1\n",
    "\n",
    "plt.show()\n",
    "\n",
    "\n"
   ]
  },
  {
   "cell_type": "code",
   "execution_count": null,
   "metadata": {},
   "outputs": [],
   "source": []
  },
  {
   "cell_type": "code",
   "execution_count": null,
   "metadata": {},
   "outputs": [],
   "source": []
  }
 ],
 "metadata": {
  "kernelspec": {
   "display_name": "spatial2",
   "language": "python",
   "name": "python3"
  },
  "language_info": {
   "codemirror_mode": {
    "name": "ipython",
    "version": 3
   },
   "file_extension": ".py",
   "mimetype": "text/x-python",
   "name": "python",
   "nbconvert_exporter": "python",
   "pygments_lexer": "ipython3",
   "version": "3.9.7"
  },
  "orig_nbformat": 4,
  "vscode": {
   "interpreter": {
    "hash": "65295c723ed676e68783ca84739a377d5c21ee58eebc706b46a431e1cd4e3ae3"
   }
  }
 },
 "nbformat": 4,
 "nbformat_minor": 2
}
