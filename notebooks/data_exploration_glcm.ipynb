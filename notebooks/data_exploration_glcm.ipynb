{
 "cells": [
  {
   "cell_type": "code",
   "execution_count": null,
   "id": "b80ea82e",
   "metadata": {},
   "outputs": [],
   "source": [
    "import numpy as np, pandas as pd, matplotlib.pyplot as plt\n",
    "import pandas as pd\n",
    "import tqdm\n",
    "from multiprocessing import Pool\n",
    "\n",
    "import scipy\n",
    "\n",
    "from skimage.io import imread\n",
    "from skimage.feature import greycomatrix, greycoprops\n",
    "from skimage import filters\n",
    "from skimage import measure\n",
    "\n",
    "import rasterio, os, glob, warnings, time\n",
    "import numpy as np\n",
    "import pandas as pd\n",
    "\n",
    "import matplotlib.pyplot as plt\n",
    "import matplotlib\n",
    "%matplotlib inline\n",
    "plt.rcParams['font.size'] = 18\n",
    "import seaborn as sns\n",
    "\n",
    "import rioxarray as rx\n",
    "\n",
    "from sklearn.model_selection import train_test_split\n",
    "from sklearn.ensemble import RandomForestClassifier\n",
    "from sklearn.metrics import confusion_matrix, classification_report\n",
    "from sklearn import metrics\n",
    "from sklearn.inspection import permutation_importance \n",
    "\n",
    "from sampling import *\n",
    "from utils import *\n",
    "\n",
    "warnings.filterwarnings(\"ignore\")\n",
    "plt.rcParams[\"figure.autolayout\"] = True"
   ]
  },
  {
   "cell_type": "code",
   "execution_count": null,
   "id": "b31c178c",
   "metadata": {},
   "outputs": [],
   "source": [
    "# Input image paths\n",
    "basepath = 'D:\\Berkeley\\Research\\ExplainableWildfire\\datasets'\n",
    "os.chdir(basepath)\n",
    "\n",
    "img_train = sorted(glob.glob('s2*.tif'))\n",
    "dem_train = sorted(glob.glob('dem*.tif'))\n",
    "slope_train = sorted(glob.glob('slope*.tif'))\n",
    "aoi_train = sorted(glob.glob('fire*.tif'))\n",
    "lulc_train = sorted(glob.glob('lulc*.tif'))\n",
    "\n",
    "# Weather data\n",
    "rmin_train = sorted(glob.glob('rmin*.tif'))\n",
    "rmax_train = sorted(glob.glob('rmax*.tif'))\n",
    "tmmn_train = sorted(glob.glob('tmmn*.tif'))\n",
    "tmmx_train = sorted(glob.glob('tmmx*.tif'))\n",
    "vs_train = sorted(glob.glob('vs*.tif'))\n"
   ]
  },
  {
   "cell_type": "code",
   "execution_count": null,
   "id": "d321d5a0",
   "metadata": {},
   "outputs": [],
   "source": [
    "img_train, dem_train, slope_train, lulc_train, aoi_train = paths(basepath)"
   ]
  },
  {
   "cell_type": "code",
   "execution_count": null,
   "id": "de3968e8",
   "metadata": {},
   "outputs": [],
   "source": [
    "paths_df = pd.DataFrame(data={'s2':img_train, 'slope': slope_train, \"lulc\":lulc_train, 'aoi':aoi_train, 'dem': dem_train})\n",
    "print('Number of fires:', paths_df.shape[0])\n",
    "paths_df.head()"
   ]
  },
  {
   "cell_type": "code",
   "execution_count": null,
   "id": "fb626806",
   "metadata": {},
   "outputs": [],
   "source": [
    "idx = np.random.randint(paths_df.shape[0])\n",
    "idx"
   ]
  },
  {
   "cell_type": "code",
   "execution_count": null,
   "id": "03f83edf",
   "metadata": {},
   "outputs": [],
   "source": [
    "_ = paths_df.iloc[idx]\n",
    "\n",
    "_s2_b = rx.open_rasterio(_['s2'])[0].to_numpy()\n",
    "_s2_g = rx.open_rasterio(_['s2'])[1].to_numpy()\n",
    "_s2_r = rx.open_rasterio(_['s2'])[2].to_numpy()\n",
    "_s2_n = rx.open_rasterio(_['s2'])[3].to_numpy()\n",
    "_slope = rx.open_rasterio(_['slope']).to_numpy()[0]\n",
    "_dem = rx.open_rasterio(_['dem']).to_numpy()[0]\n",
    "\n",
    "x, y = np.gradient(_dem)\n",
    "_aspect = np.arctan2(-x, y)\n",
    "\n",
    "_lulc = rx.open_rasterio(_['lulc']).to_numpy()[0]\n",
    "_aoi = rx.open_rasterio(_['aoi']).to_numpy()[0]\n",
    "\n",
    "_ndvi = (_s2_n/65535-_s2_r/65535)/(_s2_n/65535+_s2_r/65535)\n",
    "\n",
    "_savi = (_s2_n/65535-_s2_r/65535)/(_s2_n/65535+_s2_r/65535+0.5)*(1+0.5)"
   ]
  },
  {
   "cell_type": "code",
   "execution_count": null,
   "id": "465c6ac3",
   "metadata": {},
   "outputs": [],
   "source": [
    "# from skimage.feature import greycomatrix, greycoprops\n",
    "# from multiprocessing import Pool\n",
    "\n",
    "# def glcm_props(patch):\n",
    "#     lf = []\n",
    "#     props = ['dissimilarity', 'contrast', 'homogeneity', 'energy', 'correlation']\n",
    "\n",
    "#     # left nearest neighbor\n",
    "#     glcm = greycomatrix(patch, [3], [0], 256, symmetric=True, normed=True)\n",
    "#     for f in props:\n",
    "#         lf.append( greycoprops(glcm, f)[0,0] )\n",
    "\n",
    "#     # upper nearest neighbor\n",
    "#     glcm = greycomatrix(patch, [3], [np.pi/2], 256, symmetric=True, normed=True)\n",
    "#     for f in props:\n",
    "#         lf.append( greycoprops(glcm, f)[0,0] )\n",
    "        \n",
    "#     return lf\n",
    "\n",
    "# def patch_gen(img, PAD=4):\n",
    "#     img1 = (img * 255).astype(np.uint8)\n",
    "\n",
    "# #     W = 512\n",
    "#     W, H = img.shape[0], img.shape[1]\n",
    "#     imgx = np.zeros((W+PAD*2, H+PAD*2), dtype=img1.dtype)\n",
    "#     imgx[PAD:W+PAD,PAD:H+PAD] = img1\n",
    "#     imgx[:PAD,  PAD:H+PAD] = img1[PAD:0:-1,:]\n",
    "#     imgx[-PAD:, PAD:H+PAD] = img1[W-1:-PAD-1:-1,:]\n",
    "#     imgx[:, :PAD ] = imgx[:, PAD*2:PAD:-1]\n",
    "#     imgx[:, -PAD:] = imgx[:, H+PAD-1:-PAD*2-1:-1]\n",
    "\n",
    "#     xx, yy = np.meshgrid(np.arange(0, W), np.arange(0, W))\n",
    "#     xx, yy = xx.flatten() + PAD, yy.flatten() + PAD\n",
    "\n",
    "#     for x, y in zip(xx, yy):\n",
    "#         patch = imgx[y-PAD:y+PAD+1, x-PAD:x+PAD+1]\n",
    "#         return patch\n",
    "\n",
    "# def glcm_feature(img, verbose=False):\n",
    "    \n",
    "# #     W, NF, PAD = 512, 10, 4\n",
    "    \n",
    "#     W, H, NF, PAD = img.shape[0], img.shape[1], 10, 4\n",
    "\n",
    "#     if img.sum() == 0:\n",
    "#         return np.zeros((W,H,NF), dtype=np.float32)\n",
    "    \n",
    "#     l = []\n",
    "#     with Pool(10) as pool:\n",
    "#         for p in tqdm.tqdm(pool.map(glcm_props, patch_gen(img, PAD)), total=W*H, disable=not verbose):\n",
    "#             l.append(p)\n",
    "        \n",
    "#     fimg = np.array(l, dtype=np.float32).reshape(img.shape[0], img.shape[1], -1)\n",
    "#     return fimg"
   ]
  },
  {
   "cell_type": "code",
   "execution_count": 1,
   "id": "b160cf63",
   "metadata": {},
   "outputs": [],
   "source": [
    "import glcm_feature"
   ]
  },
  {
   "cell_type": "code",
   "execution_count": null,
   "id": "f6a0971c",
   "metadata": {},
   "outputs": [],
   "source": [
    "_ndvi.shape"
   ]
  },
  {
   "cell_type": "code",
   "execution_count": null,
   "id": "d5f046ee",
   "metadata": {},
   "outputs": [],
   "source": [
    "glcm_feature(_ndvi)"
   ]
  },
  {
   "cell_type": "code",
   "execution_count": null,
   "id": "6b5c7376",
   "metadata": {},
   "outputs": [],
   "source": []
  }
 ],
 "metadata": {
  "kernelspec": {
   "display_name": "wildfire1",
   "language": "python",
   "name": "python3"
  },
  "language_info": {
   "codemirror_mode": {
    "name": "ipython",
    "version": 3
   },
   "file_extension": ".py",
   "mimetype": "text/x-python",
   "name": "python",
   "nbconvert_exporter": "python",
   "pygments_lexer": "ipython3",
   "version": "3.9.7 | packaged by conda-forge | (default, Sep 29 2021, 19:15:42) [MSC v.1916 64 bit (AMD64)]"
  },
  "vscode": {
   "interpreter": {
    "hash": "19e9fb64b5b6fed07b59bc8a46f1a70ceecee66c1452ff4c85933f4ba14111f6"
   }
  }
 },
 "nbformat": 4,
 "nbformat_minor": 5
}
